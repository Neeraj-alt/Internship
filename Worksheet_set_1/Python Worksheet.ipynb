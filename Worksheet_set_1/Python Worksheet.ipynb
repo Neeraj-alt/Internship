{
 "cells": [
  {
   "cell_type": "code",
   "execution_count": null,
   "id": "6c221729",
   "metadata": {},
   "outputs": [],
   "source": [
    "#Python Worksheet"
   ]
  },
  {
   "cell_type": "code",
   "execution_count": null,
   "id": "848674eb",
   "metadata": {},
   "outputs": [],
   "source": [
    "#1.(C)  \n",
    "#2.(B) \n",
    "#3.(C)  \n",
    "#4.(A)  \n",
    "#5.(C)  \n",
    "#6.(C)\n",
    "#7.(A) \n",
    "#8.(C)  \n",
    "#9.(A)  \n",
    "#10.(A) "
   ]
  },
  {
   "cell_type": "code",
   "execution_count": null,
   "id": "dc310c38",
   "metadata": {},
   "outputs": [],
   "source": [
    "Q11 to Q15 are programming questions."
   ]
  },
  {
   "cell_type": "code",
   "execution_count": null,
   "id": "a321cd1a",
   "metadata": {},
   "outputs": [],
   "source": [
    "#11.Write a python program to find the factorial of a number."
   ]
  },
  {
   "cell_type": "code",
   "execution_count": 17,
   "id": "2e30579c",
   "metadata": {},
   "outputs": [
    {
     "name": "stdout",
     "output_type": "stream",
     "text": [
      "Enter the Value4\n",
      "The Factorial of 4 is 24\n"
     ]
    }
   ],
   "source": [
    "num=int(input('Enter the Value'))\n",
    "a=1\n",
    "if a<1:\n",
    "    print('The entered value is a negative value')\n",
    "elif a==0:\n",
    "    print('The entered value is Zero')\n",
    "else:\n",
    "    for i in range(1,num+1):\n",
    "        a=a*i\n",
    "    print('The Factorial of',num,'is',a)"
   ]
  },
  {
   "cell_type": "code",
   "execution_count": null,
   "id": "c23caa26",
   "metadata": {},
   "outputs": [],
   "source": [
    "#12. Write a python program to find whether a number is prime or composite."
   ]
  },
  {
   "cell_type": "code",
   "execution_count": 18,
   "id": "f462c3ba",
   "metadata": {},
   "outputs": [
    {
     "name": "stdout",
     "output_type": "stream",
     "text": [
      "Please enter the number: 47\n",
      "47 is a prime number\n"
     ]
    }
   ],
   "source": [
    "num = int(input(\"Please enter the number: \"))\n",
    "if num > 1:\n",
    "    for i in range(2, int(num/2)+1):\n",
    "        if (num % i) == 0:\n",
    "            print(num, \"is not a prime number\")\n",
    "            break\n",
    "        else:\n",
    "            print(num, \"is a prime number\")\n",
    "            break\n",
    "else:\n",
    "    print(num, \"is not a prime number\")"
   ]
  },
  {
   "cell_type": "code",
   "execution_count": null,
   "id": "0a814f36",
   "metadata": {},
   "outputs": [],
   "source": [
    "#13. Write a python program to check whether a given string is palindrome or not."
   ]
  },
  {
   "cell_type": "code",
   "execution_count": 14,
   "id": "688d5be2",
   "metadata": {},
   "outputs": [
    {
     "name": "stdout",
     "output_type": "stream",
     "text": [
      "Please enter your own String : hello\n",
      "String in reverse Order :   olleh\n",
      "This is Not a Palindrome String\n"
     ]
    }
   ],
   "source": [
    "string = input(\"Please enter your own String : \")\n",
    "str1 = \"\"\n",
    "for i in string:\n",
    "    str1 = i + str1\n",
    "print(\"String in reverse Order :  \", str1)\n",
    "if(string == str1):\n",
    "    print(\"This is a Palindrome String\")\n",
    "else:\n",
    "    print(\"This is Not a Palindrome String\")"
   ]
  },
  {
   "cell_type": "code",
   "execution_count": null,
   "id": "d36fbaef",
   "metadata": {},
   "outputs": [],
   "source": [
    "#14. Write a Python program to get the third side of right-angled triangle from two given sides."
   ]
  },
  {
   "cell_type": "code",
   "execution_count": 13,
   "id": "b3131601",
   "metadata": {},
   "outputs": [
    {
     "name": "stdout",
     "output_type": "stream",
     "text": [
      "Length of the first side 45\n",
      "Length of the second side 23\n",
      "The length of the third side of right-angled triangle =  50.53711507397311\n"
     ]
    }
   ],
   "source": [
    "from math import sqrt\n",
    "a= float(input('Length of the first side '))\n",
    "b= float(input('Length of the second side '))\n",
    "c=sqrt(a**2 + b**2)\n",
    "print (\"The length of the third side of right-angled triangle = \",c)"
   ]
  },
  {
   "cell_type": "code",
   "execution_count": null,
   "id": "d330d1df",
   "metadata": {},
   "outputs": [],
   "source": [
    "#15.Write a python program to print the frequency of each of the characters present in a given string."
   ]
  },
  {
   "cell_type": "code",
   "execution_count": 2,
   "id": "39054e99",
   "metadata": {},
   "outputs": [
    {
     "name": "stdout",
     "output_type": "stream",
     "text": [
      "Enter a string hello\n",
      "String is  hello\n",
      "{'h': 1, 'e': 1, 'l': 2, 'o': 1}\n"
     ]
    }
   ],
   "source": [
    "\n",
    "a=input(\"Enter a string \")\n",
    "print(\"String is \",a)\n",
    "count={}\n",
    "for i in a:\n",
    "    if i in count.keys():\n",
    "        count[i]=count[i]+1\n",
    "    else:\n",
    "        count[i]=1\n",
    "        \n",
    "print(count)"
   ]
  },
  {
   "cell_type": "code",
   "execution_count": null,
   "id": "3c0fcc7e",
   "metadata": {},
   "outputs": [],
   "source": []
  }
 ],
 "metadata": {
  "kernelspec": {
   "display_name": "Python 3",
   "language": "python",
   "name": "python3"
  },
  "language_info": {
   "codemirror_mode": {
    "name": "ipython",
    "version": 3
   },
   "file_extension": ".py",
   "mimetype": "text/x-python",
   "name": "python",
   "nbconvert_exporter": "python",
   "pygments_lexer": "ipython3",
   "version": "3.8.8"
  }
 },
 "nbformat": 4,
 "nbformat_minor": 5
}
