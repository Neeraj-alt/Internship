{
 "cells": [
  {
   "cell_type": "markdown",
   "id": "7c6a72dc",
   "metadata": {},
   "source": [
    "# Q1: Write a python program to scrape data for “Data Analyst” Job position in “Bangalore” location. You have to scrape the job-title, job-location, company_name, experience_required. You have to scrape first 10 jobs data."
   ]
  },
  {
   "cell_type": "code",
   "execution_count": 2,
   "id": "418f4bbf",
   "metadata": {},
   "outputs": [
    {
     "name": "stdout",
     "output_type": "stream",
     "text": [
      "Requirement already satisfied: selenium in e:\\anaconda\\lib\\site-packages (4.0.0)\n",
      "Requirement already satisfied: urllib3[secure]~=1.26 in e:\\anaconda\\lib\\site-packages (from selenium) (1.26.4)\n",
      "Requirement already satisfied: trio-websocket~=0.9 in e:\\anaconda\\lib\\site-packages (from selenium) (0.9.2)\n",
      "Requirement already satisfied: trio~=0.17 in e:\\anaconda\\lib\\site-packages (from selenium) (0.19.0)\n",
      "Requirement already satisfied: async-generator>=1.9 in e:\\anaconda\\lib\\site-packages (from trio~=0.17->selenium) (1.10)\n",
      "Requirement already satisfied: outcome in e:\\anaconda\\lib\\site-packages (from trio~=0.17->selenium) (1.1.0)\n",
      "Requirement already satisfied: sortedcontainers in e:\\anaconda\\lib\\site-packages (from trio~=0.17->selenium) (2.3.0)\n",
      "Requirement already satisfied: cffi>=1.14 in e:\\anaconda\\lib\\site-packages (from trio~=0.17->selenium) (1.14.5)\n",
      "Requirement already satisfied: sniffio in e:\\anaconda\\lib\\site-packages (from trio~=0.17->selenium) (1.2.0)\n",
      "Requirement already satisfied: idna in e:\\anaconda\\lib\\site-packages (from trio~=0.17->selenium) (2.10)\n",
      "Requirement already satisfied: attrs>=19.2.0 in e:\\anaconda\\lib\\site-packages (from trio~=0.17->selenium) (20.3.0)\n",
      "Requirement already satisfied: pycparser in e:\\anaconda\\lib\\site-packages (from cffi>=1.14->trio~=0.17->selenium) (2.20)\n",
      "Requirement already satisfied: wsproto>=0.14 in e:\\anaconda\\lib\\site-packages (from trio-websocket~=0.9->selenium) (1.0.0)\n",
      "Requirement already satisfied: certifi in e:\\anaconda\\lib\\site-packages (from urllib3[secure]~=1.26->selenium) (2020.12.5)\n",
      "Requirement already satisfied: pyOpenSSL>=0.14 in e:\\anaconda\\lib\\site-packages (from urllib3[secure]~=1.26->selenium) (20.0.1)\n",
      "Requirement already satisfied: cryptography>=1.3.4 in e:\\anaconda\\lib\\site-packages (from urllib3[secure]~=1.26->selenium) (3.4.7)\n",
      "Requirement already satisfied: six>=1.5.2 in e:\\anaconda\\lib\\site-packages (from pyOpenSSL>=0.14->urllib3[secure]~=1.26->selenium) (1.15.0)\n",
      "Requirement already satisfied: h11<1,>=0.9.0 in e:\\anaconda\\lib\\site-packages (from wsproto>=0.14->trio-websocket~=0.9->selenium) (0.12.0)\n"
     ]
    }
   ],
   "source": [
    "!pip install selenium"
   ]
  },
  {
   "cell_type": "code",
   "execution_count": 3,
   "id": "27309a44",
   "metadata": {},
   "outputs": [],
   "source": [
    "import selenium\n",
    "import pandas as pd\n",
    "from selenium import webdriver"
   ]
  },
  {
   "cell_type": "code",
   "execution_count": 4,
   "id": "8e72b554",
   "metadata": {},
   "outputs": [
    {
     "name": "stderr",
     "output_type": "stream",
     "text": [
      "<ipython-input-4-94b7577081e5>:1: DeprecationWarning: executable_path has been deprecated, please pass in a Service object\n",
      "  driver=webdriver.Chrome(r'C:\\Users\\Neeraj Kumar\\Downloads\\chromedriver_win32\\chromedriver.exe')\n"
     ]
    }
   ],
   "source": [
    "driver=webdriver.Chrome(r'C:\\Users\\Neeraj Kumar\\Downloads\\chromedriver_win32\\chromedriver.exe')"
   ]
  },
  {
   "cell_type": "code",
   "execution_count": 5,
   "id": "46eb25b4",
   "metadata": {},
   "outputs": [],
   "source": [
    "url='https://www.naukri.com/'\n",
    "driver.get(url)#accessing the website using driver"
   ]
  },
  {
   "cell_type": "code",
   "execution_count": 6,
   "id": "fa2c594a",
   "metadata": {},
   "outputs": [
    {
     "name": "stderr",
     "output_type": "stream",
     "text": [
      "<ipython-input-6-4cb697a1a3bf>:1: DeprecationWarning: find_element_by_* commands are deprecated. Please use find_element() instead\n",
      "  jobsearch=driver.find_element_by_id('qsb-keyword-sugg')\n"
     ]
    }
   ],
   "source": [
    "jobsearch=driver.find_element_by_id('qsb-keyword-sugg')"
   ]
  },
  {
   "cell_type": "code",
   "execution_count": 7,
   "id": "af5c016d",
   "metadata": {},
   "outputs": [],
   "source": [
    "jobsearch.send_keys('Data Analyst')#entering the job title"
   ]
  },
  {
   "cell_type": "code",
   "execution_count": 8,
   "id": "bf16575a",
   "metadata": {},
   "outputs": [
    {
     "name": "stderr",
     "output_type": "stream",
     "text": [
      "<ipython-input-8-b05e898732e6>:1: DeprecationWarning: find_element_by_* commands are deprecated. Please use find_element() instead\n",
      "  joblocation=driver.find_element_by_id('qsb-location-sugg')\n"
     ]
    }
   ],
   "source": [
    "joblocation=driver.find_element_by_id('qsb-location-sugg')\n",
    "joblocation.send_keys('Bangalore')#specifying the location"
   ]
  },
  {
   "cell_type": "code",
   "execution_count": 9,
   "id": "ec930205",
   "metadata": {},
   "outputs": [
    {
     "name": "stderr",
     "output_type": "stream",
     "text": [
      "<ipython-input-9-a43f94f248b2>:1: DeprecationWarning: find_element_by_* commands are deprecated. Please use find_element() instead\n",
      "  searchbutton=driver.find_element_by_xpath('//button[@class=\"btn\"]')\n"
     ]
    }
   ],
   "source": [
    "searchbutton=driver.find_element_by_xpath('//button[@class=\"btn\"]')\n",
    "searchbutton.click()#clicking on search to get the required result"
   ]
  },
  {
   "cell_type": "code",
   "execution_count": 10,
   "id": "3229ab6a",
   "metadata": {},
   "outputs": [
    {
     "name": "stderr",
     "output_type": "stream",
     "text": [
      "<ipython-input-10-64a631d5ef5e>:1: DeprecationWarning: find_elements_by_* commands are deprecated. Please use find_elements() instead\n",
      "  jobtitle=driver.find_elements_by_xpath('//div[@class=\"info fleft\"]/a')\n"
     ]
    },
    {
     "data": {
      "text/plain": [
       "[<selenium.webdriver.remote.webelement.WebElement (session=\"4b7e796a3703caabd938314dd22d63c4\", element=\"b8970a1c-1268-4838-a69c-2674df2952fd\")>,\n",
       " <selenium.webdriver.remote.webelement.WebElement (session=\"4b7e796a3703caabd938314dd22d63c4\", element=\"8fe59ae3-0afe-4db6-a426-caea8530004f\")>,\n",
       " <selenium.webdriver.remote.webelement.WebElement (session=\"4b7e796a3703caabd938314dd22d63c4\", element=\"8c8b3e5c-2dbf-427c-be52-42264bd94f8a\")>,\n",
       " <selenium.webdriver.remote.webelement.WebElement (session=\"4b7e796a3703caabd938314dd22d63c4\", element=\"5ade33f9-c9a9-4ebf-8cc1-1467f4f19247\")>,\n",
       " <selenium.webdriver.remote.webelement.WebElement (session=\"4b7e796a3703caabd938314dd22d63c4\", element=\"3c090763-e838-42db-8a84-7b88b05c014e\")>,\n",
       " <selenium.webdriver.remote.webelement.WebElement (session=\"4b7e796a3703caabd938314dd22d63c4\", element=\"72c4ec53-6b61-4085-a816-a4fad26e92d2\")>,\n",
       " <selenium.webdriver.remote.webelement.WebElement (session=\"4b7e796a3703caabd938314dd22d63c4\", element=\"35d63ca1-dc7c-496f-8b2d-c6aba0a0165b\")>,\n",
       " <selenium.webdriver.remote.webelement.WebElement (session=\"4b7e796a3703caabd938314dd22d63c4\", element=\"63f6877e-1aee-46ae-81b5-1e9b78d75adb\")>,\n",
       " <selenium.webdriver.remote.webelement.WebElement (session=\"4b7e796a3703caabd938314dd22d63c4\", element=\"df900424-1118-4121-b578-29451fee46b0\")>,\n",
       " <selenium.webdriver.remote.webelement.WebElement (session=\"4b7e796a3703caabd938314dd22d63c4\", element=\"ded9eac3-2def-45ec-8845-ab24cc9fe1d8\")>,\n",
       " <selenium.webdriver.remote.webelement.WebElement (session=\"4b7e796a3703caabd938314dd22d63c4\", element=\"89394d1b-ff60-4833-9d08-eb50f64789df\")>,\n",
       " <selenium.webdriver.remote.webelement.WebElement (session=\"4b7e796a3703caabd938314dd22d63c4\", element=\"fab9923f-4d01-444f-a38e-e3ed88851217\")>,\n",
       " <selenium.webdriver.remote.webelement.WebElement (session=\"4b7e796a3703caabd938314dd22d63c4\", element=\"8aac5ca8-fa9e-45b7-ae58-50894fd2446f\")>,\n",
       " <selenium.webdriver.remote.webelement.WebElement (session=\"4b7e796a3703caabd938314dd22d63c4\", element=\"2d3a34dd-43a9-42f7-9101-f9af7a9ef04d\")>,\n",
       " <selenium.webdriver.remote.webelement.WebElement (session=\"4b7e796a3703caabd938314dd22d63c4\", element=\"97bd9697-6dba-4fad-9bf0-dc859fb63ceb\")>,\n",
       " <selenium.webdriver.remote.webelement.WebElement (session=\"4b7e796a3703caabd938314dd22d63c4\", element=\"532a47b4-32bd-4c2f-ad9a-25aacd5cfacc\")>,\n",
       " <selenium.webdriver.remote.webelement.WebElement (session=\"4b7e796a3703caabd938314dd22d63c4\", element=\"11117018-eb75-4c77-8212-3ee433367408\")>,\n",
       " <selenium.webdriver.remote.webelement.WebElement (session=\"4b7e796a3703caabd938314dd22d63c4\", element=\"9f15d5b1-518b-43e6-aef3-edf6c57bd6b4\")>,\n",
       " <selenium.webdriver.remote.webelement.WebElement (session=\"4b7e796a3703caabd938314dd22d63c4\", element=\"ad2de620-927b-4d5c-a812-103ab36437da\")>,\n",
       " <selenium.webdriver.remote.webelement.WebElement (session=\"4b7e796a3703caabd938314dd22d63c4\", element=\"4dde64e1-9dd9-41b6-bd06-3d27bd3ac4b7\")>]"
      ]
     },
     "execution_count": 10,
     "metadata": {},
     "output_type": "execute_result"
    }
   ],
   "source": [
    "jobtitle=driver.find_elements_by_xpath('//div[@class=\"info fleft\"]/a')\n",
    "jobtitle"
   ]
  },
  {
   "cell_type": "code",
   "execution_count": 12,
   "id": "ef5e2bfe",
   "metadata": {},
   "outputs": [
    {
     "data": {
      "text/plain": [
       "['Data Analyst - Flipkart Analytics',\n",
       " 'Urgent Openings For Data Analyst / Business Analyst',\n",
       " 'Business Data Analyst(BigId) - Capco - Bangalore',\n",
       " 'Senior Data Analyst',\n",
       " 'Sr Data Analyst',\n",
       " 'Business Data Analyst - Database Design/Mining',\n",
       " 'Opportunity For Business Data Analyst',\n",
       " 'Hiring For Data Analyst - Payment System Intelligence',\n",
       " 'Lead / Senior Data Analyst',\n",
       " 'Senior Data Analyst']"
      ]
     },
     "execution_count": 12,
     "metadata": {},
     "output_type": "execute_result"
    }
   ],
   "source": [
    "#scraping the job title from the webpage\n",
    "Title=[]\n",
    "for i in jobtitle:\n",
    "    Title.append(i.text)\n",
    "Title[0:10]"
   ]
  },
  {
   "cell_type": "code",
   "execution_count": 13,
   "id": "59a11a95",
   "metadata": {},
   "outputs": [
    {
     "name": "stderr",
     "output_type": "stream",
     "text": [
      "<ipython-input-13-4586dc1fb2da>:1: DeprecationWarning: find_elements_by_* commands are deprecated. Please use find_elements() instead\n",
      "  jobexp=driver.find_elements_by_xpath('//li[@class=\"fleft grey-text br2 placeHolderLi experience\"]')\n"
     ]
    },
    {
     "data": {
      "text/plain": [
       "[<selenium.webdriver.remote.webelement.WebElement (session=\"4b7e796a3703caabd938314dd22d63c4\", element=\"43f9fe51-1fc6-44df-9fb4-7616c8271f4c\")>,\n",
       " <selenium.webdriver.remote.webelement.WebElement (session=\"4b7e796a3703caabd938314dd22d63c4\", element=\"85ee2171-4e30-497a-8725-93f86c51cad4\")>,\n",
       " <selenium.webdriver.remote.webelement.WebElement (session=\"4b7e796a3703caabd938314dd22d63c4\", element=\"cd28c956-b70c-4a47-bbf1-cdbebdf533a5\")>,\n",
       " <selenium.webdriver.remote.webelement.WebElement (session=\"4b7e796a3703caabd938314dd22d63c4\", element=\"6df30fbb-97ef-4f69-96d8-0dce94ad2e82\")>,\n",
       " <selenium.webdriver.remote.webelement.WebElement (session=\"4b7e796a3703caabd938314dd22d63c4\", element=\"4a2720eb-59af-456b-b495-89a966ed42d1\")>,\n",
       " <selenium.webdriver.remote.webelement.WebElement (session=\"4b7e796a3703caabd938314dd22d63c4\", element=\"68b53612-83cc-44a3-b91d-f33f6afde3f5\")>,\n",
       " <selenium.webdriver.remote.webelement.WebElement (session=\"4b7e796a3703caabd938314dd22d63c4\", element=\"42f7bcb6-c12d-4a9b-91ad-c298b92f4884\")>,\n",
       " <selenium.webdriver.remote.webelement.WebElement (session=\"4b7e796a3703caabd938314dd22d63c4\", element=\"f2bf9e49-775f-4310-bdad-acbff6f03715\")>,\n",
       " <selenium.webdriver.remote.webelement.WebElement (session=\"4b7e796a3703caabd938314dd22d63c4\", element=\"ec52ecfd-708c-4e21-a3e6-4acbe6fbccd1\")>,\n",
       " <selenium.webdriver.remote.webelement.WebElement (session=\"4b7e796a3703caabd938314dd22d63c4\", element=\"66f07c91-a2c9-45d7-b0a1-6d172c79f8a2\")>,\n",
       " <selenium.webdriver.remote.webelement.WebElement (session=\"4b7e796a3703caabd938314dd22d63c4\", element=\"5a55c473-dd28-49ad-974c-8a40bcf862b9\")>,\n",
       " <selenium.webdriver.remote.webelement.WebElement (session=\"4b7e796a3703caabd938314dd22d63c4\", element=\"43bf74a1-c0c1-4109-9603-39d1c09e5d15\")>,\n",
       " <selenium.webdriver.remote.webelement.WebElement (session=\"4b7e796a3703caabd938314dd22d63c4\", element=\"6d1d8de8-9c36-47d3-a26f-1361480a5366\")>,\n",
       " <selenium.webdriver.remote.webelement.WebElement (session=\"4b7e796a3703caabd938314dd22d63c4\", element=\"5cbae3cd-edc6-408d-9780-a738af66a47a\")>,\n",
       " <selenium.webdriver.remote.webelement.WebElement (session=\"4b7e796a3703caabd938314dd22d63c4\", element=\"e93a4f63-f1a4-482a-a89d-90d5397fda5e\")>,\n",
       " <selenium.webdriver.remote.webelement.WebElement (session=\"4b7e796a3703caabd938314dd22d63c4\", element=\"15bc3cff-1dbd-469b-8387-07af2bfbf0ea\")>,\n",
       " <selenium.webdriver.remote.webelement.WebElement (session=\"4b7e796a3703caabd938314dd22d63c4\", element=\"8522f8c0-4925-4c2c-bd18-cdeb8a126fe5\")>,\n",
       " <selenium.webdriver.remote.webelement.WebElement (session=\"4b7e796a3703caabd938314dd22d63c4\", element=\"8087fca0-6cb6-455e-8650-9a81910dec68\")>,\n",
       " <selenium.webdriver.remote.webelement.WebElement (session=\"4b7e796a3703caabd938314dd22d63c4\", element=\"59cfb656-e1b2-4475-b5bf-cdcfdd257bba\")>,\n",
       " <selenium.webdriver.remote.webelement.WebElement (session=\"4b7e796a3703caabd938314dd22d63c4\", element=\"1d809d96-5027-4e46-8278-345b588ea3d4\")>]"
      ]
     },
     "execution_count": 13,
     "metadata": {},
     "output_type": "execute_result"
    }
   ],
   "source": [
    "jobexp=driver.find_elements_by_xpath('//li[@class=\"fleft grey-text br2 placeHolderLi experience\"]')\n",
    "jobexp#scraping the experience from the webpage"
   ]
  },
  {
   "cell_type": "code",
   "execution_count": 14,
   "id": "7676c343",
   "metadata": {},
   "outputs": [
    {
     "data": {
      "text/plain": [
       "['0-3 Yrs',\n",
       " '1-6 Yrs',\n",
       " '3-8 Yrs',\n",
       " '6-11 Yrs',\n",
       " '3-8 Yrs',\n",
       " '2-5 Yrs',\n",
       " '3-6 Yrs',\n",
       " '4-9 Yrs',\n",
       " '4-6 Yrs',\n",
       " '5-10 Yrs']"
      ]
     },
     "execution_count": 14,
     "metadata": {},
     "output_type": "execute_result"
    }
   ],
   "source": [
    "exp=[]\n",
    "for i in jobexp:\n",
    "    exp.append(i.text)\n",
    "exp[0:10]"
   ]
  },
  {
   "cell_type": "code",
   "execution_count": 15,
   "id": "3a9d5b3b",
   "metadata": {},
   "outputs": [
    {
     "name": "stderr",
     "output_type": "stream",
     "text": [
      "<ipython-input-15-d9f5a8507765>:1: DeprecationWarning: find_elements_by_* commands are deprecated. Please use find_elements() instead\n",
      "  Comp=driver.find_elements_by_xpath('//a[@class=\"subTitle ellipsis fleft\"]')\n"
     ]
    },
    {
     "data": {
      "text/plain": [
       "[<selenium.webdriver.remote.webelement.WebElement (session=\"4b7e796a3703caabd938314dd22d63c4\", element=\"ec0dccac-64cd-42cf-9be4-676c5cb1fa05\")>,\n",
       " <selenium.webdriver.remote.webelement.WebElement (session=\"4b7e796a3703caabd938314dd22d63c4\", element=\"198a7831-b473-45dc-be46-1e6da6fff62a\")>,\n",
       " <selenium.webdriver.remote.webelement.WebElement (session=\"4b7e796a3703caabd938314dd22d63c4\", element=\"8cb83e1a-81bc-4b85-80b5-3fcb1eaef061\")>,\n",
       " <selenium.webdriver.remote.webelement.WebElement (session=\"4b7e796a3703caabd938314dd22d63c4\", element=\"5cf2ee60-9c46-40ab-ab7d-447a7acb0da1\")>,\n",
       " <selenium.webdriver.remote.webelement.WebElement (session=\"4b7e796a3703caabd938314dd22d63c4\", element=\"04edd390-a45e-4f9d-a76b-ec0288b179ef\")>,\n",
       " <selenium.webdriver.remote.webelement.WebElement (session=\"4b7e796a3703caabd938314dd22d63c4\", element=\"e355f6e0-0091-4f3a-98b7-f36a96976365\")>,\n",
       " <selenium.webdriver.remote.webelement.WebElement (session=\"4b7e796a3703caabd938314dd22d63c4\", element=\"f1a54d2a-1cc0-4c36-a8c2-22ab9762e4b4\")>,\n",
       " <selenium.webdriver.remote.webelement.WebElement (session=\"4b7e796a3703caabd938314dd22d63c4\", element=\"d57e93a6-a2dd-49cb-9aa3-a9446739999f\")>,\n",
       " <selenium.webdriver.remote.webelement.WebElement (session=\"4b7e796a3703caabd938314dd22d63c4\", element=\"707cf8ed-9316-4619-96e9-d1a702c1b7c4\")>,\n",
       " <selenium.webdriver.remote.webelement.WebElement (session=\"4b7e796a3703caabd938314dd22d63c4\", element=\"f859077b-ee42-418b-9e53-20c14836e55e\")>,\n",
       " <selenium.webdriver.remote.webelement.WebElement (session=\"4b7e796a3703caabd938314dd22d63c4\", element=\"82a04c80-0588-49dd-9d2b-f2c1898b4257\")>,\n",
       " <selenium.webdriver.remote.webelement.WebElement (session=\"4b7e796a3703caabd938314dd22d63c4\", element=\"e60eaa50-f93a-4cea-b5a7-b651398b1f9f\")>,\n",
       " <selenium.webdriver.remote.webelement.WebElement (session=\"4b7e796a3703caabd938314dd22d63c4\", element=\"1d619f24-b2c6-4fb8-a696-a0b17ed86c85\")>,\n",
       " <selenium.webdriver.remote.webelement.WebElement (session=\"4b7e796a3703caabd938314dd22d63c4\", element=\"a4cd142a-93a9-48b9-ab6f-7397755d0e94\")>,\n",
       " <selenium.webdriver.remote.webelement.WebElement (session=\"4b7e796a3703caabd938314dd22d63c4\", element=\"25bc3b90-b693-421b-91c5-0beb57b68ae7\")>,\n",
       " <selenium.webdriver.remote.webelement.WebElement (session=\"4b7e796a3703caabd938314dd22d63c4\", element=\"a34ed933-9fcb-4772-93fe-25ce3ce00b50\")>,\n",
       " <selenium.webdriver.remote.webelement.WebElement (session=\"4b7e796a3703caabd938314dd22d63c4\", element=\"3fd20147-486c-4f9d-a474-fa82c9125843\")>,\n",
       " <selenium.webdriver.remote.webelement.WebElement (session=\"4b7e796a3703caabd938314dd22d63c4\", element=\"379e52b3-dc2d-4f92-b105-9dc3877a6334\")>,\n",
       " <selenium.webdriver.remote.webelement.WebElement (session=\"4b7e796a3703caabd938314dd22d63c4\", element=\"88eee823-0bc7-456a-9b39-843ffb93c1a5\")>,\n",
       " <selenium.webdriver.remote.webelement.WebElement (session=\"4b7e796a3703caabd938314dd22d63c4\", element=\"717ef598-6738-4a2a-97af-d8af7191fcad\")>]"
      ]
     },
     "execution_count": 15,
     "metadata": {},
     "output_type": "execute_result"
    }
   ],
   "source": [
    "Comp=driver.find_elements_by_xpath('//a[@class=\"subTitle ellipsis fleft\"]')\n",
    "Comp#scraping the company from the webpage"
   ]
  },
  {
   "cell_type": "code",
   "execution_count": 16,
   "id": "01b22f8d",
   "metadata": {},
   "outputs": [
    {
     "data": {
      "text/plain": [
       "['Flipkart',\n",
       " 'Flipkart',\n",
       " 'Capco Technologies Pvt Ltd',\n",
       " 'Pioneer Business Solutions',\n",
       " 'Pioneer Business Solutions',\n",
       " 'AugmatrixGo',\n",
       " 'Botree Software International Private Limited',\n",
       " 'Genpact',\n",
       " 'EVERGREEN COMMUNITY PRIVATE LIMITED',\n",
       " 'Kwalee ltd.']"
      ]
     },
     "execution_count": 16,
     "metadata": {},
     "output_type": "execute_result"
    }
   ],
   "source": [
    "Company=[]\n",
    "for i in Comp:\n",
    "    Company.append(i.text)\n",
    "Company[0:10]"
   ]
  },
  {
   "cell_type": "code",
   "execution_count": 17,
   "id": "872936a0",
   "metadata": {},
   "outputs": [
    {
     "name": "stderr",
     "output_type": "stream",
     "text": [
      "<ipython-input-17-fa004846fc3b>:1: DeprecationWarning: find_elements_by_* commands are deprecated. Please use find_elements() instead\n",
      "  jobloc=driver.find_elements_by_xpath('//li[@class=\"fleft grey-text br2 placeHolderLi location\"]/span')\n"
     ]
    },
    {
     "data": {
      "text/plain": [
       "[<selenium.webdriver.remote.webelement.WebElement (session=\"4b7e796a3703caabd938314dd22d63c4\", element=\"0791d60f-9c1f-4dc3-914c-c9a4799dfa08\")>,\n",
       " <selenium.webdriver.remote.webelement.WebElement (session=\"4b7e796a3703caabd938314dd22d63c4\", element=\"cec80704-09d3-4a86-9864-ce8cac8ee9b4\")>,\n",
       " <selenium.webdriver.remote.webelement.WebElement (session=\"4b7e796a3703caabd938314dd22d63c4\", element=\"e8513b9e-4aa9-429a-8c47-adb0191f3c27\")>,\n",
       " <selenium.webdriver.remote.webelement.WebElement (session=\"4b7e796a3703caabd938314dd22d63c4\", element=\"1472d2a4-d112-425a-a740-6b229b9657d5\")>,\n",
       " <selenium.webdriver.remote.webelement.WebElement (session=\"4b7e796a3703caabd938314dd22d63c4\", element=\"8b45eb93-8582-4fe7-a136-d91685ea8cd2\")>,\n",
       " <selenium.webdriver.remote.webelement.WebElement (session=\"4b7e796a3703caabd938314dd22d63c4\", element=\"6fa1fde5-282a-4908-b295-a940a9c1592f\")>,\n",
       " <selenium.webdriver.remote.webelement.WebElement (session=\"4b7e796a3703caabd938314dd22d63c4\", element=\"a589eaf7-c624-47d9-a555-9cbc903993e2\")>,\n",
       " <selenium.webdriver.remote.webelement.WebElement (session=\"4b7e796a3703caabd938314dd22d63c4\", element=\"64618758-39c8-4691-b433-22184736ce8a\")>,\n",
       " <selenium.webdriver.remote.webelement.WebElement (session=\"4b7e796a3703caabd938314dd22d63c4\", element=\"c8a02675-81eb-48fd-991e-3f1e61432b5d\")>,\n",
       " <selenium.webdriver.remote.webelement.WebElement (session=\"4b7e796a3703caabd938314dd22d63c4\", element=\"61d9b701-f352-465a-a283-aab89da50dc6\")>,\n",
       " <selenium.webdriver.remote.webelement.WebElement (session=\"4b7e796a3703caabd938314dd22d63c4\", element=\"c3017327-8afb-4d1d-9e25-bacb19c5c418\")>,\n",
       " <selenium.webdriver.remote.webelement.WebElement (session=\"4b7e796a3703caabd938314dd22d63c4\", element=\"fd7dcdea-91c2-45be-a605-d302f96f2de2\")>,\n",
       " <selenium.webdriver.remote.webelement.WebElement (session=\"4b7e796a3703caabd938314dd22d63c4\", element=\"ecdb7c88-f1e9-431f-8489-b26fc705c272\")>,\n",
       " <selenium.webdriver.remote.webelement.WebElement (session=\"4b7e796a3703caabd938314dd22d63c4\", element=\"f9848eb2-96c9-4eaf-b968-45e6ea428b6a\")>,\n",
       " <selenium.webdriver.remote.webelement.WebElement (session=\"4b7e796a3703caabd938314dd22d63c4\", element=\"8b2ef346-3a2f-4ad6-b64d-be39b2cff0ba\")>,\n",
       " <selenium.webdriver.remote.webelement.WebElement (session=\"4b7e796a3703caabd938314dd22d63c4\", element=\"3383ae3d-1187-4ce9-9d1f-4b034d0f36eb\")>,\n",
       " <selenium.webdriver.remote.webelement.WebElement (session=\"4b7e796a3703caabd938314dd22d63c4\", element=\"f207749b-6020-4c9c-8cff-a3f94fa022d6\")>,\n",
       " <selenium.webdriver.remote.webelement.WebElement (session=\"4b7e796a3703caabd938314dd22d63c4\", element=\"81b93266-8e88-439c-83b4-26f5d46b86b8\")>,\n",
       " <selenium.webdriver.remote.webelement.WebElement (session=\"4b7e796a3703caabd938314dd22d63c4\", element=\"636f9167-e6fc-47c3-90ae-e3f4b2984100\")>,\n",
       " <selenium.webdriver.remote.webelement.WebElement (session=\"4b7e796a3703caabd938314dd22d63c4\", element=\"56dc67eb-8d0e-441a-91de-77a36ed6a08b\")>,\n",
       " <selenium.webdriver.remote.webelement.WebElement (session=\"4b7e796a3703caabd938314dd22d63c4\", element=\"4e8cfd78-f9d5-4ddf-b86a-78efc7ccaf54\")>,\n",
       " <selenium.webdriver.remote.webelement.WebElement (session=\"4b7e796a3703caabd938314dd22d63c4\", element=\"68c15e03-37c0-42db-a0ec-c907e44cc17a\")>,\n",
       " <selenium.webdriver.remote.webelement.WebElement (session=\"4b7e796a3703caabd938314dd22d63c4\", element=\"c2672e38-1259-49db-9ddd-d34814c1447f\")>]"
      ]
     },
     "execution_count": 17,
     "metadata": {},
     "output_type": "execute_result"
    }
   ],
   "source": [
    "jobloc=driver.find_elements_by_xpath('//li[@class=\"fleft grey-text br2 placeHolderLi location\"]/span')\n",
    "jobloc#scraping the location from the webpage"
   ]
  },
  {
   "cell_type": "code",
   "execution_count": 18,
   "id": "aa1ace42",
   "metadata": {},
   "outputs": [
    {
     "data": {
      "text/plain": [
       "['Bangalore/Bengaluru(Bellandur)',\n",
       " 'Bangalore/Bengaluru',\n",
       " '(WFH during Covid)',\n",
       " 'Bangalore/Bengaluru',\n",
       " 'Bangalore/Bengaluru',\n",
       " 'Bangalore/Bengaluru',\n",
       " 'Bangalore/Bengaluru',\n",
       " 'Bangalore/Bengaluru, Mumbai (All Areas)',\n",
       " 'Gurgaon/Gurugram, Bangalore/Bengaluru, Mumbai (All Areas)',\n",
       " 'Bangalore/Bengaluru']"
      ]
     },
     "execution_count": 18,
     "metadata": {},
     "output_type": "execute_result"
    }
   ],
   "source": [
    "Location=[]\n",
    "for i in jobloc:\n",
    "    Location.append(i.text)\n",
    "Location[0:10]"
   ]
  },
  {
   "cell_type": "code",
   "execution_count": 19,
   "id": "e0274d6e",
   "metadata": {},
   "outputs": [
    {
     "data": {
      "text/html": [
       "<div>\n",
       "<style scoped>\n",
       "    .dataframe tbody tr th:only-of-type {\n",
       "        vertical-align: middle;\n",
       "    }\n",
       "\n",
       "    .dataframe tbody tr th {\n",
       "        vertical-align: top;\n",
       "    }\n",
       "\n",
       "    .dataframe thead th {\n",
       "        text-align: right;\n",
       "    }\n",
       "</style>\n",
       "<table border=\"1\" class=\"dataframe\">\n",
       "  <thead>\n",
       "    <tr style=\"text-align: right;\">\n",
       "      <th></th>\n",
       "      <th>JOB TITLE</th>\n",
       "      <th>Location</th>\n",
       "      <th>Company</th>\n",
       "      <th>Experience</th>\n",
       "    </tr>\n",
       "  </thead>\n",
       "  <tbody>\n",
       "    <tr>\n",
       "      <th>0</th>\n",
       "      <td>Data Analyst - Flipkart Analytics</td>\n",
       "      <td>Bangalore/Bengaluru(Bellandur)</td>\n",
       "      <td>Flipkart</td>\n",
       "      <td>0-3 Yrs</td>\n",
       "    </tr>\n",
       "    <tr>\n",
       "      <th>1</th>\n",
       "      <td>Urgent Openings For Data Analyst / Business An...</td>\n",
       "      <td>Bangalore/Bengaluru</td>\n",
       "      <td>Flipkart</td>\n",
       "      <td>1-6 Yrs</td>\n",
       "    </tr>\n",
       "    <tr>\n",
       "      <th>2</th>\n",
       "      <td>Business Data Analyst(BigId) - Capco - Bangalore</td>\n",
       "      <td>(WFH during Covid)</td>\n",
       "      <td>Capco Technologies Pvt Ltd</td>\n",
       "      <td>3-8 Yrs</td>\n",
       "    </tr>\n",
       "    <tr>\n",
       "      <th>3</th>\n",
       "      <td>Senior Data Analyst</td>\n",
       "      <td>Bangalore/Bengaluru</td>\n",
       "      <td>Pioneer Business Solutions</td>\n",
       "      <td>6-11 Yrs</td>\n",
       "    </tr>\n",
       "    <tr>\n",
       "      <th>4</th>\n",
       "      <td>Sr Data Analyst</td>\n",
       "      <td>Bangalore/Bengaluru</td>\n",
       "      <td>Pioneer Business Solutions</td>\n",
       "      <td>3-8 Yrs</td>\n",
       "    </tr>\n",
       "    <tr>\n",
       "      <th>5</th>\n",
       "      <td>Business Data Analyst - Database Design/Mining</td>\n",
       "      <td>Bangalore/Bengaluru</td>\n",
       "      <td>AugmatrixGo</td>\n",
       "      <td>2-5 Yrs</td>\n",
       "    </tr>\n",
       "    <tr>\n",
       "      <th>6</th>\n",
       "      <td>Opportunity For Business Data Analyst</td>\n",
       "      <td>Bangalore/Bengaluru</td>\n",
       "      <td>Botree Software International Private Limited</td>\n",
       "      <td>3-6 Yrs</td>\n",
       "    </tr>\n",
       "    <tr>\n",
       "      <th>7</th>\n",
       "      <td>Hiring For Data Analyst - Payment System Intel...</td>\n",
       "      <td>Bangalore/Bengaluru, Mumbai (All Areas)</td>\n",
       "      <td>Genpact</td>\n",
       "      <td>4-9 Yrs</td>\n",
       "    </tr>\n",
       "    <tr>\n",
       "      <th>8</th>\n",
       "      <td>Lead / Senior Data Analyst</td>\n",
       "      <td>Gurgaon/Gurugram, Bangalore/Bengaluru, Mumbai ...</td>\n",
       "      <td>EVERGREEN COMMUNITY PRIVATE LIMITED</td>\n",
       "      <td>4-6 Yrs</td>\n",
       "    </tr>\n",
       "    <tr>\n",
       "      <th>9</th>\n",
       "      <td>Senior Data Analyst</td>\n",
       "      <td>Bangalore/Bengaluru</td>\n",
       "      <td>Kwalee ltd.</td>\n",
       "      <td>5-10 Yrs</td>\n",
       "    </tr>\n",
       "  </tbody>\n",
       "</table>\n",
       "</div>"
      ],
      "text/plain": [
       "                                           JOB TITLE  \\\n",
       "0                  Data Analyst - Flipkart Analytics   \n",
       "1  Urgent Openings For Data Analyst / Business An...   \n",
       "2   Business Data Analyst(BigId) - Capco - Bangalore   \n",
       "3                                Senior Data Analyst   \n",
       "4                                    Sr Data Analyst   \n",
       "5     Business Data Analyst - Database Design/Mining   \n",
       "6              Opportunity For Business Data Analyst   \n",
       "7  Hiring For Data Analyst - Payment System Intel...   \n",
       "8                         Lead / Senior Data Analyst   \n",
       "9                                Senior Data Analyst   \n",
       "\n",
       "                                            Location  \\\n",
       "0                     Bangalore/Bengaluru(Bellandur)   \n",
       "1                                Bangalore/Bengaluru   \n",
       "2                                 (WFH during Covid)   \n",
       "3                                Bangalore/Bengaluru   \n",
       "4                                Bangalore/Bengaluru   \n",
       "5                                Bangalore/Bengaluru   \n",
       "6                                Bangalore/Bengaluru   \n",
       "7            Bangalore/Bengaluru, Mumbai (All Areas)   \n",
       "8  Gurgaon/Gurugram, Bangalore/Bengaluru, Mumbai ...   \n",
       "9                                Bangalore/Bengaluru   \n",
       "\n",
       "                                         Company Experience  \n",
       "0                                       Flipkart    0-3 Yrs  \n",
       "1                                       Flipkart    1-6 Yrs  \n",
       "2                     Capco Technologies Pvt Ltd    3-8 Yrs  \n",
       "3                     Pioneer Business Solutions   6-11 Yrs  \n",
       "4                     Pioneer Business Solutions    3-8 Yrs  \n",
       "5                                    AugmatrixGo    2-5 Yrs  \n",
       "6  Botree Software International Private Limited    3-6 Yrs  \n",
       "7                                        Genpact    4-9 Yrs  \n",
       "8            EVERGREEN COMMUNITY PRIVATE LIMITED    4-6 Yrs  \n",
       "9                                    Kwalee ltd.   5-10 Yrs  "
      ]
     },
     "execution_count": 19,
     "metadata": {},
     "output_type": "execute_result"
    }
   ],
   "source": [
    "#Incorporating the required results in the Data Frame\n",
    "data=pd.DataFrame()\n",
    "data['JOB TITLE']=Title[0:10]\n",
    "data['Location']=Location[0:10]\n",
    "data['Company']=Company[0:10]\n",
    "data['Experience']=exp[0:10]\n",
    "data"
   ]
  },
  {
   "cell_type": "markdown",
   "id": "c973abf0",
   "metadata": {},
   "source": [
    "# Q2: Write a python program to scrape data for “Data Scientist” Job position in “Bangalore” location. You have to scrape the job-title, job-location, company_name. You have to scrape first 10 jobs data."
   ]
  },
  {
   "cell_type": "code",
   "execution_count": 23,
   "id": "2d15300c",
   "metadata": {},
   "outputs": [],
   "source": [
    "import selenium\n",
    "import pandas as pd\n",
    "from selenium import webdriver"
   ]
  },
  {
   "cell_type": "code",
   "execution_count": 24,
   "id": "1ea87d04",
   "metadata": {},
   "outputs": [
    {
     "name": "stderr",
     "output_type": "stream",
     "text": [
      "<ipython-input-24-a45c1c768693>:1: DeprecationWarning: executable_path has been deprecated, please pass in a Service object\n",
      "  driver=webdriver.Chrome(r'C:\\Users\\Neeraj Kumar\\Downloads\\chromedriver_win32\\chromedriver')\n"
     ]
    }
   ],
   "source": [
    "driver=webdriver.Chrome(r'C:\\Users\\Neeraj Kumar\\Downloads\\chromedriver_win32\\chromedriver')"
   ]
  },
  {
   "cell_type": "code",
   "execution_count": 25,
   "id": "3deab916",
   "metadata": {},
   "outputs": [],
   "source": [
    "url='https://www.naukri.com/'"
   ]
  },
  {
   "cell_type": "code",
   "execution_count": 26,
   "id": "c133e390",
   "metadata": {},
   "outputs": [],
   "source": [
    "driver.get(url)#getting the website through Webdriver"
   ]
  },
  {
   "cell_type": "code",
   "execution_count": 27,
   "id": "61bead68",
   "metadata": {},
   "outputs": [
    {
     "name": "stderr",
     "output_type": "stream",
     "text": [
      "<ipython-input-27-21410c00c98b>:1: DeprecationWarning: find_element_by_* commands are deprecated. Please use find_element() instead\n",
      "  jobsearch=driver.find_element_by_id(\"qsb-keyword-sugg\")\n"
     ]
    }
   ],
   "source": [
    "jobsearch=driver.find_element_by_id(\"qsb-keyword-sugg\")\n",
    "jobsearch.send_keys('Data Scientist')#entering the required search"
   ]
  },
  {
   "cell_type": "code",
   "execution_count": 28,
   "id": "9defb7c5",
   "metadata": {},
   "outputs": [
    {
     "name": "stderr",
     "output_type": "stream",
     "text": [
      "<ipython-input-28-4cd062472b21>:1: DeprecationWarning: find_element_by_* commands are deprecated. Please use find_element() instead\n",
      "  joblocation=driver.find_element_by_id(\"qsb-location-sugg\")\n"
     ]
    }
   ],
   "source": [
    "joblocation=driver.find_element_by_id(\"qsb-location-sugg\")\n",
    "joblocation.send_keys('Bangalore')#entering the location"
   ]
  },
  {
   "cell_type": "code",
   "execution_count": 29,
   "id": "087d9a4b",
   "metadata": {},
   "outputs": [
    {
     "name": "stderr",
     "output_type": "stream",
     "text": [
      "<ipython-input-29-7e910216622a>:1: DeprecationWarning: find_element_by_* commands are deprecated. Please use find_element() instead\n",
      "  search=driver.find_element_by_xpath('//button[@class=\"btn\"]')\n"
     ]
    }
   ],
   "source": [
    "search=driver.find_element_by_xpath('//button[@class=\"btn\"]')\n",
    "search.click()#Clicking on the searchbar to get the required result\n"
   ]
  },
  {
   "cell_type": "code",
   "execution_count": 30,
   "id": "1c3c765c",
   "metadata": {},
   "outputs": [
    {
     "name": "stderr",
     "output_type": "stream",
     "text": [
      "<ipython-input-30-64a631d5ef5e>:1: DeprecationWarning: find_elements_by_* commands are deprecated. Please use find_elements() instead\n",
      "  jobtitle=driver.find_elements_by_xpath('//div[@class=\"info fleft\"]/a')\n"
     ]
    },
    {
     "data": {
      "text/plain": [
       "[<selenium.webdriver.remote.webelement.WebElement (session=\"0cf01ab16035d66c8ce88232f76a6971\", element=\"7e93e68f-44cd-4d20-8320-0ed5b98396ba\")>,\n",
       " <selenium.webdriver.remote.webelement.WebElement (session=\"0cf01ab16035d66c8ce88232f76a6971\", element=\"76c5acbc-9411-433a-bf96-673c51b4540a\")>,\n",
       " <selenium.webdriver.remote.webelement.WebElement (session=\"0cf01ab16035d66c8ce88232f76a6971\", element=\"81e27be4-0720-494c-a307-5df0ef01a7d5\")>,\n",
       " <selenium.webdriver.remote.webelement.WebElement (session=\"0cf01ab16035d66c8ce88232f76a6971\", element=\"ea7bbd8b-2e75-47c0-a465-1503974f7186\")>,\n",
       " <selenium.webdriver.remote.webelement.WebElement (session=\"0cf01ab16035d66c8ce88232f76a6971\", element=\"9366598f-db86-4a69-b049-8e541c24573b\")>,\n",
       " <selenium.webdriver.remote.webelement.WebElement (session=\"0cf01ab16035d66c8ce88232f76a6971\", element=\"62ad52e3-a140-4703-969c-8ae3d3106d8d\")>,\n",
       " <selenium.webdriver.remote.webelement.WebElement (session=\"0cf01ab16035d66c8ce88232f76a6971\", element=\"0cd9d4e0-e6c8-42fd-b186-0c108ef59fab\")>,\n",
       " <selenium.webdriver.remote.webelement.WebElement (session=\"0cf01ab16035d66c8ce88232f76a6971\", element=\"ff4159b0-ef46-4b09-b0e2-2170f98f292d\")>,\n",
       " <selenium.webdriver.remote.webelement.WebElement (session=\"0cf01ab16035d66c8ce88232f76a6971\", element=\"bd76cc61-3008-4f5e-8784-0c8d75dd685c\")>,\n",
       " <selenium.webdriver.remote.webelement.WebElement (session=\"0cf01ab16035d66c8ce88232f76a6971\", element=\"0349cde6-95fa-4393-8165-7bad67e1deba\")>,\n",
       " <selenium.webdriver.remote.webelement.WebElement (session=\"0cf01ab16035d66c8ce88232f76a6971\", element=\"6e192556-e6a1-4dc9-a6cf-32f1b3debf82\")>,\n",
       " <selenium.webdriver.remote.webelement.WebElement (session=\"0cf01ab16035d66c8ce88232f76a6971\", element=\"da18bda9-2fec-4fa4-b309-a742a2393f86\")>,\n",
       " <selenium.webdriver.remote.webelement.WebElement (session=\"0cf01ab16035d66c8ce88232f76a6971\", element=\"f576a1c8-463c-46be-aa0d-54bb6d60c2fe\")>,\n",
       " <selenium.webdriver.remote.webelement.WebElement (session=\"0cf01ab16035d66c8ce88232f76a6971\", element=\"651a90b9-ca44-49d7-a075-a2f72686b944\")>,\n",
       " <selenium.webdriver.remote.webelement.WebElement (session=\"0cf01ab16035d66c8ce88232f76a6971\", element=\"460e7751-b3d9-4525-871d-25a458c17c5d\")>,\n",
       " <selenium.webdriver.remote.webelement.WebElement (session=\"0cf01ab16035d66c8ce88232f76a6971\", element=\"bac8c761-2f36-423a-b6f2-eb6d0e175403\")>,\n",
       " <selenium.webdriver.remote.webelement.WebElement (session=\"0cf01ab16035d66c8ce88232f76a6971\", element=\"6b1739f7-e71a-4c5d-943e-706ed5e0d132\")>,\n",
       " <selenium.webdriver.remote.webelement.WebElement (session=\"0cf01ab16035d66c8ce88232f76a6971\", element=\"ffc03e5b-794e-4401-b4f3-840d2d93b6a9\")>,\n",
       " <selenium.webdriver.remote.webelement.WebElement (session=\"0cf01ab16035d66c8ce88232f76a6971\", element=\"4e627031-352a-4156-a5db-57332dd63582\")>,\n",
       " <selenium.webdriver.remote.webelement.WebElement (session=\"0cf01ab16035d66c8ce88232f76a6971\", element=\"9424b607-8e5b-4774-8a31-37bae5e2cc55\")>]"
      ]
     },
     "execution_count": 30,
     "metadata": {},
     "output_type": "execute_result"
    }
   ],
   "source": [
    "jobtitle=driver.find_elements_by_xpath('//div[@class=\"info fleft\"]/a')\n",
    "jobtitle#scraping the title"
   ]
  },
  {
   "cell_type": "code",
   "execution_count": 32,
   "id": "a2cd87c4",
   "metadata": {},
   "outputs": [
    {
     "data": {
      "text/plain": [
       "['Forecasting Analyst/ Data Scientist (US Client)',\n",
       " 'Data Scientist',\n",
       " 'Senior Data Scientist',\n",
       " 'Senior Data Scientist',\n",
       " 'Senior Data Scientist | Fortune 500 Supermarket Chain',\n",
       " 'Data Scientist',\n",
       " 'Lead Data Scientist',\n",
       " 'Senior Data Scientist / Tech Lead - SQL / Python / Big Data',\n",
       " 'Senior / Lead Data Scientist',\n",
       " 'Looking For Senior Data Scientist Immediate Joiners and 1 months NP']"
      ]
     },
     "execution_count": 32,
     "metadata": {},
     "output_type": "execute_result"
    }
   ],
   "source": [
    "Jobtitle=[]\n",
    "for i in jobtitle:\n",
    "    Jobtitle.append(i.text)\n",
    "Jobtitle[0:10]"
   ]
  },
  {
   "cell_type": "code",
   "execution_count": 33,
   "id": "6546bb13",
   "metadata": {},
   "outputs": [
    {
     "name": "stderr",
     "output_type": "stream",
     "text": [
      "<ipython-input-33-7bc7b94940b5>:1: DeprecationWarning: find_elements_by_* commands are deprecated. Please use find_elements() instead\n",
      "  loc=driver.find_elements_by_xpath('//li[@class=\"fleft grey-text br2 placeHolderLi location\"]/span')\n"
     ]
    },
    {
     "data": {
      "text/plain": [
       "[<selenium.webdriver.remote.webelement.WebElement (session=\"0cf01ab16035d66c8ce88232f76a6971\", element=\"022b50d5-366e-45dc-b797-6400002dffd2\")>,\n",
       " <selenium.webdriver.remote.webelement.WebElement (session=\"0cf01ab16035d66c8ce88232f76a6971\", element=\"185cafc7-143a-432e-a444-7074af971e20\")>,\n",
       " <selenium.webdriver.remote.webelement.WebElement (session=\"0cf01ab16035d66c8ce88232f76a6971\", element=\"3bd71462-a3ee-4a16-a7c0-f46fecc7911e\")>,\n",
       " <selenium.webdriver.remote.webelement.WebElement (session=\"0cf01ab16035d66c8ce88232f76a6971\", element=\"32ed2938-b7ca-44e8-834c-835018bd0c87\")>,\n",
       " <selenium.webdriver.remote.webelement.WebElement (session=\"0cf01ab16035d66c8ce88232f76a6971\", element=\"f7b33db6-6d7c-4b90-8a5a-1829fe5f1316\")>,\n",
       " <selenium.webdriver.remote.webelement.WebElement (session=\"0cf01ab16035d66c8ce88232f76a6971\", element=\"1cb0c986-6daa-4f1e-89a1-bc7a6b4a9722\")>,\n",
       " <selenium.webdriver.remote.webelement.WebElement (session=\"0cf01ab16035d66c8ce88232f76a6971\", element=\"b8b103f1-0d3b-4c83-890c-fbb81a8933d7\")>,\n",
       " <selenium.webdriver.remote.webelement.WebElement (session=\"0cf01ab16035d66c8ce88232f76a6971\", element=\"a022add9-973e-43b7-be9c-3991691b6398\")>,\n",
       " <selenium.webdriver.remote.webelement.WebElement (session=\"0cf01ab16035d66c8ce88232f76a6971\", element=\"49582e1b-e962-462e-a356-e507f870e39e\")>,\n",
       " <selenium.webdriver.remote.webelement.WebElement (session=\"0cf01ab16035d66c8ce88232f76a6971\", element=\"53f288d9-e136-48d5-9750-c5ef9f108ff4\")>,\n",
       " <selenium.webdriver.remote.webelement.WebElement (session=\"0cf01ab16035d66c8ce88232f76a6971\", element=\"230d8c2d-1c6f-44ce-b4d9-fe70528ec18f\")>,\n",
       " <selenium.webdriver.remote.webelement.WebElement (session=\"0cf01ab16035d66c8ce88232f76a6971\", element=\"34bc2f88-a0b8-4cbd-a8b8-2629630e3590\")>,\n",
       " <selenium.webdriver.remote.webelement.WebElement (session=\"0cf01ab16035d66c8ce88232f76a6971\", element=\"08fd06b3-9f35-4691-b7cf-548ee298c9b9\")>,\n",
       " <selenium.webdriver.remote.webelement.WebElement (session=\"0cf01ab16035d66c8ce88232f76a6971\", element=\"aa87d231-e4b2-417f-8167-13e84e96b351\")>,\n",
       " <selenium.webdriver.remote.webelement.WebElement (session=\"0cf01ab16035d66c8ce88232f76a6971\", element=\"20bec0a2-722f-4df2-bab0-074cd8260ced\")>,\n",
       " <selenium.webdriver.remote.webelement.WebElement (session=\"0cf01ab16035d66c8ce88232f76a6971\", element=\"e35f9eb6-9f5e-4066-bc39-7360b27d9925\")>,\n",
       " <selenium.webdriver.remote.webelement.WebElement (session=\"0cf01ab16035d66c8ce88232f76a6971\", element=\"f613f962-d086-4a9b-8c19-ee63da1f985e\")>,\n",
       " <selenium.webdriver.remote.webelement.WebElement (session=\"0cf01ab16035d66c8ce88232f76a6971\", element=\"12e8258d-be36-4d58-b50f-5fd0b497f9ce\")>,\n",
       " <selenium.webdriver.remote.webelement.WebElement (session=\"0cf01ab16035d66c8ce88232f76a6971\", element=\"27987636-1d01-4d25-8864-c9f71e4238bf\")>,\n",
       " <selenium.webdriver.remote.webelement.WebElement (session=\"0cf01ab16035d66c8ce88232f76a6971\", element=\"5181ed51-9fa4-4e32-91f8-a3ed8763a040\")>,\n",
       " <selenium.webdriver.remote.webelement.WebElement (session=\"0cf01ab16035d66c8ce88232f76a6971\", element=\"d4ed3ca7-ee27-45a2-961d-ec424125e45a\")>,\n",
       " <selenium.webdriver.remote.webelement.WebElement (session=\"0cf01ab16035d66c8ce88232f76a6971\", element=\"76e0a4ee-c984-4551-8ed0-570f23f7036c\")>,\n",
       " <selenium.webdriver.remote.webelement.WebElement (session=\"0cf01ab16035d66c8ce88232f76a6971\", element=\"4debf640-afee-41a0-a033-91446353454a\")>,\n",
       " <selenium.webdriver.remote.webelement.WebElement (session=\"0cf01ab16035d66c8ce88232f76a6971\", element=\"dd8ec9bb-6c46-4704-9bf4-db4671204f3b\")>,\n",
       " <selenium.webdriver.remote.webelement.WebElement (session=\"0cf01ab16035d66c8ce88232f76a6971\", element=\"ef3dd5ce-2799-4fc2-ad41-09ebb551c346\")>]"
      ]
     },
     "execution_count": 33,
     "metadata": {},
     "output_type": "execute_result"
    }
   ],
   "source": [
    "loc=driver.find_elements_by_xpath('//li[@class=\"fleft grey-text br2 placeHolderLi location\"]/span')\n",
    "loc#scraping the location"
   ]
  },
  {
   "cell_type": "code",
   "execution_count": 34,
   "id": "12207793",
   "metadata": {},
   "outputs": [
    {
     "data": {
      "text/plain": [
       "['Gurgaon/Gurugram, Bangalore/Bengaluru',\n",
       " '(WFH during Covid)',\n",
       " 'Bangalore/Bengaluru',\n",
       " 'Bangalore/Bengaluru',\n",
       " 'Bangalore/Bengaluru(Sadashiva Nagar)',\n",
       " '(WFH during Covid)',\n",
       " 'Bangalore/Bengaluru',\n",
       " 'Bangalore/Bengaluru',\n",
       " 'Bangalore/Bengaluru, Delhi / NCR, Mumbai (All Areas)',\n",
       " '(WFH during Covid)']"
      ]
     },
     "execution_count": 34,
     "metadata": {},
     "output_type": "execute_result"
    }
   ],
   "source": [
    "Location=[]\n",
    "for i in loc:\n",
    "    Location.append(i.text)\n",
    "Location[0:10]"
   ]
  },
  {
   "cell_type": "code",
   "execution_count": 35,
   "id": "200bce5e",
   "metadata": {},
   "outputs": [
    {
     "name": "stderr",
     "output_type": "stream",
     "text": [
      "<ipython-input-35-af4519b4d29f>:1: DeprecationWarning: find_elements_by_* commands are deprecated. Please use find_elements() instead\n",
      "  exp=driver.find_elements_by_xpath('//li[@class=\"fleft grey-text br2 placeHolderLi experience\"]/span')\n"
     ]
    },
    {
     "data": {
      "text/plain": [
       "[<selenium.webdriver.remote.webelement.WebElement (session=\"0cf01ab16035d66c8ce88232f76a6971\", element=\"4dcbcdbd-b927-4d61-873e-10ae45f880a6\")>,\n",
       " <selenium.webdriver.remote.webelement.WebElement (session=\"0cf01ab16035d66c8ce88232f76a6971\", element=\"e3b69b5a-7fc3-430f-8eea-44d92d67d7fb\")>,\n",
       " <selenium.webdriver.remote.webelement.WebElement (session=\"0cf01ab16035d66c8ce88232f76a6971\", element=\"a627a50f-f911-47bc-8c8e-5611dabbaf9d\")>,\n",
       " <selenium.webdriver.remote.webelement.WebElement (session=\"0cf01ab16035d66c8ce88232f76a6971\", element=\"872d3a3d-e80e-492b-bf15-7513c97a2a2a\")>,\n",
       " <selenium.webdriver.remote.webelement.WebElement (session=\"0cf01ab16035d66c8ce88232f76a6971\", element=\"4d027096-7f2d-47ad-96eb-50a915a3b96a\")>,\n",
       " <selenium.webdriver.remote.webelement.WebElement (session=\"0cf01ab16035d66c8ce88232f76a6971\", element=\"418e387c-b04a-4b39-9676-c11b718c394f\")>,\n",
       " <selenium.webdriver.remote.webelement.WebElement (session=\"0cf01ab16035d66c8ce88232f76a6971\", element=\"bcba0d91-ed04-43db-b559-a386f8e7a506\")>,\n",
       " <selenium.webdriver.remote.webelement.WebElement (session=\"0cf01ab16035d66c8ce88232f76a6971\", element=\"1585fcb9-7623-4153-80e0-a324e0ca798b\")>,\n",
       " <selenium.webdriver.remote.webelement.WebElement (session=\"0cf01ab16035d66c8ce88232f76a6971\", element=\"c7b4e713-89aa-401f-877a-336091156cf4\")>,\n",
       " <selenium.webdriver.remote.webelement.WebElement (session=\"0cf01ab16035d66c8ce88232f76a6971\", element=\"29af4a55-4dff-4a08-9a28-38b6d5810279\")>,\n",
       " <selenium.webdriver.remote.webelement.WebElement (session=\"0cf01ab16035d66c8ce88232f76a6971\", element=\"4df5ebaa-5bbf-443e-829a-5842e55095d1\")>,\n",
       " <selenium.webdriver.remote.webelement.WebElement (session=\"0cf01ab16035d66c8ce88232f76a6971\", element=\"df0d7fbc-0c10-4b6d-bded-9ead27f660fa\")>,\n",
       " <selenium.webdriver.remote.webelement.WebElement (session=\"0cf01ab16035d66c8ce88232f76a6971\", element=\"e3144e17-9dc6-4524-8288-0c08a407c317\")>,\n",
       " <selenium.webdriver.remote.webelement.WebElement (session=\"0cf01ab16035d66c8ce88232f76a6971\", element=\"137d69df-d5fa-4f51-928d-3791912b2773\")>,\n",
       " <selenium.webdriver.remote.webelement.WebElement (session=\"0cf01ab16035d66c8ce88232f76a6971\", element=\"6c56d7bd-1860-4602-8ab7-76b8ad04be7c\")>,\n",
       " <selenium.webdriver.remote.webelement.WebElement (session=\"0cf01ab16035d66c8ce88232f76a6971\", element=\"df42d6fe-d148-49ab-aee4-773fa07eb1d4\")>,\n",
       " <selenium.webdriver.remote.webelement.WebElement (session=\"0cf01ab16035d66c8ce88232f76a6971\", element=\"c691a398-e219-4973-ab09-034ba9151a31\")>,\n",
       " <selenium.webdriver.remote.webelement.WebElement (session=\"0cf01ab16035d66c8ce88232f76a6971\", element=\"639e4f60-ddb2-4159-b661-adfc2f55bd23\")>,\n",
       " <selenium.webdriver.remote.webelement.WebElement (session=\"0cf01ab16035d66c8ce88232f76a6971\", element=\"0ebfa81c-c8b1-4640-b1a4-a57abf91369a\")>,\n",
       " <selenium.webdriver.remote.webelement.WebElement (session=\"0cf01ab16035d66c8ce88232f76a6971\", element=\"35f92ff3-6829-432f-a062-9506103841e7\")>]"
      ]
     },
     "execution_count": 35,
     "metadata": {},
     "output_type": "execute_result"
    }
   ],
   "source": [
    "exp=driver.find_elements_by_xpath('//li[@class=\"fleft grey-text br2 placeHolderLi experience\"]/span')\n",
    "exp#scraping the experience"
   ]
  },
  {
   "cell_type": "code",
   "execution_count": 36,
   "id": "a79bdc09",
   "metadata": {},
   "outputs": [
    {
     "data": {
      "text/plain": [
       "['3-8 Yrs',\n",
       " '6-10 Yrs',\n",
       " '5-10 Yrs',\n",
       " '8-12 Yrs',\n",
       " '7-10 Yrs',\n",
       " '4-9 Yrs',\n",
       " '4-9 Yrs',\n",
       " '5-10 Yrs',\n",
       " '3-8 Yrs',\n",
       " '5-10 Yrs']"
      ]
     },
     "execution_count": 36,
     "metadata": {},
     "output_type": "execute_result"
    }
   ],
   "source": [
    "Experience=[]\n",
    "for i in exp:\n",
    "    Experience.append(i.text)\n",
    "Experience[0:10]"
   ]
  },
  {
   "cell_type": "code",
   "execution_count": 37,
   "id": "d9e1cae3",
   "metadata": {},
   "outputs": [
    {
     "name": "stderr",
     "output_type": "stream",
     "text": [
      "<ipython-input-37-a1c7a58e98ed>:1: DeprecationWarning: find_elements_by_* commands are deprecated. Please use find_elements() instead\n",
      "  comp=driver.find_elements_by_xpath('//a[@class=\"subTitle ellipsis fleft\"]')\n"
     ]
    },
    {
     "data": {
      "text/plain": [
       "[<selenium.webdriver.remote.webelement.WebElement (session=\"0cf01ab16035d66c8ce88232f76a6971\", element=\"5868f33a-fabf-4c89-aca9-a6ce791effc4\")>,\n",
       " <selenium.webdriver.remote.webelement.WebElement (session=\"0cf01ab16035d66c8ce88232f76a6971\", element=\"9835788e-d4cf-4918-b98e-56666c71f45f\")>,\n",
       " <selenium.webdriver.remote.webelement.WebElement (session=\"0cf01ab16035d66c8ce88232f76a6971\", element=\"ad22c2a0-4904-4738-ba3c-72e0e271e572\")>,\n",
       " <selenium.webdriver.remote.webelement.WebElement (session=\"0cf01ab16035d66c8ce88232f76a6971\", element=\"a9324ba8-4bdc-43c8-91c4-d3660062dc89\")>,\n",
       " <selenium.webdriver.remote.webelement.WebElement (session=\"0cf01ab16035d66c8ce88232f76a6971\", element=\"d3c31c6f-81f7-47da-9967-bdbf97dfcb82\")>,\n",
       " <selenium.webdriver.remote.webelement.WebElement (session=\"0cf01ab16035d66c8ce88232f76a6971\", element=\"f585c53f-3fd4-4558-ba0d-8f7f8730dbaf\")>,\n",
       " <selenium.webdriver.remote.webelement.WebElement (session=\"0cf01ab16035d66c8ce88232f76a6971\", element=\"497e1aed-58c3-4472-bf11-c018cee68d73\")>,\n",
       " <selenium.webdriver.remote.webelement.WebElement (session=\"0cf01ab16035d66c8ce88232f76a6971\", element=\"52e1995c-15a5-4977-9875-145a7a4beb3e\")>,\n",
       " <selenium.webdriver.remote.webelement.WebElement (session=\"0cf01ab16035d66c8ce88232f76a6971\", element=\"05d3b97d-9e05-4375-8546-e480f81d1ed4\")>,\n",
       " <selenium.webdriver.remote.webelement.WebElement (session=\"0cf01ab16035d66c8ce88232f76a6971\", element=\"49bc69fb-ad1b-49a4-9fd7-8e8ea1590380\")>,\n",
       " <selenium.webdriver.remote.webelement.WebElement (session=\"0cf01ab16035d66c8ce88232f76a6971\", element=\"c99ebb87-70cc-465d-8c4c-062414d2eed7\")>,\n",
       " <selenium.webdriver.remote.webelement.WebElement (session=\"0cf01ab16035d66c8ce88232f76a6971\", element=\"ad1b456d-a419-4fa1-8488-66683e3357f2\")>,\n",
       " <selenium.webdriver.remote.webelement.WebElement (session=\"0cf01ab16035d66c8ce88232f76a6971\", element=\"91411508-0e7c-4174-a764-0aefbee96948\")>,\n",
       " <selenium.webdriver.remote.webelement.WebElement (session=\"0cf01ab16035d66c8ce88232f76a6971\", element=\"e6bd31a7-84c1-4aab-b798-20851878b200\")>,\n",
       " <selenium.webdriver.remote.webelement.WebElement (session=\"0cf01ab16035d66c8ce88232f76a6971\", element=\"622cdbb6-1fb9-4bc9-b600-a7f817b92c04\")>,\n",
       " <selenium.webdriver.remote.webelement.WebElement (session=\"0cf01ab16035d66c8ce88232f76a6971\", element=\"ffc97839-10c8-48b7-bbf1-af45aa4e186b\")>,\n",
       " <selenium.webdriver.remote.webelement.WebElement (session=\"0cf01ab16035d66c8ce88232f76a6971\", element=\"cb3fc108-e6e3-48fd-aea8-bca4ca00e48f\")>,\n",
       " <selenium.webdriver.remote.webelement.WebElement (session=\"0cf01ab16035d66c8ce88232f76a6971\", element=\"b97f45cb-a892-4755-8944-52e3a3ecb04b\")>,\n",
       " <selenium.webdriver.remote.webelement.WebElement (session=\"0cf01ab16035d66c8ce88232f76a6971\", element=\"5860d42b-0e46-42f5-b487-a0d43deef397\")>,\n",
       " <selenium.webdriver.remote.webelement.WebElement (session=\"0cf01ab16035d66c8ce88232f76a6971\", element=\"2300b081-4b19-4f4d-b4b1-132127fc3b81\")>]"
      ]
     },
     "execution_count": 37,
     "metadata": {},
     "output_type": "execute_result"
    }
   ],
   "source": [
    "comp=driver.find_elements_by_xpath('//a[@class=\"subTitle ellipsis fleft\"]')\n",
    "comp#scraping the company name"
   ]
  },
  {
   "cell_type": "code",
   "execution_count": 38,
   "id": "f4f2dfd5",
   "metadata": {},
   "outputs": [
    {
     "data": {
      "text/plain": [
       "['Concentrix Daksh Services',\n",
       " 'Oracle India Pvt. Ltd.',\n",
       " 'Kwalee India Pvt Ltd.',\n",
       " 'Convergence Infotech Ltd',\n",
       " 'TALENT500 TECH (INDIA) PRIVATE LIMITED',\n",
       " 'Visa',\n",
       " 'TransOrg Solutions Services (P) Ltd.',\n",
       " 'Exploro Solutions',\n",
       " 'CoreEdge Solutions',\n",
       " 'Mount Talent Consulting Private Limited']"
      ]
     },
     "execution_count": 38,
     "metadata": {},
     "output_type": "execute_result"
    }
   ],
   "source": [
    "Company=[]\n",
    "for i in comp:\n",
    "    Company.append(i.text)\n",
    "Company[0:10]"
   ]
  },
  {
   "cell_type": "code",
   "execution_count": 39,
   "id": "810dc35f",
   "metadata": {},
   "outputs": [
    {
     "data": {
      "text/html": [
       "<div>\n",
       "<style scoped>\n",
       "    .dataframe tbody tr th:only-of-type {\n",
       "        vertical-align: middle;\n",
       "    }\n",
       "\n",
       "    .dataframe tbody tr th {\n",
       "        vertical-align: top;\n",
       "    }\n",
       "\n",
       "    .dataframe thead th {\n",
       "        text-align: right;\n",
       "    }\n",
       "</style>\n",
       "<table border=\"1\" class=\"dataframe\">\n",
       "  <thead>\n",
       "    <tr style=\"text-align: right;\">\n",
       "      <th></th>\n",
       "      <th>Job Title</th>\n",
       "      <th>Company</th>\n",
       "      <th>Experience</th>\n",
       "      <th>Location</th>\n",
       "    </tr>\n",
       "  </thead>\n",
       "  <tbody>\n",
       "    <tr>\n",
       "      <th>0</th>\n",
       "      <td>Forecasting Analyst/ Data Scientist (US Client)</td>\n",
       "      <td>Concentrix Daksh Services</td>\n",
       "      <td>3-8 Yrs</td>\n",
       "      <td>Gurgaon/Gurugram, Bangalore/Bengaluru</td>\n",
       "    </tr>\n",
       "    <tr>\n",
       "      <th>1</th>\n",
       "      <td>Data Scientist</td>\n",
       "      <td>Oracle India Pvt. Ltd.</td>\n",
       "      <td>6-10 Yrs</td>\n",
       "      <td>(WFH during Covid)</td>\n",
       "    </tr>\n",
       "    <tr>\n",
       "      <th>2</th>\n",
       "      <td>Senior Data Scientist</td>\n",
       "      <td>Kwalee India Pvt Ltd.</td>\n",
       "      <td>5-10 Yrs</td>\n",
       "      <td>Bangalore/Bengaluru</td>\n",
       "    </tr>\n",
       "    <tr>\n",
       "      <th>3</th>\n",
       "      <td>Senior Data Scientist</td>\n",
       "      <td>Convergence Infotech Ltd</td>\n",
       "      <td>8-12 Yrs</td>\n",
       "      <td>Bangalore/Bengaluru</td>\n",
       "    </tr>\n",
       "    <tr>\n",
       "      <th>4</th>\n",
       "      <td>Senior Data Scientist | Fortune 500 Supermarke...</td>\n",
       "      <td>TALENT500 TECH (INDIA) PRIVATE LIMITED</td>\n",
       "      <td>7-10 Yrs</td>\n",
       "      <td>Bangalore/Bengaluru(Sadashiva Nagar)</td>\n",
       "    </tr>\n",
       "    <tr>\n",
       "      <th>5</th>\n",
       "      <td>Data Scientist</td>\n",
       "      <td>Visa</td>\n",
       "      <td>4-9 Yrs</td>\n",
       "      <td>(WFH during Covid)</td>\n",
       "    </tr>\n",
       "    <tr>\n",
       "      <th>6</th>\n",
       "      <td>Lead Data Scientist</td>\n",
       "      <td>TransOrg Solutions Services (P) Ltd.</td>\n",
       "      <td>4-9 Yrs</td>\n",
       "      <td>Bangalore/Bengaluru</td>\n",
       "    </tr>\n",
       "    <tr>\n",
       "      <th>7</th>\n",
       "      <td>Senior Data Scientist / Tech Lead - SQL / Pyth...</td>\n",
       "      <td>Exploro Solutions</td>\n",
       "      <td>5-10 Yrs</td>\n",
       "      <td>Bangalore/Bengaluru</td>\n",
       "    </tr>\n",
       "    <tr>\n",
       "      <th>8</th>\n",
       "      <td>Senior / Lead Data Scientist</td>\n",
       "      <td>CoreEdge Solutions</td>\n",
       "      <td>3-8 Yrs</td>\n",
       "      <td>Bangalore/Bengaluru, Delhi / NCR, Mumbai (All ...</td>\n",
       "    </tr>\n",
       "    <tr>\n",
       "      <th>9</th>\n",
       "      <td>Looking For Senior Data Scientist Immediate Jo...</td>\n",
       "      <td>Mount Talent Consulting Private Limited</td>\n",
       "      <td>5-10 Yrs</td>\n",
       "      <td>(WFH during Covid)</td>\n",
       "    </tr>\n",
       "  </tbody>\n",
       "</table>\n",
       "</div>"
      ],
      "text/plain": [
       "                                           Job Title  \\\n",
       "0    Forecasting Analyst/ Data Scientist (US Client)   \n",
       "1                                     Data Scientist   \n",
       "2                              Senior Data Scientist   \n",
       "3                              Senior Data Scientist   \n",
       "4  Senior Data Scientist | Fortune 500 Supermarke...   \n",
       "5                                     Data Scientist   \n",
       "6                                Lead Data Scientist   \n",
       "7  Senior Data Scientist / Tech Lead - SQL / Pyth...   \n",
       "8                       Senior / Lead Data Scientist   \n",
       "9  Looking For Senior Data Scientist Immediate Jo...   \n",
       "\n",
       "                                   Company Experience  \\\n",
       "0                Concentrix Daksh Services    3-8 Yrs   \n",
       "1                   Oracle India Pvt. Ltd.   6-10 Yrs   \n",
       "2                    Kwalee India Pvt Ltd.   5-10 Yrs   \n",
       "3                 Convergence Infotech Ltd   8-12 Yrs   \n",
       "4   TALENT500 TECH (INDIA) PRIVATE LIMITED   7-10 Yrs   \n",
       "5                                     Visa    4-9 Yrs   \n",
       "6     TransOrg Solutions Services (P) Ltd.    4-9 Yrs   \n",
       "7                        Exploro Solutions   5-10 Yrs   \n",
       "8                       CoreEdge Solutions    3-8 Yrs   \n",
       "9  Mount Talent Consulting Private Limited   5-10 Yrs   \n",
       "\n",
       "                                            Location  \n",
       "0              Gurgaon/Gurugram, Bangalore/Bengaluru  \n",
       "1                                 (WFH during Covid)  \n",
       "2                                Bangalore/Bengaluru  \n",
       "3                                Bangalore/Bengaluru  \n",
       "4               Bangalore/Bengaluru(Sadashiva Nagar)  \n",
       "5                                 (WFH during Covid)  \n",
       "6                                Bangalore/Bengaluru  \n",
       "7                                Bangalore/Bengaluru  \n",
       "8  Bangalore/Bengaluru, Delhi / NCR, Mumbai (All ...  \n",
       "9                                 (WFH during Covid)  "
      ]
     },
     "execution_count": 39,
     "metadata": {},
     "output_type": "execute_result"
    }
   ],
   "source": [
    "data=pd.DataFrame()\n",
    "data['Job Title']=Jobtitle[0:10]\n",
    "data['Company']=Company[0:10]\n",
    "data['Experience']=Experience[0:10]\n",
    "data['Location']=Location[0:10]\n",
    "data#incorporating the data as per the requirement"
   ]
  },
  {
   "cell_type": "markdown",
   "id": "bf33fdee",
   "metadata": {},
   "source": [
    "# Q.3You have to scrape data for “Data Scientist” designation for first 10 job results.You have to scrape the job-title, job-location, company name, experience required.The location filter to be used is “Delhi/NCR” The salary filter to be used is “3-6” lakhs# You have to use the location and salary filter.You have to scrape data for “Data Scientist” designation for first 10 job results.You have to scrape the job-title, job-location, company name, experience required.The location filter to be used is “Delhi/NCR” The salary filter to be used is “3-6” lakhs\n"
   ]
  },
  {
   "cell_type": "code",
   "execution_count": 40,
   "id": "df67a753",
   "metadata": {},
   "outputs": [],
   "source": [
    "import pandas as pd\n",
    "import selenium\n",
    "from selenium import webdriver"
   ]
  },
  {
   "cell_type": "code",
   "execution_count": 41,
   "id": "6f2e14ee",
   "metadata": {},
   "outputs": [
    {
     "name": "stderr",
     "output_type": "stream",
     "text": [
      "<ipython-input-41-a45c1c768693>:1: DeprecationWarning: executable_path has been deprecated, please pass in a Service object\n",
      "  driver=webdriver.Chrome(r'C:\\Users\\Neeraj Kumar\\Downloads\\chromedriver_win32\\chromedriver')\n"
     ]
    }
   ],
   "source": [
    "driver=webdriver.Chrome(r'C:\\Users\\Neeraj Kumar\\Downloads\\chromedriver_win32\\chromedriver')"
   ]
  },
  {
   "cell_type": "code",
   "execution_count": 42,
   "id": "e2093f11",
   "metadata": {},
   "outputs": [],
   "source": [
    "url='https://www.naukri.com/'\n",
    "driver.get(url)#0btaining the url"
   ]
  },
  {
   "cell_type": "code",
   "execution_count": 43,
   "id": "fe96d645",
   "metadata": {},
   "outputs": [
    {
     "name": "stderr",
     "output_type": "stream",
     "text": [
      "<ipython-input-43-0888bf97e5ef>:1: DeprecationWarning: find_element_by_* commands are deprecated. Please use find_element() instead\n",
      "  searchbar=driver.find_element_by_id(\"qsb-keyword-sugg\")\n"
     ]
    }
   ],
   "source": [
    "searchbar=driver.find_element_by_id(\"qsb-keyword-sugg\")\n",
    "searchbar.send_keys('Data Scientist')#obtaining the keyword"
   ]
  },
  {
   "cell_type": "code",
   "execution_count": 44,
   "id": "95f6dd54",
   "metadata": {},
   "outputs": [
    {
     "name": "stderr",
     "output_type": "stream",
     "text": [
      "<ipython-input-44-b9edeb7f5cec>:1: DeprecationWarning: find_element_by_* commands are deprecated. Please use find_element() instead\n",
      "  search=driver.find_element_by_xpath('//button[@class=\"btn\"]')\n"
     ]
    }
   ],
   "source": [
    "search=driver.find_element_by_xpath('//button[@class=\"btn\"]')\n",
    "search.click()#clicking on the search button"
   ]
  },
  {
   "cell_type": "code",
   "execution_count": 45,
   "id": "cba6327c",
   "metadata": {},
   "outputs": [
    {
     "name": "stderr",
     "output_type": "stream",
     "text": [
      "<ipython-input-45-a26b615696dd>:1: DeprecationWarning: find_element_by_* commands are deprecated. Please use find_element() instead\n",
      "  filterloc=driver.find_element_by_xpath('//span[@title=\"Delhi / NCR\"]')\n"
     ]
    }
   ],
   "source": [
    "filterloc=driver.find_element_by_xpath('//span[@title=\"Delhi / NCR\"]')\n",
    "filterloc.click() #slecting the location       "
   ]
  },
  {
   "cell_type": "code",
   "execution_count": 46,
   "id": "ce8d21fd",
   "metadata": {},
   "outputs": [
    {
     "name": "stderr",
     "output_type": "stream",
     "text": [
      "<ipython-input-46-3c1e3441e2c5>:1: DeprecationWarning: find_element_by_* commands are deprecated. Please use find_element() instead\n",
      "  filtersal=driver.find_element_by_xpath('//span[@title=\"0-3 Lakhs\"]')\n"
     ]
    }
   ],
   "source": [
    "filtersal=driver.find_element_by_xpath('//span[@title=\"0-3 Lakhs\"]')\n",
    "filtersal.click()##selecting the salary"
   ]
  },
  {
   "cell_type": "code",
   "execution_count": 47,
   "id": "5a25437f",
   "metadata": {},
   "outputs": [
    {
     "name": "stderr",
     "output_type": "stream",
     "text": [
      "<ipython-input-47-c1b07fb0db82>:1: DeprecationWarning: find_elements_by_* commands are deprecated. Please use find_elements() instead\n",
      "  jobtitle=driver.find_elements_by_xpath('//div[@class=\"info fleft\"]/a')\n"
     ]
    },
    {
     "data": {
      "text/plain": [
       "[<selenium.webdriver.remote.webelement.WebElement (session=\"b73d069e49191f2096480b532e612346\", element=\"22ebcb42-adea-4eba-85f5-227812f24f43\")>,\n",
       " <selenium.webdriver.remote.webelement.WebElement (session=\"b73d069e49191f2096480b532e612346\", element=\"bd92f4a6-66da-4628-8198-c7441ad8a130\")>,\n",
       " <selenium.webdriver.remote.webelement.WebElement (session=\"b73d069e49191f2096480b532e612346\", element=\"daf1f124-7955-4b08-b9c9-8f176dff9d04\")>,\n",
       " <selenium.webdriver.remote.webelement.WebElement (session=\"b73d069e49191f2096480b532e612346\", element=\"8e241888-1a5f-4679-9d4c-0cde6404a478\")>,\n",
       " <selenium.webdriver.remote.webelement.WebElement (session=\"b73d069e49191f2096480b532e612346\", element=\"26ec5a22-2486-4f9b-a3c3-b10a0cd6ed8d\")>,\n",
       " <selenium.webdriver.remote.webelement.WebElement (session=\"b73d069e49191f2096480b532e612346\", element=\"4682d43a-8426-4d77-aad8-b56ec211c81e\")>,\n",
       " <selenium.webdriver.remote.webelement.WebElement (session=\"b73d069e49191f2096480b532e612346\", element=\"08802045-815b-448f-9226-649cbbf33bb4\")>,\n",
       " <selenium.webdriver.remote.webelement.WebElement (session=\"b73d069e49191f2096480b532e612346\", element=\"53839f56-da8f-4647-945c-4a6b851fb1b2\")>,\n",
       " <selenium.webdriver.remote.webelement.WebElement (session=\"b73d069e49191f2096480b532e612346\", element=\"286f7849-befd-49f7-9cd5-ca700d437819\")>,\n",
       " <selenium.webdriver.remote.webelement.WebElement (session=\"b73d069e49191f2096480b532e612346\", element=\"495c8a3a-6237-429f-9481-fd119a821bc8\")>,\n",
       " <selenium.webdriver.remote.webelement.WebElement (session=\"b73d069e49191f2096480b532e612346\", element=\"bd287a23-36e3-4459-85c0-038750085a79\")>,\n",
       " <selenium.webdriver.remote.webelement.WebElement (session=\"b73d069e49191f2096480b532e612346\", element=\"b2ba63fb-3c84-4d37-a688-8e6fc10879f3\")>,\n",
       " <selenium.webdriver.remote.webelement.WebElement (session=\"b73d069e49191f2096480b532e612346\", element=\"e01734ea-a116-447a-b229-ae7699035b0e\")>,\n",
       " <selenium.webdriver.remote.webelement.WebElement (session=\"b73d069e49191f2096480b532e612346\", element=\"1fdd2f39-fa4f-4a90-ac3a-bbb45294dcae\")>,\n",
       " <selenium.webdriver.remote.webelement.WebElement (session=\"b73d069e49191f2096480b532e612346\", element=\"6ee5f77b-bf6a-4f0c-b69b-0d63dd614a8c\")>,\n",
       " <selenium.webdriver.remote.webelement.WebElement (session=\"b73d069e49191f2096480b532e612346\", element=\"789b9a6e-0a1d-41ef-bb9d-6a28f953fa61\")>,\n",
       " <selenium.webdriver.remote.webelement.WebElement (session=\"b73d069e49191f2096480b532e612346\", element=\"da77af80-98e4-4c76-9fc7-ee26ef9d09e4\")>,\n",
       " <selenium.webdriver.remote.webelement.WebElement (session=\"b73d069e49191f2096480b532e612346\", element=\"cbba8bd8-762a-4794-8bbf-68dc1fa40ee8\")>,\n",
       " <selenium.webdriver.remote.webelement.WebElement (session=\"b73d069e49191f2096480b532e612346\", element=\"74af3819-daf9-48be-a604-d48690b3e58f\")>,\n",
       " <selenium.webdriver.remote.webelement.WebElement (session=\"b73d069e49191f2096480b532e612346\", element=\"4d9257c1-3645-4cb8-bafa-f02aeed6dce1\")>]"
      ]
     },
     "execution_count": 47,
     "metadata": {},
     "output_type": "execute_result"
    }
   ],
   "source": [
    "jobtitle=driver.find_elements_by_xpath('//div[@class=\"info fleft\"]/a')\n",
    "jobtitle#scraping the title"
   ]
  },
  {
   "cell_type": "code",
   "execution_count": 48,
   "id": "9f933066",
   "metadata": {},
   "outputs": [
    {
     "data": {
      "text/plain": [
       "['Data Scientist',\n",
       " 'Data Scientist, Energy modelling',\n",
       " 'Machine Learning Developer - Data Scientist',\n",
       " 'Data Scientist ( Solar Industry ) 2-5 Yrs @ Delhi- NCR',\n",
       " 'Immediate Opening For Data Scientist @ Delhi/NCR',\n",
       " 'Need Immediate Joiner For Data Scientist',\n",
       " 'Data Scientist',\n",
       " 'Data Scientist ( Solar Industry ) 2-5 Yrs @ Delhi- NCR',\n",
       " 'Data Analyst/Engineer',\n",
       " 'Developers, Data Scientists, Web Designers, Android Developers']"
      ]
     },
     "execution_count": 48,
     "metadata": {},
     "output_type": "execute_result"
    }
   ],
   "source": [
    "job=[]\n",
    "for i in jobtitle:\n",
    "    job.append(i.text)\n",
    "job[0:10]"
   ]
  },
  {
   "cell_type": "code",
   "execution_count": 49,
   "id": "a701ee30",
   "metadata": {},
   "outputs": [
    {
     "name": "stderr",
     "output_type": "stream",
     "text": [
      "<ipython-input-49-a1c4937a390a>:1: DeprecationWarning: find_elements_by_* commands are deprecated. Please use find_elements() instead\n",
      "  jobloc=driver.find_elements_by_xpath('//li[@class=\"fleft grey-text br2 placeHolderLi location\"]/span')\n"
     ]
    },
    {
     "data": {
      "text/plain": [
       "[<selenium.webdriver.remote.webelement.WebElement (session=\"b73d069e49191f2096480b532e612346\", element=\"552417e5-753d-4195-be16-7d6f49f2424b\")>,\n",
       " <selenium.webdriver.remote.webelement.WebElement (session=\"b73d069e49191f2096480b532e612346\", element=\"94c1b827-3c00-433f-9cd1-d7d690d2ecf3\")>,\n",
       " <selenium.webdriver.remote.webelement.WebElement (session=\"b73d069e49191f2096480b532e612346\", element=\"f4f3fe13-2f10-4826-9865-c032a097b309\")>,\n",
       " <selenium.webdriver.remote.webelement.WebElement (session=\"b73d069e49191f2096480b532e612346\", element=\"4e757a9b-cdcf-4446-9a97-697db72672bf\")>,\n",
       " <selenium.webdriver.remote.webelement.WebElement (session=\"b73d069e49191f2096480b532e612346\", element=\"ace23093-4e4c-4336-9ab7-28504f4f1097\")>,\n",
       " <selenium.webdriver.remote.webelement.WebElement (session=\"b73d069e49191f2096480b532e612346\", element=\"6a61bf48-5b02-4592-8782-0fb9cbef855a\")>,\n",
       " <selenium.webdriver.remote.webelement.WebElement (session=\"b73d069e49191f2096480b532e612346\", element=\"4d18f2f8-215f-4a44-a25b-d35cb2c264d6\")>,\n",
       " <selenium.webdriver.remote.webelement.WebElement (session=\"b73d069e49191f2096480b532e612346\", element=\"70df9bd3-0ac1-44bf-8c79-69cd006c3d01\")>,\n",
       " <selenium.webdriver.remote.webelement.WebElement (session=\"b73d069e49191f2096480b532e612346\", element=\"481db0d9-f832-417c-8332-df3b8345b454\")>,\n",
       " <selenium.webdriver.remote.webelement.WebElement (session=\"b73d069e49191f2096480b532e612346\", element=\"e686cb6f-f008-44d7-a53b-8c1684e388fd\")>,\n",
       " <selenium.webdriver.remote.webelement.WebElement (session=\"b73d069e49191f2096480b532e612346\", element=\"4b9f33a1-9485-424f-a8e0-ffab85ef9c29\")>,\n",
       " <selenium.webdriver.remote.webelement.WebElement (session=\"b73d069e49191f2096480b532e612346\", element=\"ea0c858a-72e2-4b5f-a0fd-3c97701d3156\")>,\n",
       " <selenium.webdriver.remote.webelement.WebElement (session=\"b73d069e49191f2096480b532e612346\", element=\"c7224671-b79d-41fc-b628-571083ce5d81\")>,\n",
       " <selenium.webdriver.remote.webelement.WebElement (session=\"b73d069e49191f2096480b532e612346\", element=\"f6177de7-ce9a-4009-a7f1-b98a0547fc04\")>,\n",
       " <selenium.webdriver.remote.webelement.WebElement (session=\"b73d069e49191f2096480b532e612346\", element=\"6c9c83a5-9e7c-4e0c-952f-bc76292cb44e\")>,\n",
       " <selenium.webdriver.remote.webelement.WebElement (session=\"b73d069e49191f2096480b532e612346\", element=\"5843f86d-019f-4edf-acde-f4c9814ef65c\")>,\n",
       " <selenium.webdriver.remote.webelement.WebElement (session=\"b73d069e49191f2096480b532e612346\", element=\"c3570437-7c27-47e8-9d7a-a7c9a623cd62\")>,\n",
       " <selenium.webdriver.remote.webelement.WebElement (session=\"b73d069e49191f2096480b532e612346\", element=\"6bcb69a7-5d42-41bd-a2fb-c99901662f32\")>,\n",
       " <selenium.webdriver.remote.webelement.WebElement (session=\"b73d069e49191f2096480b532e612346\", element=\"f9e671b9-c7cf-40fb-aa32-3a770d7b62b1\")>,\n",
       " <selenium.webdriver.remote.webelement.WebElement (session=\"b73d069e49191f2096480b532e612346\", element=\"dbc5990a-b4a1-4b4d-8ac1-3546c0b369ca\")>,\n",
       " <selenium.webdriver.remote.webelement.WebElement (session=\"b73d069e49191f2096480b532e612346\", element=\"6dcb8215-23a9-4bf1-bacc-75ba27ffe70f\")>,\n",
       " <selenium.webdriver.remote.webelement.WebElement (session=\"b73d069e49191f2096480b532e612346\", element=\"7ea6c9bb-3ba5-4243-a7bf-6a518761093b\")>,\n",
       " <selenium.webdriver.remote.webelement.WebElement (session=\"b73d069e49191f2096480b532e612346\", element=\"182eb69f-1188-45f6-8556-91a758e2e0c9\")>,\n",
       " <selenium.webdriver.remote.webelement.WebElement (session=\"b73d069e49191f2096480b532e612346\", element=\"0acbef0b-5f44-49ae-859e-3b0d69687c4a\")>]"
      ]
     },
     "execution_count": 49,
     "metadata": {},
     "output_type": "execute_result"
    }
   ],
   "source": [
    "jobloc=driver.find_elements_by_xpath('//li[@class=\"fleft grey-text br2 placeHolderLi location\"]/span')\n",
    "jobloc#scraping the location"
   ]
  },
  {
   "cell_type": "code",
   "execution_count": 50,
   "id": "23f7bc8b",
   "metadata": {},
   "outputs": [
    {
     "data": {
      "text/plain": [
       "['Noida',\n",
       " 'Remote',\n",
       " 'Noida',\n",
       " 'Noida, Delhi / NCR',\n",
       " 'Noida, Gurgaon/Gurugram, Delhi / NCR',\n",
       " 'Gurgaon/Gurugram',\n",
       " 'Noida',\n",
       " 'Noida, Delhi / NCR',\n",
       " 'Kolkata, Hyderabad/Secunderabad, Pune, Chennai, Bangalore/Bengaluru, Delhi / NCR, Mumbai (All Areas)',\n",
       " '(WFH during Covid)']"
      ]
     },
     "execution_count": 50,
     "metadata": {},
     "output_type": "execute_result"
    }
   ],
   "source": [
    "location=[]\n",
    "for i in jobloc:\n",
    "    location.append(i.text)\n",
    "location[0:10]"
   ]
  },
  {
   "cell_type": "code",
   "execution_count": 51,
   "id": "b04a3def",
   "metadata": {},
   "outputs": [
    {
     "name": "stderr",
     "output_type": "stream",
     "text": [
      "<ipython-input-51-942a1765eb40>:1: DeprecationWarning: find_elements_by_* commands are deprecated. Please use find_elements() instead\n",
      "  comp=driver.find_elements_by_xpath('//div[@class=\"mt-7 companyInfo subheading lh16\"]//a[@class=\"subTitle ellipsis fleft\"]')\n"
     ]
    },
    {
     "data": {
      "text/plain": [
       "[<selenium.webdriver.remote.webelement.WebElement (session=\"b73d069e49191f2096480b532e612346\", element=\"4c1d4b89-a4c0-4db8-a217-62c9e58311ae\")>,\n",
       " <selenium.webdriver.remote.webelement.WebElement (session=\"b73d069e49191f2096480b532e612346\", element=\"c99d1a3f-e2b0-4248-8fcc-c2f6dc19d4cd\")>,\n",
       " <selenium.webdriver.remote.webelement.WebElement (session=\"b73d069e49191f2096480b532e612346\", element=\"86f282ba-e01e-4529-94fe-282540d242f0\")>,\n",
       " <selenium.webdriver.remote.webelement.WebElement (session=\"b73d069e49191f2096480b532e612346\", element=\"95d84105-565d-4b8a-b854-b9a8b6229a2a\")>,\n",
       " <selenium.webdriver.remote.webelement.WebElement (session=\"b73d069e49191f2096480b532e612346\", element=\"2d75a4c4-8995-4f25-b630-5a542ae33125\")>,\n",
       " <selenium.webdriver.remote.webelement.WebElement (session=\"b73d069e49191f2096480b532e612346\", element=\"e80de9b0-3194-493f-83ab-dd66f284a7af\")>,\n",
       " <selenium.webdriver.remote.webelement.WebElement (session=\"b73d069e49191f2096480b532e612346\", element=\"4d23c213-9894-4637-bb01-51a4dd3db17e\")>,\n",
       " <selenium.webdriver.remote.webelement.WebElement (session=\"b73d069e49191f2096480b532e612346\", element=\"75690f44-f7c2-40bc-a578-15a77e74f88d\")>,\n",
       " <selenium.webdriver.remote.webelement.WebElement (session=\"b73d069e49191f2096480b532e612346\", element=\"335e3f26-57d7-4fe9-9659-2953e36b7ee5\")>,\n",
       " <selenium.webdriver.remote.webelement.WebElement (session=\"b73d069e49191f2096480b532e612346\", element=\"19de2a79-0fe6-480d-ad9d-ba4d27418111\")>,\n",
       " <selenium.webdriver.remote.webelement.WebElement (session=\"b73d069e49191f2096480b532e612346\", element=\"37ef9530-7327-438d-9644-ecd1402e9a28\")>,\n",
       " <selenium.webdriver.remote.webelement.WebElement (session=\"b73d069e49191f2096480b532e612346\", element=\"4184bfea-f01d-4133-9a79-06459aa101f9\")>,\n",
       " <selenium.webdriver.remote.webelement.WebElement (session=\"b73d069e49191f2096480b532e612346\", element=\"b9508db4-d2fa-4680-adbd-74e117c73db6\")>,\n",
       " <selenium.webdriver.remote.webelement.WebElement (session=\"b73d069e49191f2096480b532e612346\", element=\"3af60431-c02b-44f9-8da0-495ba9d28e94\")>,\n",
       " <selenium.webdriver.remote.webelement.WebElement (session=\"b73d069e49191f2096480b532e612346\", element=\"aa9a8e30-fa26-40e1-8546-6426c17aaf00\")>,\n",
       " <selenium.webdriver.remote.webelement.WebElement (session=\"b73d069e49191f2096480b532e612346\", element=\"1ffc1e8b-2e83-4640-9dd5-e1462d4f4e8f\")>,\n",
       " <selenium.webdriver.remote.webelement.WebElement (session=\"b73d069e49191f2096480b532e612346\", element=\"8f626af5-c383-4235-b8f3-973b1660aa44\")>,\n",
       " <selenium.webdriver.remote.webelement.WebElement (session=\"b73d069e49191f2096480b532e612346\", element=\"f9477d0f-d0b4-4e3b-a69d-abf5aecda964\")>,\n",
       " <selenium.webdriver.remote.webelement.WebElement (session=\"b73d069e49191f2096480b532e612346\", element=\"477e4e0b-9cbb-45c5-9526-cb7d9b210f6f\")>,\n",
       " <selenium.webdriver.remote.webelement.WebElement (session=\"b73d069e49191f2096480b532e612346\", element=\"c80c99a9-b981-475d-9a2e-83947159396a\")>]"
      ]
     },
     "execution_count": 51,
     "metadata": {},
     "output_type": "execute_result"
    }
   ],
   "source": [
    "comp=driver.find_elements_by_xpath('//div[@class=\"mt-7 companyInfo subheading lh16\"]//a[@class=\"subTitle ellipsis fleft\"]')\n",
    "comp#scraping the company"
   ]
  },
  {
   "cell_type": "code",
   "execution_count": 52,
   "id": "73b71ecd",
   "metadata": {},
   "outputs": [
    {
     "data": {
      "text/plain": [
       "['SVK Global Solutions Private Limited',\n",
       " 'CEPA',\n",
       " 'Compass Systems Private Limited',\n",
       " 'Reckon HR consulting',\n",
       " 'Truetech Solutions Private Limited',\n",
       " 'Truetech Solutions Private Limited',\n",
       " 'Gauge Data Solutions Pvt Ltd',\n",
       " 'Reckon HR consulting',\n",
       " 'Wipro Limited',\n",
       " 'Cogmac Technologies']"
      ]
     },
     "execution_count": 52,
     "metadata": {},
     "output_type": "execute_result"
    }
   ],
   "source": [
    "company=[]\n",
    "for i in comp:\n",
    "    company.append(i.text)\n",
    "company[0:10]"
   ]
  },
  {
   "cell_type": "code",
   "execution_count": 53,
   "id": "291caebe",
   "metadata": {},
   "outputs": [
    {
     "name": "stderr",
     "output_type": "stream",
     "text": [
      "<ipython-input-53-7ed406d1835e>:1: DeprecationWarning: find_elements_by_* commands are deprecated. Please use find_elements() instead\n",
      "  exp=driver.find_elements_by_xpath('//li[@class=\"fleft grey-text br2 placeHolderLi experience\"]/span')\n"
     ]
    },
    {
     "data": {
      "text/plain": [
       "[<selenium.webdriver.remote.webelement.WebElement (session=\"b73d069e49191f2096480b532e612346\", element=\"b7139bd1-80f4-42d9-a887-6dfa052a8e90\")>,\n",
       " <selenium.webdriver.remote.webelement.WebElement (session=\"b73d069e49191f2096480b532e612346\", element=\"e64ac42d-a51e-49de-ae38-41b9ee2ca72c\")>,\n",
       " <selenium.webdriver.remote.webelement.WebElement (session=\"b73d069e49191f2096480b532e612346\", element=\"1fef7767-601b-4489-a7ac-baca62826798\")>,\n",
       " <selenium.webdriver.remote.webelement.WebElement (session=\"b73d069e49191f2096480b532e612346\", element=\"cbf72a0f-b1c6-4c91-ac87-34f79a845ec9\")>,\n",
       " <selenium.webdriver.remote.webelement.WebElement (session=\"b73d069e49191f2096480b532e612346\", element=\"def4e4df-a334-4c46-b8e8-b3f2a8d26878\")>,\n",
       " <selenium.webdriver.remote.webelement.WebElement (session=\"b73d069e49191f2096480b532e612346\", element=\"59d03717-ce60-4351-a530-3c66633d05d4\")>,\n",
       " <selenium.webdriver.remote.webelement.WebElement (session=\"b73d069e49191f2096480b532e612346\", element=\"c434aa32-da77-409c-87f0-d318a04cd8f1\")>,\n",
       " <selenium.webdriver.remote.webelement.WebElement (session=\"b73d069e49191f2096480b532e612346\", element=\"3933596b-fde6-421a-bc88-697cb2521d0a\")>,\n",
       " <selenium.webdriver.remote.webelement.WebElement (session=\"b73d069e49191f2096480b532e612346\", element=\"b041d443-3498-4521-a71c-a480d1b17639\")>,\n",
       " <selenium.webdriver.remote.webelement.WebElement (session=\"b73d069e49191f2096480b532e612346\", element=\"38e68f02-cee4-4ba7-aa22-314e0897fd4e\")>,\n",
       " <selenium.webdriver.remote.webelement.WebElement (session=\"b73d069e49191f2096480b532e612346\", element=\"fefff537-e91c-48e3-b412-70d3483d679b\")>,\n",
       " <selenium.webdriver.remote.webelement.WebElement (session=\"b73d069e49191f2096480b532e612346\", element=\"e6568ac4-4e31-486b-b27f-61c8b38f01e0\")>,\n",
       " <selenium.webdriver.remote.webelement.WebElement (session=\"b73d069e49191f2096480b532e612346\", element=\"edda4121-23f3-4c31-b82c-4465855fc9ce\")>,\n",
       " <selenium.webdriver.remote.webelement.WebElement (session=\"b73d069e49191f2096480b532e612346\", element=\"99d2ea4c-2810-4823-9a00-bafd9637114b\")>,\n",
       " <selenium.webdriver.remote.webelement.WebElement (session=\"b73d069e49191f2096480b532e612346\", element=\"ca14fd67-9101-4d31-b404-b59f4781fd6c\")>,\n",
       " <selenium.webdriver.remote.webelement.WebElement (session=\"b73d069e49191f2096480b532e612346\", element=\"4d093d4d-d41a-493f-843a-56ef0b1d970e\")>,\n",
       " <selenium.webdriver.remote.webelement.WebElement (session=\"b73d069e49191f2096480b532e612346\", element=\"adfe8e02-c6d9-48e2-b6e0-80a22e2471d0\")>,\n",
       " <selenium.webdriver.remote.webelement.WebElement (session=\"b73d069e49191f2096480b532e612346\", element=\"d1e62569-2dc6-4df8-952f-2b19314dbbe5\")>,\n",
       " <selenium.webdriver.remote.webelement.WebElement (session=\"b73d069e49191f2096480b532e612346\", element=\"e4d04ecc-d990-4c7e-af33-1544f46ff3d9\")>,\n",
       " <selenium.webdriver.remote.webelement.WebElement (session=\"b73d069e49191f2096480b532e612346\", element=\"f573cdce-6e69-4429-b30e-88e7e576501c\")>]"
      ]
     },
     "execution_count": 53,
     "metadata": {},
     "output_type": "execute_result"
    }
   ],
   "source": [
    "exp=driver.find_elements_by_xpath('//li[@class=\"fleft grey-text br2 placeHolderLi experience\"]/span')\n",
    "exp#scraping the experience"
   ]
  },
  {
   "cell_type": "code",
   "execution_count": 54,
   "id": "71612639",
   "metadata": {},
   "outputs": [
    {
     "data": {
      "text/plain": [
       "['6-10 Yrs',\n",
       " '0-5 Yrs',\n",
       " '3-8 Yrs',\n",
       " '2-5 Yrs',\n",
       " '3-5 Yrs',\n",
       " '8-10 Yrs',\n",
       " '2-7 Yrs',\n",
       " '2-5 Yrs',\n",
       " '6-10 Yrs',\n",
       " '1-5 Yrs']"
      ]
     },
     "execution_count": 54,
     "metadata": {},
     "output_type": "execute_result"
    }
   ],
   "source": [
    "experience=[]\n",
    "for i in exp:\n",
    "    experience.append(i.text)\n",
    "experience[0:10]"
   ]
  },
  {
   "cell_type": "code",
   "execution_count": 55,
   "id": "210a6f03",
   "metadata": {},
   "outputs": [
    {
     "data": {
      "text/html": [
       "<div>\n",
       "<style scoped>\n",
       "    .dataframe tbody tr th:only-of-type {\n",
       "        vertical-align: middle;\n",
       "    }\n",
       "\n",
       "    .dataframe tbody tr th {\n",
       "        vertical-align: top;\n",
       "    }\n",
       "\n",
       "    .dataframe thead th {\n",
       "        text-align: right;\n",
       "    }\n",
       "</style>\n",
       "<table border=\"1\" class=\"dataframe\">\n",
       "  <thead>\n",
       "    <tr style=\"text-align: right;\">\n",
       "      <th></th>\n",
       "      <th>Job Title</th>\n",
       "      <th>Company</th>\n",
       "      <th>Location</th>\n",
       "      <th>Experience</th>\n",
       "    </tr>\n",
       "  </thead>\n",
       "  <tbody>\n",
       "    <tr>\n",
       "      <th>0</th>\n",
       "      <td>Data Scientist</td>\n",
       "      <td>SVK Global Solutions Private Limited</td>\n",
       "      <td>Noida</td>\n",
       "      <td>6-10 Yrs</td>\n",
       "    </tr>\n",
       "    <tr>\n",
       "      <th>1</th>\n",
       "      <td>Data Scientist, Energy modelling</td>\n",
       "      <td>CEPA</td>\n",
       "      <td>Remote</td>\n",
       "      <td>0-5 Yrs</td>\n",
       "    </tr>\n",
       "    <tr>\n",
       "      <th>2</th>\n",
       "      <td>Machine Learning Developer - Data Scientist</td>\n",
       "      <td>Compass Systems Private Limited</td>\n",
       "      <td>Noida</td>\n",
       "      <td>3-8 Yrs</td>\n",
       "    </tr>\n",
       "    <tr>\n",
       "      <th>3</th>\n",
       "      <td>Data Scientist ( Solar Industry ) 2-5 Yrs @ De...</td>\n",
       "      <td>Reckon HR consulting</td>\n",
       "      <td>Noida, Delhi / NCR</td>\n",
       "      <td>2-5 Yrs</td>\n",
       "    </tr>\n",
       "    <tr>\n",
       "      <th>4</th>\n",
       "      <td>Immediate Opening For Data Scientist @ Delhi/NCR</td>\n",
       "      <td>Truetech Solutions Private Limited</td>\n",
       "      <td>Noida, Gurgaon/Gurugram, Delhi / NCR</td>\n",
       "      <td>3-5 Yrs</td>\n",
       "    </tr>\n",
       "    <tr>\n",
       "      <th>5</th>\n",
       "      <td>Need Immediate Joiner For Data Scientist</td>\n",
       "      <td>Truetech Solutions Private Limited</td>\n",
       "      <td>Gurgaon/Gurugram</td>\n",
       "      <td>8-10 Yrs</td>\n",
       "    </tr>\n",
       "    <tr>\n",
       "      <th>6</th>\n",
       "      <td>Data Scientist</td>\n",
       "      <td>Gauge Data Solutions Pvt Ltd</td>\n",
       "      <td>Noida</td>\n",
       "      <td>2-7 Yrs</td>\n",
       "    </tr>\n",
       "    <tr>\n",
       "      <th>7</th>\n",
       "      <td>Data Scientist ( Solar Industry ) 2-5 Yrs @ De...</td>\n",
       "      <td>Reckon HR consulting</td>\n",
       "      <td>Noida, Delhi / NCR</td>\n",
       "      <td>2-5 Yrs</td>\n",
       "    </tr>\n",
       "    <tr>\n",
       "      <th>8</th>\n",
       "      <td>Data Analyst/Engineer</td>\n",
       "      <td>Wipro Limited</td>\n",
       "      <td>Kolkata, Hyderabad/Secunderabad, Pune, Chennai...</td>\n",
       "      <td>6-10 Yrs</td>\n",
       "    </tr>\n",
       "    <tr>\n",
       "      <th>9</th>\n",
       "      <td>Developers, Data Scientists, Web Designers, An...</td>\n",
       "      <td>Cogmac Technologies</td>\n",
       "      <td>(WFH during Covid)</td>\n",
       "      <td>1-5 Yrs</td>\n",
       "    </tr>\n",
       "  </tbody>\n",
       "</table>\n",
       "</div>"
      ],
      "text/plain": [
       "                                           Job Title  \\\n",
       "0                                     Data Scientist   \n",
       "1                   Data Scientist, Energy modelling   \n",
       "2        Machine Learning Developer - Data Scientist   \n",
       "3  Data Scientist ( Solar Industry ) 2-5 Yrs @ De...   \n",
       "4   Immediate Opening For Data Scientist @ Delhi/NCR   \n",
       "5           Need Immediate Joiner For Data Scientist   \n",
       "6                                     Data Scientist   \n",
       "7  Data Scientist ( Solar Industry ) 2-5 Yrs @ De...   \n",
       "8                              Data Analyst/Engineer   \n",
       "9  Developers, Data Scientists, Web Designers, An...   \n",
       "\n",
       "                                Company  \\\n",
       "0  SVK Global Solutions Private Limited   \n",
       "1                                  CEPA   \n",
       "2       Compass Systems Private Limited   \n",
       "3                  Reckon HR consulting   \n",
       "4    Truetech Solutions Private Limited   \n",
       "5    Truetech Solutions Private Limited   \n",
       "6          Gauge Data Solutions Pvt Ltd   \n",
       "7                  Reckon HR consulting   \n",
       "8                         Wipro Limited   \n",
       "9                   Cogmac Technologies   \n",
       "\n",
       "                                            Location Experience  \n",
       "0                                              Noida   6-10 Yrs  \n",
       "1                                             Remote    0-5 Yrs  \n",
       "2                                              Noida    3-8 Yrs  \n",
       "3                                 Noida, Delhi / NCR    2-5 Yrs  \n",
       "4               Noida, Gurgaon/Gurugram, Delhi / NCR    3-5 Yrs  \n",
       "5                                   Gurgaon/Gurugram   8-10 Yrs  \n",
       "6                                              Noida    2-7 Yrs  \n",
       "7                                 Noida, Delhi / NCR    2-5 Yrs  \n",
       "8  Kolkata, Hyderabad/Secunderabad, Pune, Chennai...   6-10 Yrs  \n",
       "9                                 (WFH during Covid)    1-5 Yrs  "
      ]
     },
     "execution_count": 55,
     "metadata": {},
     "output_type": "execute_result"
    }
   ],
   "source": [
    "data=pd.DataFrame()\n",
    "data['Job Title']=job[0:10]\n",
    "data['Company']=company[0:10]\n",
    "data['Location']=location[0:10]\n",
    "data['Experience']=experience[0:10]\n",
    "data"
   ]
  },
  {
   "cell_type": "markdown",
   "id": "73f63e60",
   "metadata": {},
   "source": [
    "# Q4: Scrape data of first 100 sunglasses listings on flipkart.com. You have to scrape four attributes:\n"
   ]
  },
  {
   "cell_type": "code",
   "execution_count": 56,
   "id": "b694b607",
   "metadata": {},
   "outputs": [],
   "source": [
    "import pandas as pd\n",
    "import selenium\n",
    "from selenium import webdriver"
   ]
  },
  {
   "cell_type": "code",
   "execution_count": 57,
   "id": "e181cf61",
   "metadata": {},
   "outputs": [
    {
     "name": "stderr",
     "output_type": "stream",
     "text": [
      "<ipython-input-57-a45c1c768693>:1: DeprecationWarning: executable_path has been deprecated, please pass in a Service object\n",
      "  driver=webdriver.Chrome(r'C:\\Users\\Neeraj Kumar\\Downloads\\chromedriver_win32\\chromedriver')\n"
     ]
    }
   ],
   "source": [
    "driver=webdriver.Chrome(r'C:\\Users\\Neeraj Kumar\\Downloads\\chromedriver_win32\\chromedriver')"
   ]
  },
  {
   "cell_type": "code",
   "execution_count": 58,
   "id": "48661437",
   "metadata": {},
   "outputs": [],
   "source": [
    "url='https://www.flipkart.com/'"
   ]
  },
  {
   "cell_type": "code",
   "execution_count": 59,
   "id": "00594e2c",
   "metadata": {},
   "outputs": [],
   "source": [
    "link=driver.get(url)#getting the link"
   ]
  },
  {
   "cell_type": "code",
   "execution_count": 60,
   "id": "ea487477",
   "metadata": {},
   "outputs": [
    {
     "name": "stderr",
     "output_type": "stream",
     "text": [
      "<ipython-input-60-283dda36c3fc>:1: DeprecationWarning: find_element_by_* commands are deprecated. Please use find_element() instead\n",
      "  Close=driver.find_element_by_xpath('/html/body/div[2]/div/div/button')\n"
     ]
    }
   ],
   "source": [
    "Close=driver.find_element_by_xpath('/html/body/div[2]/div/div/button')\n",
    "Close.click()#closing the popup"
   ]
  },
  {
   "cell_type": "code",
   "execution_count": 61,
   "id": "1c5a49f7",
   "metadata": {},
   "outputs": [
    {
     "name": "stderr",
     "output_type": "stream",
     "text": [
      "<ipython-input-61-1957c57d39d9>:1: DeprecationWarning: find_element_by_* commands are deprecated. Please use find_element() instead\n",
      "  search=driver.find_element_by_xpath('//input[@title=\"Search for products, brands and more\"]')\n"
     ]
    }
   ],
   "source": [
    "search=driver.find_element_by_xpath('//input[@title=\"Search for products, brands and more\"]')\n",
    "search.send_keys('Sunglasses')#selecting the sunglasses from the search bar"
   ]
  },
  {
   "cell_type": "code",
   "execution_count": 62,
   "id": "a2fb218e",
   "metadata": {},
   "outputs": [
    {
     "name": "stderr",
     "output_type": "stream",
     "text": [
      "<ipython-input-62-622ac53b10aa>:1: DeprecationWarning: find_element_by_* commands are deprecated. Please use find_element() instead\n",
      "  click1=driver.find_element_by_xpath('//button[@class=\"L0Z3Pu\"]')\n"
     ]
    }
   ],
   "source": [
    "click1=driver.find_element_by_xpath('//button[@class=\"L0Z3Pu\"]')\n",
    "click1.click()#clicking the searchbutton"
   ]
  },
  {
   "cell_type": "code",
   "execution_count": 63,
   "id": "af4cd407",
   "metadata": {},
   "outputs": [
    {
     "name": "stderr",
     "output_type": "stream",
     "text": [
      "<ipython-input-63-de2830a592f8>:1: DeprecationWarning: find_elements_by_* commands are deprecated. Please use find_elements() instead\n",
      "  brand=driver.find_elements_by_xpath('//div[@class=\"_2WkVRV\"]')\n"
     ]
    },
    {
     "data": {
      "text/plain": [
       "[<selenium.webdriver.remote.webelement.WebElement (session=\"79ff1a4811a987c6abb25abf758b8d26\", element=\"82b60234-2d8f-4920-acf6-0baa69149eb0\")>,\n",
       " <selenium.webdriver.remote.webelement.WebElement (session=\"79ff1a4811a987c6abb25abf758b8d26\", element=\"f591e2c7-1a5e-4f67-a80b-a01fdb21f387\")>,\n",
       " <selenium.webdriver.remote.webelement.WebElement (session=\"79ff1a4811a987c6abb25abf758b8d26\", element=\"dbf9a129-4891-4f03-b73e-bf2025f83da8\")>,\n",
       " <selenium.webdriver.remote.webelement.WebElement (session=\"79ff1a4811a987c6abb25abf758b8d26\", element=\"f8abf324-01a9-4e95-bbaf-9cac38815ade\")>,\n",
       " <selenium.webdriver.remote.webelement.WebElement (session=\"79ff1a4811a987c6abb25abf758b8d26\", element=\"c7136acd-8554-41d3-bfce-a29abe7b2ee5\")>,\n",
       " <selenium.webdriver.remote.webelement.WebElement (session=\"79ff1a4811a987c6abb25abf758b8d26\", element=\"767eb37f-20ab-4e43-84c1-8e3ba8feb550\")>,\n",
       " <selenium.webdriver.remote.webelement.WebElement (session=\"79ff1a4811a987c6abb25abf758b8d26\", element=\"2ca1d0d7-9c25-4b90-8ed5-a561a604526a\")>,\n",
       " <selenium.webdriver.remote.webelement.WebElement (session=\"79ff1a4811a987c6abb25abf758b8d26\", element=\"1f972b17-d7a1-4b3b-8898-18e746065812\")>,\n",
       " <selenium.webdriver.remote.webelement.WebElement (session=\"79ff1a4811a987c6abb25abf758b8d26\", element=\"ded03b07-6de8-4d5d-b3a7-c5b884229517\")>,\n",
       " <selenium.webdriver.remote.webelement.WebElement (session=\"79ff1a4811a987c6abb25abf758b8d26\", element=\"d4c652de-925a-48b6-98f6-00746565466f\")>,\n",
       " <selenium.webdriver.remote.webelement.WebElement (session=\"79ff1a4811a987c6abb25abf758b8d26\", element=\"8f082ced-9229-460a-a487-5ed3f8a49da9\")>,\n",
       " <selenium.webdriver.remote.webelement.WebElement (session=\"79ff1a4811a987c6abb25abf758b8d26\", element=\"f0988c7d-6842-45f5-9ca9-4166255aef9b\")>,\n",
       " <selenium.webdriver.remote.webelement.WebElement (session=\"79ff1a4811a987c6abb25abf758b8d26\", element=\"8e0797de-0a46-43ff-b821-bdcb13212b8c\")>,\n",
       " <selenium.webdriver.remote.webelement.WebElement (session=\"79ff1a4811a987c6abb25abf758b8d26\", element=\"93cc4c8e-0e93-40e4-b1f3-f8f8e085d160\")>,\n",
       " <selenium.webdriver.remote.webelement.WebElement (session=\"79ff1a4811a987c6abb25abf758b8d26\", element=\"c4f9ff32-ad8c-4480-b598-cf516046939d\")>,\n",
       " <selenium.webdriver.remote.webelement.WebElement (session=\"79ff1a4811a987c6abb25abf758b8d26\", element=\"e0d82993-9960-4550-b3b1-b9802d826d6b\")>,\n",
       " <selenium.webdriver.remote.webelement.WebElement (session=\"79ff1a4811a987c6abb25abf758b8d26\", element=\"abeaa7df-db06-4760-a581-274dbbae0f5e\")>,\n",
       " <selenium.webdriver.remote.webelement.WebElement (session=\"79ff1a4811a987c6abb25abf758b8d26\", element=\"42bb11ff-bfd1-4c1a-b61b-f55f06fb088a\")>,\n",
       " <selenium.webdriver.remote.webelement.WebElement (session=\"79ff1a4811a987c6abb25abf758b8d26\", element=\"eca16549-c45d-4c16-af51-889e62b76611\")>,\n",
       " <selenium.webdriver.remote.webelement.WebElement (session=\"79ff1a4811a987c6abb25abf758b8d26\", element=\"f6532c9e-94ef-4fd1-9834-7045bda99bdd\")>,\n",
       " <selenium.webdriver.remote.webelement.WebElement (session=\"79ff1a4811a987c6abb25abf758b8d26\", element=\"cf4adf85-3308-4830-8c2f-a4da0a1ec633\")>,\n",
       " <selenium.webdriver.remote.webelement.WebElement (session=\"79ff1a4811a987c6abb25abf758b8d26\", element=\"81d115e6-3a45-4e28-a1b7-eb01bfc55527\")>,\n",
       " <selenium.webdriver.remote.webelement.WebElement (session=\"79ff1a4811a987c6abb25abf758b8d26\", element=\"de0f88f7-fed1-4932-a430-2561c0413fb8\")>,\n",
       " <selenium.webdriver.remote.webelement.WebElement (session=\"79ff1a4811a987c6abb25abf758b8d26\", element=\"05fc737c-b4d3-4a14-ada3-8535da6c5faf\")>,\n",
       " <selenium.webdriver.remote.webelement.WebElement (session=\"79ff1a4811a987c6abb25abf758b8d26\", element=\"7b619ae0-8a99-4b6a-aab4-9b665d2d9599\")>,\n",
       " <selenium.webdriver.remote.webelement.WebElement (session=\"79ff1a4811a987c6abb25abf758b8d26\", element=\"0f981252-2c87-4aed-8e40-70bc095d129f\")>,\n",
       " <selenium.webdriver.remote.webelement.WebElement (session=\"79ff1a4811a987c6abb25abf758b8d26\", element=\"c126d622-8e97-4ff7-8bfe-fb054b83e61e\")>,\n",
       " <selenium.webdriver.remote.webelement.WebElement (session=\"79ff1a4811a987c6abb25abf758b8d26\", element=\"87a35129-5280-4fd7-8f9b-834c7182b068\")>,\n",
       " <selenium.webdriver.remote.webelement.WebElement (session=\"79ff1a4811a987c6abb25abf758b8d26\", element=\"7920696a-b6cd-4e62-8b1e-6a37c102155d\")>,\n",
       " <selenium.webdriver.remote.webelement.WebElement (session=\"79ff1a4811a987c6abb25abf758b8d26\", element=\"8e0e5bcf-e318-47be-badb-9b4aa036d3df\")>,\n",
       " <selenium.webdriver.remote.webelement.WebElement (session=\"79ff1a4811a987c6abb25abf758b8d26\", element=\"7e3d8228-38df-4e6a-b5a9-47447b6b23a8\")>,\n",
       " <selenium.webdriver.remote.webelement.WebElement (session=\"79ff1a4811a987c6abb25abf758b8d26\", element=\"3880c265-cab4-4255-b029-74e10bda8a97\")>,\n",
       " <selenium.webdriver.remote.webelement.WebElement (session=\"79ff1a4811a987c6abb25abf758b8d26\", element=\"3cb98f03-16e4-41ca-9e6c-4778d9b23404\")>,\n",
       " <selenium.webdriver.remote.webelement.WebElement (session=\"79ff1a4811a987c6abb25abf758b8d26\", element=\"768aa66e-e261-49af-9714-b7a2aebd357e\")>,\n",
       " <selenium.webdriver.remote.webelement.WebElement (session=\"79ff1a4811a987c6abb25abf758b8d26\", element=\"97594834-eba8-4762-b04d-a0338903c209\")>,\n",
       " <selenium.webdriver.remote.webelement.WebElement (session=\"79ff1a4811a987c6abb25abf758b8d26\", element=\"f58cdf6c-1a29-471c-ad46-4e9dd25efd2e\")>,\n",
       " <selenium.webdriver.remote.webelement.WebElement (session=\"79ff1a4811a987c6abb25abf758b8d26\", element=\"b2e35da0-44d8-40ef-a77d-f48df2bd70db\")>,\n",
       " <selenium.webdriver.remote.webelement.WebElement (session=\"79ff1a4811a987c6abb25abf758b8d26\", element=\"20637b0b-0dd9-4f91-96f2-38be6f675f9d\")>,\n",
       " <selenium.webdriver.remote.webelement.WebElement (session=\"79ff1a4811a987c6abb25abf758b8d26\", element=\"9691d3af-9997-4ab6-aa88-8051f6e2fa14\")>,\n",
       " <selenium.webdriver.remote.webelement.WebElement (session=\"79ff1a4811a987c6abb25abf758b8d26\", element=\"d3560e22-80c8-4ca2-9dbb-ecd97c6078e9\")>]"
      ]
     },
     "execution_count": 63,
     "metadata": {},
     "output_type": "execute_result"
    }
   ],
   "source": [
    "brand=driver.find_elements_by_xpath('//div[@class=\"_2WkVRV\"]')\n",
    "brand#scraping the brand"
   ]
  },
  {
   "cell_type": "code",
   "execution_count": 64,
   "id": "24afefa9",
   "metadata": {},
   "outputs": [
    {
     "data": {
      "text/plain": [
       "['ROZZETTA CRAFT',\n",
       " 'ROYAL SON',\n",
       " 'SUNBEE',\n",
       " 'Fastrack',\n",
       " 'Elligator',\n",
       " 'PIRASO',\n",
       " 'SRPM',\n",
       " 'PIRASO',\n",
       " 'SHAAH COLLECTIONS',\n",
       " 'GANSTA',\n",
       " 'PIRASO',\n",
       " 'PIRASO',\n",
       " 'kingsunglasses',\n",
       " 'SHAAH COLLECTIONS',\n",
       " 'hipe',\n",
       " 'ROYAL SON',\n",
       " 'PHENOMENAL',\n",
       " 'kingsunglasses',\n",
       " 'HIPPON',\n",
       " 'PIRASO',\n",
       " 'ROZZETTA CRAFT',\n",
       " 'New Specs',\n",
       " 'Elligator',\n",
       " 'PIRASO',\n",
       " 'Elligator',\n",
       " 'Silver Kartz',\n",
       " 'NuVew',\n",
       " 'Fravy',\n",
       " 'Rich Club',\n",
       " 'SUNBEE',\n",
       " 'ROZZETTA CRAFT',\n",
       " 'Singco India',\n",
       " 'SHAAH COLLECTIONS',\n",
       " 'New Specs',\n",
       " 'PHENOMENAL',\n",
       " 'PIRASO',\n",
       " 'Elligator',\n",
       " 'PIRASO',\n",
       " 'hipe',\n",
       " 'Singco India']"
      ]
     },
     "execution_count": 64,
     "metadata": {},
     "output_type": "execute_result"
    }
   ],
   "source": [
    "Brands=[]\n",
    "for i in brand:\n",
    "    Brands.append(i.text)\n",
    "Brands"
   ]
  },
  {
   "cell_type": "code",
   "execution_count": 65,
   "id": "c705efa2",
   "metadata": {},
   "outputs": [
    {
     "name": "stderr",
     "output_type": "stream",
     "text": [
      "<ipython-input-65-c4835e991eb0>:1: DeprecationWarning: find_elements_by_* commands are deprecated. Please use find_elements() instead\n",
      "  des=driver.find_elements_by_xpath('//div[@class=\"_2B099V\"]//a[@class=\"IRpwTa\"]')\n"
     ]
    },
    {
     "data": {
      "text/plain": [
       "['UV Protection, Gradient Round Sunglasses (Free Size)',\n",
       " 'UV Protection Over-sized Sunglasses (65)',\n",
       " 'UV Protection, Polarized, Mirrored Round Sunglasses (Fr...',\n",
       " 'UV Protection Rectangular Sunglasses (Free Size)',\n",
       " 'UV Protection Round Sunglasses (54)',\n",
       " 'UV Protection Aviator Sunglasses (54)',\n",
       " 'UV Protection Wayfarer Sunglasses (56)',\n",
       " 'UV Protection Rectangular, Over-sized Sunglasses (Free ...',\n",
       " 'UV Protection, Polarized, Mirrored Rectangular Sunglass...',\n",
       " 'UV Protection Aviator Sunglasses (57)',\n",
       " 'UV Protection Aviator Sunglasses (54)',\n",
       " 'UV Protection Aviator Sunglasses (55)',\n",
       " 'UV Protection Round Sunglasses (54)',\n",
       " 'UV Protection, Polarized, Mirrored Rectangular Sunglass...',\n",
       " 'Mirrored, UV Protection, Gradient Round Sunglasses (55)',\n",
       " 'Gradient, UV Protection Cat-eye, Over-sized Sunglasses ...',\n",
       " 'UV Protection Retro Square Sunglasses (Free Size)',\n",
       " 'Mirrored, UV Protection Wayfarer Sunglasses (Free Size)',\n",
       " 'UV Protection Wayfarer Sunglasses (55)',\n",
       " 'UV Protection Wayfarer Sunglasses (32)',\n",
       " 'UV Protection Retro Square Sunglasses (Free Size)',\n",
       " 'UV Protection Rectangular Sunglasses (Free Size)',\n",
       " 'UV Protection Aviator Sunglasses (55)',\n",
       " 'UV Protection Butterfly Sunglasses (60)',\n",
       " 'UV Protection Round Sunglasses (55)',\n",
       " 'UV Protection Wayfarer Sunglasses (Free Size)',\n",
       " 'UV Protection, Night Vision, Riding Glasses Sports Sung...',\n",
       " 'UV Protection, Gradient, Night Vision Retro Square Sung...',\n",
       " 'Polarized Round Sunglasses (48)',\n",
       " 'UV Protection, Polarized, Mirrored Wayfarer Sunglasses ...',\n",
       " 'UV Protection, Gradient Rectangular Sunglasses (Free Si...',\n",
       " 'UV Protection, Riding Glasses, Others Retro Square Sung...',\n",
       " 'UV Protection Round Sunglasses (Free Size)',\n",
       " 'Mirrored, UV Protection, Riding Glasses, Others Round S...',\n",
       " 'UV Protection, Mirrored Retro Square Sunglasses (53)',\n",
       " 'UV Protection Aviator Sunglasses (58)',\n",
       " 'UV Protection, Riding Glasses Rectangular, Retro Square...',\n",
       " 'UV Protection Aviator Sunglasses (54)',\n",
       " 'UV Protection, Gradient, Mirrored, Riding Glasses Aviat...',\n",
       " 'UV Protection, Riding Glasses, Others Aviator, Wayfarer...']"
      ]
     },
     "execution_count": 65,
     "metadata": {},
     "output_type": "execute_result"
    }
   ],
   "source": [
    "des=driver.find_elements_by_xpath('//div[@class=\"_2B099V\"]//a[@class=\"IRpwTa\"]')#scraping the description\n",
    "descrip=[]\n",
    "for i in des:\n",
    "    descrip.append(i.text)\n",
    "descrip"
   ]
  },
  {
   "cell_type": "code",
   "execution_count": 66,
   "id": "59782cf4",
   "metadata": {},
   "outputs": [
    {
     "name": "stderr",
     "output_type": "stream",
     "text": [
      "<ipython-input-66-10030f49bd72>:1: DeprecationWarning: find_elements_by_* commands are deprecated. Please use find_elements() instead\n",
      "  pri=driver.find_elements_by_xpath('//div[@class=\"_30jeq3\"]')#scraping the price\n"
     ]
    },
    {
     "data": {
      "text/plain": [
       "['₹336',\n",
       " '₹664',\n",
       " '₹276',\n",
       " '₹513',\n",
       " '₹248',\n",
       " '₹187',\n",
       " '₹188',\n",
       " '₹349',\n",
       " '₹177',\n",
       " '₹269',\n",
       " '₹187',\n",
       " '₹158',\n",
       " '₹189',\n",
       " '₹189',\n",
       " '₹189',\n",
       " '₹664',\n",
       " '₹329',\n",
       " '₹259',\n",
       " '₹231',\n",
       " '₹187',\n",
       " '₹499',\n",
       " '₹259',\n",
       " '₹294',\n",
       " '₹271',\n",
       " '₹239',\n",
       " '₹246',\n",
       " '₹270',\n",
       " '₹339',\n",
       " '₹179',\n",
       " '₹215',\n",
       " '₹399',\n",
       " '₹239',\n",
       " '₹296',\n",
       " '₹269',\n",
       " '₹311',\n",
       " '₹299',\n",
       " '₹332',\n",
       " '₹187',\n",
       " '₹209',\n",
       " '₹229']"
      ]
     },
     "execution_count": 66,
     "metadata": {},
     "output_type": "execute_result"
    }
   ],
   "source": [
    "pri=driver.find_elements_by_xpath('//div[@class=\"_30jeq3\"]')#scraping the price\n",
    "price=[]\n",
    "for i in pri:\n",
    "    price.append(i.text)\n",
    "price"
   ]
  },
  {
   "cell_type": "code",
   "execution_count": 67,
   "id": "c18b2cf0",
   "metadata": {},
   "outputs": [
    {
     "data": {
      "text/html": [
       "<div>\n",
       "<style scoped>\n",
       "    .dataframe tbody tr th:only-of-type {\n",
       "        vertical-align: middle;\n",
       "    }\n",
       "\n",
       "    .dataframe tbody tr th {\n",
       "        vertical-align: top;\n",
       "    }\n",
       "\n",
       "    .dataframe thead th {\n",
       "        text-align: right;\n",
       "    }\n",
       "</style>\n",
       "<table border=\"1\" class=\"dataframe\">\n",
       "  <thead>\n",
       "    <tr style=\"text-align: right;\">\n",
       "      <th></th>\n",
       "      <th>Brand</th>\n",
       "      <th>Description</th>\n",
       "      <th>Price</th>\n",
       "    </tr>\n",
       "  </thead>\n",
       "  <tbody>\n",
       "    <tr>\n",
       "      <th>0</th>\n",
       "      <td>ROZZETTA CRAFT</td>\n",
       "      <td>UV Protection, Gradient Round Sunglasses (Free...</td>\n",
       "      <td>₹336</td>\n",
       "    </tr>\n",
       "    <tr>\n",
       "      <th>1</th>\n",
       "      <td>ROYAL SON</td>\n",
       "      <td>UV Protection Over-sized Sunglasses (65)</td>\n",
       "      <td>₹664</td>\n",
       "    </tr>\n",
       "    <tr>\n",
       "      <th>2</th>\n",
       "      <td>SUNBEE</td>\n",
       "      <td>UV Protection, Polarized, Mirrored Round Sungl...</td>\n",
       "      <td>₹276</td>\n",
       "    </tr>\n",
       "    <tr>\n",
       "      <th>3</th>\n",
       "      <td>Fastrack</td>\n",
       "      <td>UV Protection Rectangular Sunglasses (Free Size)</td>\n",
       "      <td>₹513</td>\n",
       "    </tr>\n",
       "    <tr>\n",
       "      <th>4</th>\n",
       "      <td>Elligator</td>\n",
       "      <td>UV Protection Round Sunglasses (54)</td>\n",
       "      <td>₹248</td>\n",
       "    </tr>\n",
       "    <tr>\n",
       "      <th>5</th>\n",
       "      <td>PIRASO</td>\n",
       "      <td>UV Protection Aviator Sunglasses (54)</td>\n",
       "      <td>₹187</td>\n",
       "    </tr>\n",
       "    <tr>\n",
       "      <th>6</th>\n",
       "      <td>SRPM</td>\n",
       "      <td>UV Protection Wayfarer Sunglasses (56)</td>\n",
       "      <td>₹188</td>\n",
       "    </tr>\n",
       "    <tr>\n",
       "      <th>7</th>\n",
       "      <td>PIRASO</td>\n",
       "      <td>UV Protection Rectangular, Over-sized Sunglass...</td>\n",
       "      <td>₹349</td>\n",
       "    </tr>\n",
       "    <tr>\n",
       "      <th>8</th>\n",
       "      <td>SHAAH COLLECTIONS</td>\n",
       "      <td>UV Protection, Polarized, Mirrored Rectangular...</td>\n",
       "      <td>₹177</td>\n",
       "    </tr>\n",
       "    <tr>\n",
       "      <th>9</th>\n",
       "      <td>GANSTA</td>\n",
       "      <td>UV Protection Aviator Sunglasses (57)</td>\n",
       "      <td>₹269</td>\n",
       "    </tr>\n",
       "    <tr>\n",
       "      <th>10</th>\n",
       "      <td>PIRASO</td>\n",
       "      <td>UV Protection Aviator Sunglasses (54)</td>\n",
       "      <td>₹187</td>\n",
       "    </tr>\n",
       "    <tr>\n",
       "      <th>11</th>\n",
       "      <td>PIRASO</td>\n",
       "      <td>UV Protection Aviator Sunglasses (55)</td>\n",
       "      <td>₹158</td>\n",
       "    </tr>\n",
       "    <tr>\n",
       "      <th>12</th>\n",
       "      <td>kingsunglasses</td>\n",
       "      <td>UV Protection Round Sunglasses (54)</td>\n",
       "      <td>₹189</td>\n",
       "    </tr>\n",
       "    <tr>\n",
       "      <th>13</th>\n",
       "      <td>SHAAH COLLECTIONS</td>\n",
       "      <td>UV Protection, Polarized, Mirrored Rectangular...</td>\n",
       "      <td>₹189</td>\n",
       "    </tr>\n",
       "    <tr>\n",
       "      <th>14</th>\n",
       "      <td>hipe</td>\n",
       "      <td>Mirrored, UV Protection, Gradient Round Sungla...</td>\n",
       "      <td>₹189</td>\n",
       "    </tr>\n",
       "    <tr>\n",
       "      <th>15</th>\n",
       "      <td>ROYAL SON</td>\n",
       "      <td>Gradient, UV Protection Cat-eye, Over-sized Su...</td>\n",
       "      <td>₹664</td>\n",
       "    </tr>\n",
       "    <tr>\n",
       "      <th>16</th>\n",
       "      <td>PHENOMENAL</td>\n",
       "      <td>UV Protection Retro Square Sunglasses (Free Size)</td>\n",
       "      <td>₹329</td>\n",
       "    </tr>\n",
       "    <tr>\n",
       "      <th>17</th>\n",
       "      <td>kingsunglasses</td>\n",
       "      <td>Mirrored, UV Protection Wayfarer Sunglasses (F...</td>\n",
       "      <td>₹259</td>\n",
       "    </tr>\n",
       "    <tr>\n",
       "      <th>18</th>\n",
       "      <td>HIPPON</td>\n",
       "      <td>UV Protection Wayfarer Sunglasses (55)</td>\n",
       "      <td>₹231</td>\n",
       "    </tr>\n",
       "    <tr>\n",
       "      <th>19</th>\n",
       "      <td>PIRASO</td>\n",
       "      <td>UV Protection Wayfarer Sunglasses (32)</td>\n",
       "      <td>₹187</td>\n",
       "    </tr>\n",
       "    <tr>\n",
       "      <th>20</th>\n",
       "      <td>ROZZETTA CRAFT</td>\n",
       "      <td>UV Protection Retro Square Sunglasses (Free Size)</td>\n",
       "      <td>₹499</td>\n",
       "    </tr>\n",
       "    <tr>\n",
       "      <th>21</th>\n",
       "      <td>New Specs</td>\n",
       "      <td>UV Protection Rectangular Sunglasses (Free Size)</td>\n",
       "      <td>₹259</td>\n",
       "    </tr>\n",
       "    <tr>\n",
       "      <th>22</th>\n",
       "      <td>Elligator</td>\n",
       "      <td>UV Protection Aviator Sunglasses (55)</td>\n",
       "      <td>₹294</td>\n",
       "    </tr>\n",
       "    <tr>\n",
       "      <th>23</th>\n",
       "      <td>PIRASO</td>\n",
       "      <td>UV Protection Butterfly Sunglasses (60)</td>\n",
       "      <td>₹271</td>\n",
       "    </tr>\n",
       "    <tr>\n",
       "      <th>24</th>\n",
       "      <td>Elligator</td>\n",
       "      <td>UV Protection Round Sunglasses (55)</td>\n",
       "      <td>₹239</td>\n",
       "    </tr>\n",
       "    <tr>\n",
       "      <th>25</th>\n",
       "      <td>Silver Kartz</td>\n",
       "      <td>UV Protection Wayfarer Sunglasses (Free Size)</td>\n",
       "      <td>₹246</td>\n",
       "    </tr>\n",
       "    <tr>\n",
       "      <th>26</th>\n",
       "      <td>NuVew</td>\n",
       "      <td>UV Protection, Night Vision, Riding Glasses Sp...</td>\n",
       "      <td>₹270</td>\n",
       "    </tr>\n",
       "    <tr>\n",
       "      <th>27</th>\n",
       "      <td>Fravy</td>\n",
       "      <td>UV Protection, Gradient, Night Vision Retro Sq...</td>\n",
       "      <td>₹339</td>\n",
       "    </tr>\n",
       "    <tr>\n",
       "      <th>28</th>\n",
       "      <td>Rich Club</td>\n",
       "      <td>Polarized Round Sunglasses (48)</td>\n",
       "      <td>₹179</td>\n",
       "    </tr>\n",
       "    <tr>\n",
       "      <th>29</th>\n",
       "      <td>SUNBEE</td>\n",
       "      <td>UV Protection, Polarized, Mirrored Wayfarer Su...</td>\n",
       "      <td>₹215</td>\n",
       "    </tr>\n",
       "    <tr>\n",
       "      <th>30</th>\n",
       "      <td>ROZZETTA CRAFT</td>\n",
       "      <td>UV Protection, Gradient Rectangular Sunglasses...</td>\n",
       "      <td>₹399</td>\n",
       "    </tr>\n",
       "    <tr>\n",
       "      <th>31</th>\n",
       "      <td>Singco India</td>\n",
       "      <td>UV Protection, Riding Glasses, Others Retro Sq...</td>\n",
       "      <td>₹239</td>\n",
       "    </tr>\n",
       "    <tr>\n",
       "      <th>32</th>\n",
       "      <td>SHAAH COLLECTIONS</td>\n",
       "      <td>UV Protection Round Sunglasses (Free Size)</td>\n",
       "      <td>₹296</td>\n",
       "    </tr>\n",
       "    <tr>\n",
       "      <th>33</th>\n",
       "      <td>New Specs</td>\n",
       "      <td>Mirrored, UV Protection, Riding Glasses, Other...</td>\n",
       "      <td>₹269</td>\n",
       "    </tr>\n",
       "    <tr>\n",
       "      <th>34</th>\n",
       "      <td>PHENOMENAL</td>\n",
       "      <td>UV Protection, Mirrored Retro Square Sunglasse...</td>\n",
       "      <td>₹311</td>\n",
       "    </tr>\n",
       "    <tr>\n",
       "      <th>35</th>\n",
       "      <td>PIRASO</td>\n",
       "      <td>UV Protection Aviator Sunglasses (58)</td>\n",
       "      <td>₹299</td>\n",
       "    </tr>\n",
       "    <tr>\n",
       "      <th>36</th>\n",
       "      <td>Elligator</td>\n",
       "      <td>UV Protection, Riding Glasses Rectangular, Ret...</td>\n",
       "      <td>₹332</td>\n",
       "    </tr>\n",
       "    <tr>\n",
       "      <th>37</th>\n",
       "      <td>PIRASO</td>\n",
       "      <td>UV Protection Aviator Sunglasses (54)</td>\n",
       "      <td>₹187</td>\n",
       "    </tr>\n",
       "    <tr>\n",
       "      <th>38</th>\n",
       "      <td>hipe</td>\n",
       "      <td>UV Protection, Gradient, Mirrored, Riding Glas...</td>\n",
       "      <td>₹209</td>\n",
       "    </tr>\n",
       "    <tr>\n",
       "      <th>39</th>\n",
       "      <td>Singco India</td>\n",
       "      <td>UV Protection, Riding Glasses, Others Aviator,...</td>\n",
       "      <td>₹229</td>\n",
       "    </tr>\n",
       "  </tbody>\n",
       "</table>\n",
       "</div>"
      ],
      "text/plain": [
       "                Brand                                        Description Price\n",
       "0      ROZZETTA CRAFT  UV Protection, Gradient Round Sunglasses (Free...  ₹336\n",
       "1           ROYAL SON           UV Protection Over-sized Sunglasses (65)  ₹664\n",
       "2              SUNBEE  UV Protection, Polarized, Mirrored Round Sungl...  ₹276\n",
       "3            Fastrack   UV Protection Rectangular Sunglasses (Free Size)  ₹513\n",
       "4           Elligator                UV Protection Round Sunglasses (54)  ₹248\n",
       "5              PIRASO              UV Protection Aviator Sunglasses (54)  ₹187\n",
       "6                SRPM             UV Protection Wayfarer Sunglasses (56)  ₹188\n",
       "7              PIRASO  UV Protection Rectangular, Over-sized Sunglass...  ₹349\n",
       "8   SHAAH COLLECTIONS  UV Protection, Polarized, Mirrored Rectangular...  ₹177\n",
       "9              GANSTA              UV Protection Aviator Sunglasses (57)  ₹269\n",
       "10             PIRASO              UV Protection Aviator Sunglasses (54)  ₹187\n",
       "11             PIRASO              UV Protection Aviator Sunglasses (55)  ₹158\n",
       "12     kingsunglasses                UV Protection Round Sunglasses (54)  ₹189\n",
       "13  SHAAH COLLECTIONS  UV Protection, Polarized, Mirrored Rectangular...  ₹189\n",
       "14               hipe  Mirrored, UV Protection, Gradient Round Sungla...  ₹189\n",
       "15          ROYAL SON  Gradient, UV Protection Cat-eye, Over-sized Su...  ₹664\n",
       "16         PHENOMENAL  UV Protection Retro Square Sunglasses (Free Size)  ₹329\n",
       "17     kingsunglasses  Mirrored, UV Protection Wayfarer Sunglasses (F...  ₹259\n",
       "18             HIPPON             UV Protection Wayfarer Sunglasses (55)  ₹231\n",
       "19             PIRASO             UV Protection Wayfarer Sunglasses (32)  ₹187\n",
       "20     ROZZETTA CRAFT  UV Protection Retro Square Sunglasses (Free Size)  ₹499\n",
       "21          New Specs   UV Protection Rectangular Sunglasses (Free Size)  ₹259\n",
       "22          Elligator              UV Protection Aviator Sunglasses (55)  ₹294\n",
       "23             PIRASO            UV Protection Butterfly Sunglasses (60)  ₹271\n",
       "24          Elligator                UV Protection Round Sunglasses (55)  ₹239\n",
       "25       Silver Kartz      UV Protection Wayfarer Sunglasses (Free Size)  ₹246\n",
       "26              NuVew  UV Protection, Night Vision, Riding Glasses Sp...  ₹270\n",
       "27              Fravy  UV Protection, Gradient, Night Vision Retro Sq...  ₹339\n",
       "28          Rich Club                    Polarized Round Sunglasses (48)  ₹179\n",
       "29             SUNBEE  UV Protection, Polarized, Mirrored Wayfarer Su...  ₹215\n",
       "30     ROZZETTA CRAFT  UV Protection, Gradient Rectangular Sunglasses...  ₹399\n",
       "31       Singco India  UV Protection, Riding Glasses, Others Retro Sq...  ₹239\n",
       "32  SHAAH COLLECTIONS         UV Protection Round Sunglasses (Free Size)  ₹296\n",
       "33          New Specs  Mirrored, UV Protection, Riding Glasses, Other...  ₹269\n",
       "34         PHENOMENAL  UV Protection, Mirrored Retro Square Sunglasse...  ₹311\n",
       "35             PIRASO              UV Protection Aviator Sunglasses (58)  ₹299\n",
       "36          Elligator  UV Protection, Riding Glasses Rectangular, Ret...  ₹332\n",
       "37             PIRASO              UV Protection Aviator Sunglasses (54)  ₹187\n",
       "38               hipe  UV Protection, Gradient, Mirrored, Riding Glas...  ₹209\n",
       "39       Singco India  UV Protection, Riding Glasses, Others Aviator,...  ₹229"
      ]
     },
     "execution_count": 67,
     "metadata": {},
     "output_type": "execute_result"
    }
   ],
   "source": [
    "data1=pd.DataFrame()\n",
    "data1['Brand']=Brands\n",
    "data1['Description']=descrip\n",
    "data1['Price']=price\n",
    "data1"
   ]
  },
  {
   "cell_type": "code",
   "execution_count": 68,
   "id": "6532a36c",
   "metadata": {},
   "outputs": [
    {
     "name": "stderr",
     "output_type": "stream",
     "text": [
      "<ipython-input-68-65cb848b3d76>:1: DeprecationWarning: find_element_by_* commands are deprecated. Please use find_element() instead\n",
      "  next_=driver.find_element_by_xpath('//a[@class=\"_1LKTO3\"]')\n"
     ]
    }
   ],
   "source": [
    "next_=driver.find_element_by_xpath('//a[@class=\"_1LKTO3\"]')\n",
    "next_.click()#clicking on the next page for scraping the data"
   ]
  },
  {
   "cell_type": "code",
   "execution_count": 69,
   "id": "ec729c98",
   "metadata": {},
   "outputs": [
    {
     "name": "stderr",
     "output_type": "stream",
     "text": [
      "<ipython-input-69-aef3bc6cfc00>:1: DeprecationWarning: find_elements_by_* commands are deprecated. Please use find_elements() instead\n",
      "  brand1=driver.find_elements_by_xpath('//div[@class=\"_2WkVRV\"]')\n"
     ]
    },
    {
     "data": {
      "text/plain": [
       "[<selenium.webdriver.remote.webelement.WebElement (session=\"79ff1a4811a987c6abb25abf758b8d26\", element=\"dbe8faf6-0b2a-4377-bc09-9968c1e3809d\")>,\n",
       " <selenium.webdriver.remote.webelement.WebElement (session=\"79ff1a4811a987c6abb25abf758b8d26\", element=\"e23821e7-d11a-45a0-96f9-808978c377a7\")>,\n",
       " <selenium.webdriver.remote.webelement.WebElement (session=\"79ff1a4811a987c6abb25abf758b8d26\", element=\"5a5ff8cd-7944-4509-967f-ad32ea45beb8\")>,\n",
       " <selenium.webdriver.remote.webelement.WebElement (session=\"79ff1a4811a987c6abb25abf758b8d26\", element=\"fd76686e-2729-4a67-8864-fdac5e38a5e1\")>,\n",
       " <selenium.webdriver.remote.webelement.WebElement (session=\"79ff1a4811a987c6abb25abf758b8d26\", element=\"8b035586-c646-4003-946c-de2845c60c69\")>,\n",
       " <selenium.webdriver.remote.webelement.WebElement (session=\"79ff1a4811a987c6abb25abf758b8d26\", element=\"bed0569b-cf64-4988-9730-d3e42a505127\")>,\n",
       " <selenium.webdriver.remote.webelement.WebElement (session=\"79ff1a4811a987c6abb25abf758b8d26\", element=\"5c43801a-7c7a-4650-afda-63e3866ff29c\")>,\n",
       " <selenium.webdriver.remote.webelement.WebElement (session=\"79ff1a4811a987c6abb25abf758b8d26\", element=\"79066802-09c5-4991-9733-651f3c927fdc\")>,\n",
       " <selenium.webdriver.remote.webelement.WebElement (session=\"79ff1a4811a987c6abb25abf758b8d26\", element=\"9e42db86-4603-4b4f-9954-ff3e5cfb1ff8\")>,\n",
       " <selenium.webdriver.remote.webelement.WebElement (session=\"79ff1a4811a987c6abb25abf758b8d26\", element=\"37225729-ab7d-436d-a7fe-53e3cb83065d\")>,\n",
       " <selenium.webdriver.remote.webelement.WebElement (session=\"79ff1a4811a987c6abb25abf758b8d26\", element=\"63d5cc3d-d3cd-49b2-ac28-337e6d4caf6c\")>,\n",
       " <selenium.webdriver.remote.webelement.WebElement (session=\"79ff1a4811a987c6abb25abf758b8d26\", element=\"cca04777-b876-4fac-959d-332441fced06\")>,\n",
       " <selenium.webdriver.remote.webelement.WebElement (session=\"79ff1a4811a987c6abb25abf758b8d26\", element=\"02bc0d0a-79d5-47d1-908f-e1abbb690b0c\")>,\n",
       " <selenium.webdriver.remote.webelement.WebElement (session=\"79ff1a4811a987c6abb25abf758b8d26\", element=\"78f9fb88-e88c-433b-ad3b-6c89f3d8cd17\")>,\n",
       " <selenium.webdriver.remote.webelement.WebElement (session=\"79ff1a4811a987c6abb25abf758b8d26\", element=\"cb699020-d50b-4f3f-9c70-3edcb12e27f9\")>,\n",
       " <selenium.webdriver.remote.webelement.WebElement (session=\"79ff1a4811a987c6abb25abf758b8d26\", element=\"2125970a-87e5-4f85-ae12-8c0eb2a594f6\")>,\n",
       " <selenium.webdriver.remote.webelement.WebElement (session=\"79ff1a4811a987c6abb25abf758b8d26\", element=\"04731695-8698-4cb9-8048-d30794029aa4\")>,\n",
       " <selenium.webdriver.remote.webelement.WebElement (session=\"79ff1a4811a987c6abb25abf758b8d26\", element=\"0a1e2967-1c6e-4f09-9d6e-c07205ae679b\")>,\n",
       " <selenium.webdriver.remote.webelement.WebElement (session=\"79ff1a4811a987c6abb25abf758b8d26\", element=\"130aba53-01cc-487e-a959-740a4b282dca\")>,\n",
       " <selenium.webdriver.remote.webelement.WebElement (session=\"79ff1a4811a987c6abb25abf758b8d26\", element=\"18bd82c5-a3f4-4b19-8e22-6315123ed3b9\")>,\n",
       " <selenium.webdriver.remote.webelement.WebElement (session=\"79ff1a4811a987c6abb25abf758b8d26\", element=\"af852f91-a3d8-4168-8851-a6c27eadd0f7\")>,\n",
       " <selenium.webdriver.remote.webelement.WebElement (session=\"79ff1a4811a987c6abb25abf758b8d26\", element=\"ad501a8e-952e-4376-9e89-39f8715d3ac2\")>,\n",
       " <selenium.webdriver.remote.webelement.WebElement (session=\"79ff1a4811a987c6abb25abf758b8d26\", element=\"70e93ddc-c59e-4ee5-8be7-c6970bcbaeed\")>,\n",
       " <selenium.webdriver.remote.webelement.WebElement (session=\"79ff1a4811a987c6abb25abf758b8d26\", element=\"90bc8ce5-7617-43d4-bde3-582307bd8431\")>,\n",
       " <selenium.webdriver.remote.webelement.WebElement (session=\"79ff1a4811a987c6abb25abf758b8d26\", element=\"8a514529-2593-422d-ab6f-dc2eb17e42d6\")>,\n",
       " <selenium.webdriver.remote.webelement.WebElement (session=\"79ff1a4811a987c6abb25abf758b8d26\", element=\"acf68848-1783-4078-b1fb-767e92365844\")>,\n",
       " <selenium.webdriver.remote.webelement.WebElement (session=\"79ff1a4811a987c6abb25abf758b8d26\", element=\"786b42f5-94c2-4b10-b201-6c09bfeceb53\")>,\n",
       " <selenium.webdriver.remote.webelement.WebElement (session=\"79ff1a4811a987c6abb25abf758b8d26\", element=\"9f98ae24-d15f-4a3c-abb6-150e3b98f621\")>,\n",
       " <selenium.webdriver.remote.webelement.WebElement (session=\"79ff1a4811a987c6abb25abf758b8d26\", element=\"7904eef6-475a-43b6-aa1a-06f877241dc7\")>,\n",
       " <selenium.webdriver.remote.webelement.WebElement (session=\"79ff1a4811a987c6abb25abf758b8d26\", element=\"24fb0c6a-5c32-40e6-8dde-2c6c20141b41\")>,\n",
       " <selenium.webdriver.remote.webelement.WebElement (session=\"79ff1a4811a987c6abb25abf758b8d26\", element=\"1906725c-e6a7-47b9-b36a-470c63a0abfc\")>,\n",
       " <selenium.webdriver.remote.webelement.WebElement (session=\"79ff1a4811a987c6abb25abf758b8d26\", element=\"41cdc46b-692b-4bbf-a7d1-1ea5bd42bc96\")>,\n",
       " <selenium.webdriver.remote.webelement.WebElement (session=\"79ff1a4811a987c6abb25abf758b8d26\", element=\"373bb641-4d0a-4f3c-a2e9-1967e1a9ed7b\")>,\n",
       " <selenium.webdriver.remote.webelement.WebElement (session=\"79ff1a4811a987c6abb25abf758b8d26\", element=\"5ac8f05f-eb90-4812-9f0f-b8ad83bc4010\")>,\n",
       " <selenium.webdriver.remote.webelement.WebElement (session=\"79ff1a4811a987c6abb25abf758b8d26\", element=\"0b42faa4-4896-499b-86c2-cca529fa4b3c\")>,\n",
       " <selenium.webdriver.remote.webelement.WebElement (session=\"79ff1a4811a987c6abb25abf758b8d26\", element=\"7ecff291-738f-469c-b79a-554bede868c4\")>,\n",
       " <selenium.webdriver.remote.webelement.WebElement (session=\"79ff1a4811a987c6abb25abf758b8d26\", element=\"ce261a75-eb2d-43af-bdaa-35f36e7f4636\")>,\n",
       " <selenium.webdriver.remote.webelement.WebElement (session=\"79ff1a4811a987c6abb25abf758b8d26\", element=\"becd4977-3328-4d96-898f-9a624c665e20\")>,\n",
       " <selenium.webdriver.remote.webelement.WebElement (session=\"79ff1a4811a987c6abb25abf758b8d26\", element=\"28bb8f26-e5a5-47eb-9cd2-571aef56c92a\")>,\n",
       " <selenium.webdriver.remote.webelement.WebElement (session=\"79ff1a4811a987c6abb25abf758b8d26\", element=\"58830681-7ef5-4dbe-8058-7a0a621072c6\")>]"
      ]
     },
     "execution_count": 69,
     "metadata": {},
     "output_type": "execute_result"
    }
   ],
   "source": [
    "brand1=driver.find_elements_by_xpath('//div[@class=\"_2WkVRV\"]')\n",
    "brand1"
   ]
  },
  {
   "cell_type": "code",
   "execution_count": 70,
   "id": "96490ef9",
   "metadata": {},
   "outputs": [
    {
     "data": {
      "text/plain": [
       "['GANSTA',\n",
       " 'ROYAL SON',\n",
       " 'Fastrack',\n",
       " 'ROZZETTA CRAFT',\n",
       " 'kingsunglasses',\n",
       " 'ROYAL SON',\n",
       " 'PHENOMENAL',\n",
       " 'ROYAL SON',\n",
       " 'hipe',\n",
       " 'agera',\n",
       " 'SRPM',\n",
       " 'PIRASO',\n",
       " 'Elligator',\n",
       " 'Fastrack',\n",
       " 'kingsunglasses',\n",
       " 'PIRASO',\n",
       " 'PIRASO',\n",
       " 'Elligator',\n",
       " 'ROZZETTA CRAFT',\n",
       " 'PIRASO',\n",
       " 'PIRASO',\n",
       " 'kingsunglasses',\n",
       " 'Singco India',\n",
       " 'PIRASO',\n",
       " 'Elligator',\n",
       " 'MAXX',\n",
       " 'ROZZETTA CRAFT',\n",
       " 'PIRASO',\n",
       " 'povty',\n",
       " 'hipe',\n",
       " 'Silver Kartz',\n",
       " 'Fravy',\n",
       " 'PIRASO',\n",
       " 'PIRASO',\n",
       " 'DEIXELS',\n",
       " 'GANSTA',\n",
       " 'elegante',\n",
       " 'Elligator',\n",
       " 'Rich Club',\n",
       " 'Singco India']"
      ]
     },
     "execution_count": 70,
     "metadata": {},
     "output_type": "execute_result"
    }
   ],
   "source": [
    "brands1=[]\n",
    "for i in brand1:\n",
    "    brands1.append(i.text)\n",
    "brands1"
   ]
  },
  {
   "cell_type": "code",
   "execution_count": 71,
   "id": "f8a29cb9",
   "metadata": {},
   "outputs": [
    {
     "name": "stderr",
     "output_type": "stream",
     "text": [
      "<ipython-input-71-feb10e8610f8>:1: DeprecationWarning: find_elements_by_* commands are deprecated. Please use find_elements() instead\n",
      "  des1=driver.find_elements_by_xpath('//div[@class=\"_2B099V\"]//a[@class=\"IRpwTa\"]')\n"
     ]
    },
    {
     "data": {
      "text/plain": [
       "[<selenium.webdriver.remote.webelement.WebElement (session=\"79ff1a4811a987c6abb25abf758b8d26\", element=\"d6e66fea-28a2-45e6-8430-b11452fb3ff2\")>,\n",
       " <selenium.webdriver.remote.webelement.WebElement (session=\"79ff1a4811a987c6abb25abf758b8d26\", element=\"88bb7795-10bb-446b-9926-3ff11124092a\")>,\n",
       " <selenium.webdriver.remote.webelement.WebElement (session=\"79ff1a4811a987c6abb25abf758b8d26\", element=\"9b28fef5-9929-40f6-8740-6563357764a6\")>,\n",
       " <selenium.webdriver.remote.webelement.WebElement (session=\"79ff1a4811a987c6abb25abf758b8d26\", element=\"f3c806ba-3942-40b2-b5bb-803d8235664f\")>,\n",
       " <selenium.webdriver.remote.webelement.WebElement (session=\"79ff1a4811a987c6abb25abf758b8d26\", element=\"6f33fd4c-cc68-4504-9b59-c1e5e46374f1\")>,\n",
       " <selenium.webdriver.remote.webelement.WebElement (session=\"79ff1a4811a987c6abb25abf758b8d26\", element=\"9626670a-b462-4930-a54f-5abc7b232ea6\")>,\n",
       " <selenium.webdriver.remote.webelement.WebElement (session=\"79ff1a4811a987c6abb25abf758b8d26\", element=\"0c656ae2-4617-4128-94fa-a4d55e92abaf\")>,\n",
       " <selenium.webdriver.remote.webelement.WebElement (session=\"79ff1a4811a987c6abb25abf758b8d26\", element=\"ae00d9d9-53ee-483b-953b-b300d8c5d600\")>,\n",
       " <selenium.webdriver.remote.webelement.WebElement (session=\"79ff1a4811a987c6abb25abf758b8d26\", element=\"c82156af-ece5-43cf-8243-45091924a35e\")>,\n",
       " <selenium.webdriver.remote.webelement.WebElement (session=\"79ff1a4811a987c6abb25abf758b8d26\", element=\"4b7bf3dc-8efc-47e1-83cb-2432f95c5734\")>,\n",
       " <selenium.webdriver.remote.webelement.WebElement (session=\"79ff1a4811a987c6abb25abf758b8d26\", element=\"0a59bd68-00e7-4cbb-b3b2-8b59587c26fc\")>,\n",
       " <selenium.webdriver.remote.webelement.WebElement (session=\"79ff1a4811a987c6abb25abf758b8d26\", element=\"13dddb39-b9da-4ac8-bc64-abe310656080\")>,\n",
       " <selenium.webdriver.remote.webelement.WebElement (session=\"79ff1a4811a987c6abb25abf758b8d26\", element=\"8d6d640a-03f7-4fcf-aaf4-02a9a73819bf\")>,\n",
       " <selenium.webdriver.remote.webelement.WebElement (session=\"79ff1a4811a987c6abb25abf758b8d26\", element=\"ad16c730-5e6d-4ed4-8be1-315ba4a7300a\")>,\n",
       " <selenium.webdriver.remote.webelement.WebElement (session=\"79ff1a4811a987c6abb25abf758b8d26\", element=\"c03e0be6-a8e2-4130-be0f-d1687eb0d3d7\")>,\n",
       " <selenium.webdriver.remote.webelement.WebElement (session=\"79ff1a4811a987c6abb25abf758b8d26\", element=\"fedf7a1b-ade5-4a19-a88b-4a29b0c81c3f\")>,\n",
       " <selenium.webdriver.remote.webelement.WebElement (session=\"79ff1a4811a987c6abb25abf758b8d26\", element=\"737b2d80-8991-4f72-bea1-0f269b101558\")>,\n",
       " <selenium.webdriver.remote.webelement.WebElement (session=\"79ff1a4811a987c6abb25abf758b8d26\", element=\"c13f78e1-26e9-4e22-b830-aaf4db257607\")>,\n",
       " <selenium.webdriver.remote.webelement.WebElement (session=\"79ff1a4811a987c6abb25abf758b8d26\", element=\"112d2c4e-3a37-4a2e-9b74-9788730346b7\")>,\n",
       " <selenium.webdriver.remote.webelement.WebElement (session=\"79ff1a4811a987c6abb25abf758b8d26\", element=\"d00a4107-fe4d-4c9b-9028-53516bb4b2ca\")>,\n",
       " <selenium.webdriver.remote.webelement.WebElement (session=\"79ff1a4811a987c6abb25abf758b8d26\", element=\"8eb4de3c-e2f1-4d19-84df-bc7bb360417f\")>,\n",
       " <selenium.webdriver.remote.webelement.WebElement (session=\"79ff1a4811a987c6abb25abf758b8d26\", element=\"f978ee21-7cce-43fe-aabf-1155adea233a\")>,\n",
       " <selenium.webdriver.remote.webelement.WebElement (session=\"79ff1a4811a987c6abb25abf758b8d26\", element=\"8441937f-f51d-4a63-a4ed-1fed5cb9d68d\")>,\n",
       " <selenium.webdriver.remote.webelement.WebElement (session=\"79ff1a4811a987c6abb25abf758b8d26\", element=\"15b628fd-9eda-4b27-9f3a-9d35cf8a512e\")>,\n",
       " <selenium.webdriver.remote.webelement.WebElement (session=\"79ff1a4811a987c6abb25abf758b8d26\", element=\"4de41671-25bc-4cda-8fbf-9cfbb601d4ae\")>,\n",
       " <selenium.webdriver.remote.webelement.WebElement (session=\"79ff1a4811a987c6abb25abf758b8d26\", element=\"4d983642-cbcb-4338-8ab9-a06fcc944c38\")>,\n",
       " <selenium.webdriver.remote.webelement.WebElement (session=\"79ff1a4811a987c6abb25abf758b8d26\", element=\"2b89a7de-bc5e-4ab3-a6f6-4490588c44eb\")>,\n",
       " <selenium.webdriver.remote.webelement.WebElement (session=\"79ff1a4811a987c6abb25abf758b8d26\", element=\"8dfd1016-ba8c-454c-a289-67141c746546\")>,\n",
       " <selenium.webdriver.remote.webelement.WebElement (session=\"79ff1a4811a987c6abb25abf758b8d26\", element=\"ef39ce67-d85a-4ba0-bccc-af1d9903929c\")>,\n",
       " <selenium.webdriver.remote.webelement.WebElement (session=\"79ff1a4811a987c6abb25abf758b8d26\", element=\"7ad4fe1d-afa4-474e-8889-470400f4fca0\")>,\n",
       " <selenium.webdriver.remote.webelement.WebElement (session=\"79ff1a4811a987c6abb25abf758b8d26\", element=\"b524b7a0-f882-448e-8423-259a3a468697\")>,\n",
       " <selenium.webdriver.remote.webelement.WebElement (session=\"79ff1a4811a987c6abb25abf758b8d26\", element=\"819db53b-a705-4234-92af-127cdec78d6a\")>,\n",
       " <selenium.webdriver.remote.webelement.WebElement (session=\"79ff1a4811a987c6abb25abf758b8d26\", element=\"85015cde-a894-40cf-96f1-31965c02bf81\")>,\n",
       " <selenium.webdriver.remote.webelement.WebElement (session=\"79ff1a4811a987c6abb25abf758b8d26\", element=\"dec7231d-ada6-4bb9-9cb2-263c6d2e5426\")>,\n",
       " <selenium.webdriver.remote.webelement.WebElement (session=\"79ff1a4811a987c6abb25abf758b8d26\", element=\"3d8073a8-381e-4a34-bac3-45d97c11f7d0\")>,\n",
       " <selenium.webdriver.remote.webelement.WebElement (session=\"79ff1a4811a987c6abb25abf758b8d26\", element=\"bc6218be-3372-4f5c-beee-2ecb87c10627\")>,\n",
       " <selenium.webdriver.remote.webelement.WebElement (session=\"79ff1a4811a987c6abb25abf758b8d26\", element=\"72dd0aa9-e591-46fa-9d87-d3a8e3b96496\")>,\n",
       " <selenium.webdriver.remote.webelement.WebElement (session=\"79ff1a4811a987c6abb25abf758b8d26\", element=\"ae0e825d-a061-4941-86ed-ccd013a788b8\")>,\n",
       " <selenium.webdriver.remote.webelement.WebElement (session=\"79ff1a4811a987c6abb25abf758b8d26\", element=\"743557ae-9c68-4c8e-8608-f305789e13d1\")>,\n",
       " <selenium.webdriver.remote.webelement.WebElement (session=\"79ff1a4811a987c6abb25abf758b8d26\", element=\"e7f73146-5ddb-4695-84ef-e93847345be8\")>]"
      ]
     },
     "execution_count": 71,
     "metadata": {},
     "output_type": "execute_result"
    }
   ],
   "source": [
    "des1=driver.find_elements_by_xpath('//div[@class=\"_2B099V\"]//a[@class=\"IRpwTa\"]')\n",
    "des1"
   ]
  },
  {
   "cell_type": "code",
   "execution_count": 72,
   "id": "c6302e2c",
   "metadata": {},
   "outputs": [
    {
     "data": {
      "text/plain": [
       "['UV Protection, Riding Glasses Wayfarer Sunglasses (53)',\n",
       " 'UV Protection Retro Square Sunglasses (88)',\n",
       " 'UV Protection Wayfarer Sunglasses (Free Size)',\n",
       " 'UV Protection, Gradient Round Sunglasses (Free Size)',\n",
       " 'UV Protection, Mirrored Round Sunglasses (Free Size)',\n",
       " 'Mirrored Aviator Sunglasses (55)',\n",
       " 'UV Protection, Mirrored Retro Square Sunglasses (Free S...',\n",
       " 'UV Protection Over-sized Sunglasses (65)',\n",
       " 'UV Protection Sports Sunglasses (Free Size)',\n",
       " 'Gradient Aviator Sunglasses (55)',\n",
       " 'UV Protection Wayfarer Sunglasses (53)',\n",
       " 'UV Protection Aviator Sunglasses (54)',\n",
       " 'UV Protection Round Sunglasses (54)',\n",
       " 'Gradient, UV Protection Wayfarer Sunglasses (Free Size)',\n",
       " 'UV Protection, Mirrored Round Sunglasses (54)',\n",
       " 'UV Protection Aviator Sunglasses (55)',\n",
       " 'UV Protection Aviator Sunglasses (58)',\n",
       " 'Mirrored Round Sunglasses (53)',\n",
       " 'UV Protection, Gradient Retro Square Sunglasses (Free S...',\n",
       " 'UV Protection Rectangular, Over-sized Sunglasses (Free ...',\n",
       " 'UV Protection, Polarized Aviator Sunglasses (32)',\n",
       " 'Mirrored, UV Protection Wayfarer Sunglasses (Free Size)',\n",
       " 'Riding Glasses, UV Protection, Others Aviator Sunglasse...',\n",
       " 'UV Protection Aviator Sunglasses (54)',\n",
       " 'UV Protection, Riding Glasses Rectangular, Retro Square...',\n",
       " 'UV Protection Aviator Sunglasses (Free Size)',\n",
       " 'UV Protection, Gradient Round Sunglasses (Free Size)',\n",
       " 'UV Protection Butterfly Sunglasses (60)',\n",
       " 'UV Protection Retro Square Sunglasses (Free Size)',\n",
       " 'UV Protection, Night Vision, Riding Glasses, Gradient, ...',\n",
       " 'UV Protection Oval Sunglasses (56)',\n",
       " 'UV Protection, Gradient, Night Vision Retro Square Sung...',\n",
       " 'UV Protection Wayfarer Sunglasses (32)',\n",
       " 'UV Protection Butterfly Sunglasses (65)',\n",
       " 'UV Protection Aviator, Wayfarer Sunglasses (Free Size)',\n",
       " 'UV Protection, Night Vision, Riding Glasses Aviator Sun...',\n",
       " 'Mirrored Round Sunglasses (Free Size)',\n",
       " 'UV Protection, Riding Glasses Rectangular, Retro Square...',\n",
       " 'UV Protection, Others Round Sunglasses (48)',\n",
       " 'UV Protection, Riding Glasses, Others Retro Square Sung...']"
      ]
     },
     "execution_count": 72,
     "metadata": {},
     "output_type": "execute_result"
    }
   ],
   "source": [
    "descrip1=[]\n",
    "for i in des1:\n",
    "    descrip1.append(i.text)\n",
    "descrip1"
   ]
  },
  {
   "cell_type": "code",
   "execution_count": 73,
   "id": "474ed01b",
   "metadata": {},
   "outputs": [
    {
     "name": "stderr",
     "output_type": "stream",
     "text": [
      "<ipython-input-73-9b23a76ad05e>:1: DeprecationWarning: find_elements_by_* commands are deprecated. Please use find_elements() instead\n",
      "  pri1=driver.find_elements_by_xpath('//div[@class=\"_30jeq3\"]')\n"
     ]
    },
    {
     "data": {
      "text/plain": [
       "[<selenium.webdriver.remote.webelement.WebElement (session=\"79ff1a4811a987c6abb25abf758b8d26\", element=\"d19fa629-9386-4224-adf5-15f6708f13ce\")>,\n",
       " <selenium.webdriver.remote.webelement.WebElement (session=\"79ff1a4811a987c6abb25abf758b8d26\", element=\"ec656475-38a8-4da2-9fe1-b1be89002138\")>,\n",
       " <selenium.webdriver.remote.webelement.WebElement (session=\"79ff1a4811a987c6abb25abf758b8d26\", element=\"c0a32203-874a-46fe-8d26-e6d8e19cdd36\")>,\n",
       " <selenium.webdriver.remote.webelement.WebElement (session=\"79ff1a4811a987c6abb25abf758b8d26\", element=\"b9018418-5f35-4380-88f1-23a1f83cd122\")>,\n",
       " <selenium.webdriver.remote.webelement.WebElement (session=\"79ff1a4811a987c6abb25abf758b8d26\", element=\"aec752d3-d6ed-420b-9531-862e28bc4bef\")>,\n",
       " <selenium.webdriver.remote.webelement.WebElement (session=\"79ff1a4811a987c6abb25abf758b8d26\", element=\"de3babe0-1860-4615-9d08-47eddac5ad02\")>,\n",
       " <selenium.webdriver.remote.webelement.WebElement (session=\"79ff1a4811a987c6abb25abf758b8d26\", element=\"34a474f0-1c42-4e7f-97a7-732f576fea0d\")>,\n",
       " <selenium.webdriver.remote.webelement.WebElement (session=\"79ff1a4811a987c6abb25abf758b8d26\", element=\"a2948fad-b4c7-4e4d-86b5-5a2f25ac3d61\")>,\n",
       " <selenium.webdriver.remote.webelement.WebElement (session=\"79ff1a4811a987c6abb25abf758b8d26\", element=\"6b69bcf7-1876-428e-81fe-a6544eea7056\")>,\n",
       " <selenium.webdriver.remote.webelement.WebElement (session=\"79ff1a4811a987c6abb25abf758b8d26\", element=\"66006750-35c0-4e32-8cd7-91627a77a4dc\")>,\n",
       " <selenium.webdriver.remote.webelement.WebElement (session=\"79ff1a4811a987c6abb25abf758b8d26\", element=\"5e38af15-2018-4dcb-ab64-588d562c8d27\")>,\n",
       " <selenium.webdriver.remote.webelement.WebElement (session=\"79ff1a4811a987c6abb25abf758b8d26\", element=\"cd5ddb5d-62c0-4938-a0a8-a9afa0b36433\")>,\n",
       " <selenium.webdriver.remote.webelement.WebElement (session=\"79ff1a4811a987c6abb25abf758b8d26\", element=\"bfb71425-48b0-4bac-bff4-7106b3ed60f9\")>,\n",
       " <selenium.webdriver.remote.webelement.WebElement (session=\"79ff1a4811a987c6abb25abf758b8d26\", element=\"1b557a90-735d-4f5b-8135-b62bc50c19c6\")>,\n",
       " <selenium.webdriver.remote.webelement.WebElement (session=\"79ff1a4811a987c6abb25abf758b8d26\", element=\"e169d7b4-27a2-424e-a890-b718e5250e51\")>,\n",
       " <selenium.webdriver.remote.webelement.WebElement (session=\"79ff1a4811a987c6abb25abf758b8d26\", element=\"ed94c212-c1e2-458a-9092-2d41c8f395e9\")>,\n",
       " <selenium.webdriver.remote.webelement.WebElement (session=\"79ff1a4811a987c6abb25abf758b8d26\", element=\"fa3ab272-1dd1-4463-9588-51027a64961f\")>,\n",
       " <selenium.webdriver.remote.webelement.WebElement (session=\"79ff1a4811a987c6abb25abf758b8d26\", element=\"17101142-32aa-4480-b2f1-8ba5821af273\")>,\n",
       " <selenium.webdriver.remote.webelement.WebElement (session=\"79ff1a4811a987c6abb25abf758b8d26\", element=\"d11a2e3b-3c2b-4235-9213-02f29a10e8c6\")>,\n",
       " <selenium.webdriver.remote.webelement.WebElement (session=\"79ff1a4811a987c6abb25abf758b8d26\", element=\"dad0f155-76fe-4abe-a60f-ac436e5eb05d\")>,\n",
       " <selenium.webdriver.remote.webelement.WebElement (session=\"79ff1a4811a987c6abb25abf758b8d26\", element=\"a0753867-0a79-4460-b016-a3730ce4a6ad\")>,\n",
       " <selenium.webdriver.remote.webelement.WebElement (session=\"79ff1a4811a987c6abb25abf758b8d26\", element=\"39026e0a-6924-4ace-ad7b-890b2d65e60d\")>,\n",
       " <selenium.webdriver.remote.webelement.WebElement (session=\"79ff1a4811a987c6abb25abf758b8d26\", element=\"0c39b754-ae93-41eb-ab1c-11f4ff76369f\")>,\n",
       " <selenium.webdriver.remote.webelement.WebElement (session=\"79ff1a4811a987c6abb25abf758b8d26\", element=\"0ad3d7a4-3fbd-4b1a-b5ab-edc3715a7857\")>,\n",
       " <selenium.webdriver.remote.webelement.WebElement (session=\"79ff1a4811a987c6abb25abf758b8d26\", element=\"df3133a9-b004-4622-89dd-232d80f8d7bd\")>,\n",
       " <selenium.webdriver.remote.webelement.WebElement (session=\"79ff1a4811a987c6abb25abf758b8d26\", element=\"74db339c-e457-463d-b40e-1b276b2de524\")>,\n",
       " <selenium.webdriver.remote.webelement.WebElement (session=\"79ff1a4811a987c6abb25abf758b8d26\", element=\"fb07f3df-6267-4247-90c0-5fd1ab923f58\")>,\n",
       " <selenium.webdriver.remote.webelement.WebElement (session=\"79ff1a4811a987c6abb25abf758b8d26\", element=\"1974f654-55f5-472b-b5e7-1370c0133bb4\")>,\n",
       " <selenium.webdriver.remote.webelement.WebElement (session=\"79ff1a4811a987c6abb25abf758b8d26\", element=\"a78e9c23-b40b-4256-9c83-599875e6c7cf\")>,\n",
       " <selenium.webdriver.remote.webelement.WebElement (session=\"79ff1a4811a987c6abb25abf758b8d26\", element=\"48c3e495-1df8-4b12-a111-3d3098fca8c2\")>,\n",
       " <selenium.webdriver.remote.webelement.WebElement (session=\"79ff1a4811a987c6abb25abf758b8d26\", element=\"acc233f4-b3b9-4807-9de4-815a469db8d5\")>,\n",
       " <selenium.webdriver.remote.webelement.WebElement (session=\"79ff1a4811a987c6abb25abf758b8d26\", element=\"d6163962-f79d-44c8-a8d6-0ad05516e361\")>,\n",
       " <selenium.webdriver.remote.webelement.WebElement (session=\"79ff1a4811a987c6abb25abf758b8d26\", element=\"3c45d085-3b8a-4bee-8da8-7f9b5290f0c2\")>,\n",
       " <selenium.webdriver.remote.webelement.WebElement (session=\"79ff1a4811a987c6abb25abf758b8d26\", element=\"8be9b533-1135-496f-a487-97073facd321\")>,\n",
       " <selenium.webdriver.remote.webelement.WebElement (session=\"79ff1a4811a987c6abb25abf758b8d26\", element=\"8edcd435-e322-49da-aa3f-a7c7503b8c20\")>,\n",
       " <selenium.webdriver.remote.webelement.WebElement (session=\"79ff1a4811a987c6abb25abf758b8d26\", element=\"a6c13233-48dd-4876-8c25-8e405a022b44\")>,\n",
       " <selenium.webdriver.remote.webelement.WebElement (session=\"79ff1a4811a987c6abb25abf758b8d26\", element=\"603587b6-b171-4127-90f3-5ff0c1d0ef6e\")>,\n",
       " <selenium.webdriver.remote.webelement.WebElement (session=\"79ff1a4811a987c6abb25abf758b8d26\", element=\"dd256109-7620-40b7-8ced-58506058e820\")>,\n",
       " <selenium.webdriver.remote.webelement.WebElement (session=\"79ff1a4811a987c6abb25abf758b8d26\", element=\"9df4e105-ad8a-47ff-8f37-916acca0372c\")>,\n",
       " <selenium.webdriver.remote.webelement.WebElement (session=\"79ff1a4811a987c6abb25abf758b8d26\", element=\"ff6943ab-a1d2-44a6-add2-0a11e25df8de\")>]"
      ]
     },
     "execution_count": 73,
     "metadata": {},
     "output_type": "execute_result"
    }
   ],
   "source": [
    "pri1=driver.find_elements_by_xpath('//div[@class=\"_30jeq3\"]')\n",
    "pri1"
   ]
  },
  {
   "cell_type": "code",
   "execution_count": 74,
   "id": "3d64daca",
   "metadata": {},
   "outputs": [
    {
     "data": {
      "text/plain": [
       "['₹198',\n",
       " '₹569',\n",
       " '₹758',\n",
       " '₹336',\n",
       " '₹249',\n",
       " '₹359',\n",
       " '₹329',\n",
       " '₹664',\n",
       " '₹287',\n",
       " '₹196',\n",
       " '₹220',\n",
       " '₹187',\n",
       " '₹275',\n",
       " '₹509',\n",
       " '₹219',\n",
       " '₹158',\n",
       " '₹299',\n",
       " '₹263',\n",
       " '₹325',\n",
       " '₹349',\n",
       " '₹164',\n",
       " '₹259',\n",
       " '₹252',\n",
       " '₹187',\n",
       " '₹332',\n",
       " '₹175',\n",
       " '₹449',\n",
       " '₹271',\n",
       " '₹329',\n",
       " '₹189',\n",
       " '₹284',\n",
       " '₹339',\n",
       " '₹187',\n",
       " '₹336',\n",
       " '₹202',\n",
       " '₹295',\n",
       " '₹340',\n",
       " '₹276',\n",
       " '₹260',\n",
       " '₹239']"
      ]
     },
     "execution_count": 74,
     "metadata": {},
     "output_type": "execute_result"
    }
   ],
   "source": [
    "price1=[]\n",
    "for i in pri1:\n",
    "    price1.append(i.text)\n",
    "price1"
   ]
  },
  {
   "cell_type": "code",
   "execution_count": 75,
   "id": "22a3194f",
   "metadata": {},
   "outputs": [
    {
     "data": {
      "text/html": [
       "<div>\n",
       "<style scoped>\n",
       "    .dataframe tbody tr th:only-of-type {\n",
       "        vertical-align: middle;\n",
       "    }\n",
       "\n",
       "    .dataframe tbody tr th {\n",
       "        vertical-align: top;\n",
       "    }\n",
       "\n",
       "    .dataframe thead th {\n",
       "        text-align: right;\n",
       "    }\n",
       "</style>\n",
       "<table border=\"1\" class=\"dataframe\">\n",
       "  <thead>\n",
       "    <tr style=\"text-align: right;\">\n",
       "      <th></th>\n",
       "      <th>Brands</th>\n",
       "      <th>Description</th>\n",
       "      <th>Price</th>\n",
       "    </tr>\n",
       "  </thead>\n",
       "  <tbody>\n",
       "    <tr>\n",
       "      <th>0</th>\n",
       "      <td>GANSTA</td>\n",
       "      <td>UV Protection, Riding Glasses Wayfarer Sunglas...</td>\n",
       "      <td>₹198</td>\n",
       "    </tr>\n",
       "    <tr>\n",
       "      <th>1</th>\n",
       "      <td>ROYAL SON</td>\n",
       "      <td>UV Protection Retro Square Sunglasses (88)</td>\n",
       "      <td>₹569</td>\n",
       "    </tr>\n",
       "    <tr>\n",
       "      <th>2</th>\n",
       "      <td>Fastrack</td>\n",
       "      <td>UV Protection Wayfarer Sunglasses (Free Size)</td>\n",
       "      <td>₹758</td>\n",
       "    </tr>\n",
       "    <tr>\n",
       "      <th>3</th>\n",
       "      <td>ROZZETTA CRAFT</td>\n",
       "      <td>UV Protection, Gradient Round Sunglasses (Free...</td>\n",
       "      <td>₹336</td>\n",
       "    </tr>\n",
       "    <tr>\n",
       "      <th>4</th>\n",
       "      <td>kingsunglasses</td>\n",
       "      <td>UV Protection, Mirrored Round Sunglasses (Free...</td>\n",
       "      <td>₹249</td>\n",
       "    </tr>\n",
       "    <tr>\n",
       "      <th>5</th>\n",
       "      <td>ROYAL SON</td>\n",
       "      <td>Mirrored Aviator Sunglasses (55)</td>\n",
       "      <td>₹359</td>\n",
       "    </tr>\n",
       "    <tr>\n",
       "      <th>6</th>\n",
       "      <td>PHENOMENAL</td>\n",
       "      <td>UV Protection, Mirrored Retro Square Sunglasse...</td>\n",
       "      <td>₹329</td>\n",
       "    </tr>\n",
       "    <tr>\n",
       "      <th>7</th>\n",
       "      <td>ROYAL SON</td>\n",
       "      <td>UV Protection Over-sized Sunglasses (65)</td>\n",
       "      <td>₹664</td>\n",
       "    </tr>\n",
       "    <tr>\n",
       "      <th>8</th>\n",
       "      <td>hipe</td>\n",
       "      <td>UV Protection Sports Sunglasses (Free Size)</td>\n",
       "      <td>₹287</td>\n",
       "    </tr>\n",
       "    <tr>\n",
       "      <th>9</th>\n",
       "      <td>agera</td>\n",
       "      <td>Gradient Aviator Sunglasses (55)</td>\n",
       "      <td>₹196</td>\n",
       "    </tr>\n",
       "    <tr>\n",
       "      <th>10</th>\n",
       "      <td>SRPM</td>\n",
       "      <td>UV Protection Wayfarer Sunglasses (53)</td>\n",
       "      <td>₹220</td>\n",
       "    </tr>\n",
       "    <tr>\n",
       "      <th>11</th>\n",
       "      <td>PIRASO</td>\n",
       "      <td>UV Protection Aviator Sunglasses (54)</td>\n",
       "      <td>₹187</td>\n",
       "    </tr>\n",
       "    <tr>\n",
       "      <th>12</th>\n",
       "      <td>Elligator</td>\n",
       "      <td>UV Protection Round Sunglasses (54)</td>\n",
       "      <td>₹275</td>\n",
       "    </tr>\n",
       "    <tr>\n",
       "      <th>13</th>\n",
       "      <td>Fastrack</td>\n",
       "      <td>Gradient, UV Protection Wayfarer Sunglasses (F...</td>\n",
       "      <td>₹509</td>\n",
       "    </tr>\n",
       "    <tr>\n",
       "      <th>14</th>\n",
       "      <td>kingsunglasses</td>\n",
       "      <td>UV Protection, Mirrored Round Sunglasses (54)</td>\n",
       "      <td>₹219</td>\n",
       "    </tr>\n",
       "    <tr>\n",
       "      <th>15</th>\n",
       "      <td>PIRASO</td>\n",
       "      <td>UV Protection Aviator Sunglasses (55)</td>\n",
       "      <td>₹158</td>\n",
       "    </tr>\n",
       "    <tr>\n",
       "      <th>16</th>\n",
       "      <td>PIRASO</td>\n",
       "      <td>UV Protection Aviator Sunglasses (58)</td>\n",
       "      <td>₹299</td>\n",
       "    </tr>\n",
       "    <tr>\n",
       "      <th>17</th>\n",
       "      <td>Elligator</td>\n",
       "      <td>Mirrored Round Sunglasses (53)</td>\n",
       "      <td>₹263</td>\n",
       "    </tr>\n",
       "    <tr>\n",
       "      <th>18</th>\n",
       "      <td>ROZZETTA CRAFT</td>\n",
       "      <td>UV Protection, Gradient Retro Square Sunglasse...</td>\n",
       "      <td>₹325</td>\n",
       "    </tr>\n",
       "    <tr>\n",
       "      <th>19</th>\n",
       "      <td>PIRASO</td>\n",
       "      <td>UV Protection Rectangular, Over-sized Sunglass...</td>\n",
       "      <td>₹349</td>\n",
       "    </tr>\n",
       "    <tr>\n",
       "      <th>20</th>\n",
       "      <td>PIRASO</td>\n",
       "      <td>UV Protection, Polarized Aviator Sunglasses (32)</td>\n",
       "      <td>₹164</td>\n",
       "    </tr>\n",
       "    <tr>\n",
       "      <th>21</th>\n",
       "      <td>kingsunglasses</td>\n",
       "      <td>Mirrored, UV Protection Wayfarer Sunglasses (F...</td>\n",
       "      <td>₹259</td>\n",
       "    </tr>\n",
       "    <tr>\n",
       "      <th>22</th>\n",
       "      <td>Singco India</td>\n",
       "      <td>Riding Glasses, UV Protection, Others Aviator ...</td>\n",
       "      <td>₹252</td>\n",
       "    </tr>\n",
       "    <tr>\n",
       "      <th>23</th>\n",
       "      <td>PIRASO</td>\n",
       "      <td>UV Protection Aviator Sunglasses (54)</td>\n",
       "      <td>₹187</td>\n",
       "    </tr>\n",
       "    <tr>\n",
       "      <th>24</th>\n",
       "      <td>Elligator</td>\n",
       "      <td>UV Protection, Riding Glasses Rectangular, Ret...</td>\n",
       "      <td>₹332</td>\n",
       "    </tr>\n",
       "    <tr>\n",
       "      <th>25</th>\n",
       "      <td>MAXX</td>\n",
       "      <td>UV Protection Aviator Sunglasses (Free Size)</td>\n",
       "      <td>₹175</td>\n",
       "    </tr>\n",
       "    <tr>\n",
       "      <th>26</th>\n",
       "      <td>ROZZETTA CRAFT</td>\n",
       "      <td>UV Protection, Gradient Round Sunglasses (Free...</td>\n",
       "      <td>₹449</td>\n",
       "    </tr>\n",
       "    <tr>\n",
       "      <th>27</th>\n",
       "      <td>PIRASO</td>\n",
       "      <td>UV Protection Butterfly Sunglasses (60)</td>\n",
       "      <td>₹271</td>\n",
       "    </tr>\n",
       "    <tr>\n",
       "      <th>28</th>\n",
       "      <td>povty</td>\n",
       "      <td>UV Protection Retro Square Sunglasses (Free Size)</td>\n",
       "      <td>₹329</td>\n",
       "    </tr>\n",
       "    <tr>\n",
       "      <th>29</th>\n",
       "      <td>hipe</td>\n",
       "      <td>UV Protection, Night Vision, Riding Glasses, G...</td>\n",
       "      <td>₹189</td>\n",
       "    </tr>\n",
       "    <tr>\n",
       "      <th>30</th>\n",
       "      <td>Silver Kartz</td>\n",
       "      <td>UV Protection Oval Sunglasses (56)</td>\n",
       "      <td>₹284</td>\n",
       "    </tr>\n",
       "    <tr>\n",
       "      <th>31</th>\n",
       "      <td>Fravy</td>\n",
       "      <td>UV Protection, Gradient, Night Vision Retro Sq...</td>\n",
       "      <td>₹339</td>\n",
       "    </tr>\n",
       "    <tr>\n",
       "      <th>32</th>\n",
       "      <td>PIRASO</td>\n",
       "      <td>UV Protection Wayfarer Sunglasses (32)</td>\n",
       "      <td>₹187</td>\n",
       "    </tr>\n",
       "    <tr>\n",
       "      <th>33</th>\n",
       "      <td>PIRASO</td>\n",
       "      <td>UV Protection Butterfly Sunglasses (65)</td>\n",
       "      <td>₹336</td>\n",
       "    </tr>\n",
       "    <tr>\n",
       "      <th>34</th>\n",
       "      <td>DEIXELS</td>\n",
       "      <td>UV Protection Aviator, Wayfarer Sunglasses (Fr...</td>\n",
       "      <td>₹202</td>\n",
       "    </tr>\n",
       "    <tr>\n",
       "      <th>35</th>\n",
       "      <td>GANSTA</td>\n",
       "      <td>UV Protection, Night Vision, Riding Glasses Av...</td>\n",
       "      <td>₹295</td>\n",
       "    </tr>\n",
       "    <tr>\n",
       "      <th>36</th>\n",
       "      <td>elegante</td>\n",
       "      <td>Mirrored Round Sunglasses (Free Size)</td>\n",
       "      <td>₹340</td>\n",
       "    </tr>\n",
       "    <tr>\n",
       "      <th>37</th>\n",
       "      <td>Elligator</td>\n",
       "      <td>UV Protection, Riding Glasses Rectangular, Ret...</td>\n",
       "      <td>₹276</td>\n",
       "    </tr>\n",
       "    <tr>\n",
       "      <th>38</th>\n",
       "      <td>Rich Club</td>\n",
       "      <td>UV Protection, Others Round Sunglasses (48)</td>\n",
       "      <td>₹260</td>\n",
       "    </tr>\n",
       "    <tr>\n",
       "      <th>39</th>\n",
       "      <td>Singco India</td>\n",
       "      <td>UV Protection, Riding Glasses, Others Retro Sq...</td>\n",
       "      <td>₹239</td>\n",
       "    </tr>\n",
       "  </tbody>\n",
       "</table>\n",
       "</div>"
      ],
      "text/plain": [
       "            Brands                                        Description Price\n",
       "0           GANSTA  UV Protection, Riding Glasses Wayfarer Sunglas...  ₹198\n",
       "1        ROYAL SON         UV Protection Retro Square Sunglasses (88)  ₹569\n",
       "2         Fastrack      UV Protection Wayfarer Sunglasses (Free Size)  ₹758\n",
       "3   ROZZETTA CRAFT  UV Protection, Gradient Round Sunglasses (Free...  ₹336\n",
       "4   kingsunglasses  UV Protection, Mirrored Round Sunglasses (Free...  ₹249\n",
       "5        ROYAL SON                   Mirrored Aviator Sunglasses (55)  ₹359\n",
       "6       PHENOMENAL  UV Protection, Mirrored Retro Square Sunglasse...  ₹329\n",
       "7        ROYAL SON           UV Protection Over-sized Sunglasses (65)  ₹664\n",
       "8             hipe        UV Protection Sports Sunglasses (Free Size)  ₹287\n",
       "9            agera                   Gradient Aviator Sunglasses (55)  ₹196\n",
       "10            SRPM             UV Protection Wayfarer Sunglasses (53)  ₹220\n",
       "11          PIRASO              UV Protection Aviator Sunglasses (54)  ₹187\n",
       "12       Elligator                UV Protection Round Sunglasses (54)  ₹275\n",
       "13        Fastrack  Gradient, UV Protection Wayfarer Sunglasses (F...  ₹509\n",
       "14  kingsunglasses      UV Protection, Mirrored Round Sunglasses (54)  ₹219\n",
       "15          PIRASO              UV Protection Aviator Sunglasses (55)  ₹158\n",
       "16          PIRASO              UV Protection Aviator Sunglasses (58)  ₹299\n",
       "17       Elligator                     Mirrored Round Sunglasses (53)  ₹263\n",
       "18  ROZZETTA CRAFT  UV Protection, Gradient Retro Square Sunglasse...  ₹325\n",
       "19          PIRASO  UV Protection Rectangular, Over-sized Sunglass...  ₹349\n",
       "20          PIRASO   UV Protection, Polarized Aviator Sunglasses (32)  ₹164\n",
       "21  kingsunglasses  Mirrored, UV Protection Wayfarer Sunglasses (F...  ₹259\n",
       "22    Singco India  Riding Glasses, UV Protection, Others Aviator ...  ₹252\n",
       "23          PIRASO              UV Protection Aviator Sunglasses (54)  ₹187\n",
       "24       Elligator  UV Protection, Riding Glasses Rectangular, Ret...  ₹332\n",
       "25            MAXX       UV Protection Aviator Sunglasses (Free Size)  ₹175\n",
       "26  ROZZETTA CRAFT  UV Protection, Gradient Round Sunglasses (Free...  ₹449\n",
       "27          PIRASO            UV Protection Butterfly Sunglasses (60)  ₹271\n",
       "28           povty  UV Protection Retro Square Sunglasses (Free Size)  ₹329\n",
       "29            hipe  UV Protection, Night Vision, Riding Glasses, G...  ₹189\n",
       "30    Silver Kartz                 UV Protection Oval Sunglasses (56)  ₹284\n",
       "31           Fravy  UV Protection, Gradient, Night Vision Retro Sq...  ₹339\n",
       "32          PIRASO             UV Protection Wayfarer Sunglasses (32)  ₹187\n",
       "33          PIRASO            UV Protection Butterfly Sunglasses (65)  ₹336\n",
       "34         DEIXELS  UV Protection Aviator, Wayfarer Sunglasses (Fr...  ₹202\n",
       "35          GANSTA  UV Protection, Night Vision, Riding Glasses Av...  ₹295\n",
       "36        elegante              Mirrored Round Sunglasses (Free Size)  ₹340\n",
       "37       Elligator  UV Protection, Riding Glasses Rectangular, Ret...  ₹276\n",
       "38       Rich Club        UV Protection, Others Round Sunglasses (48)  ₹260\n",
       "39    Singco India  UV Protection, Riding Glasses, Others Retro Sq...  ₹239"
      ]
     },
     "execution_count": 75,
     "metadata": {},
     "output_type": "execute_result"
    }
   ],
   "source": [
    "data1=pd.DataFrame()\n",
    "data1['Brands']=brands1\n",
    "data1['Description']=descrip1\n",
    "data1['Price']=price1\n",
    "data1"
   ]
  },
  {
   "cell_type": "code",
   "execution_count": 76,
   "id": "76788675",
   "metadata": {},
   "outputs": [
    {
     "name": "stderr",
     "output_type": "stream",
     "text": [
      "<ipython-input-76-de01f0111d57>:1: DeprecationWarning: find_element_by_* commands are deprecated. Please use find_element() instead\n",
      "  next2_=driver.find_element_by_xpath('/html/body/div[1]/div/div[3]/div[1]/div[2]/div[12]/div/div/nav/a[4]')\n"
     ]
    }
   ],
   "source": [
    "next2_=driver.find_element_by_xpath('/html/body/div[1]/div/div[3]/div[1]/div[2]/div[12]/div/div/nav/a[4]')\n",
    "next2_.click()#clicking on the next page for scraping the data"
   ]
  },
  {
   "cell_type": "code",
   "execution_count": 77,
   "id": "c7c4bf1b",
   "metadata": {},
   "outputs": [
    {
     "name": "stderr",
     "output_type": "stream",
     "text": [
      "<ipython-input-77-4ecb9f2a1137>:1: DeprecationWarning: find_elements_by_* commands are deprecated. Please use find_elements() instead\n",
      "  brand3=driver.find_elements_by_xpath('//div[@class=\"_2WkVRV\"]')\n"
     ]
    }
   ],
   "source": [
    "brand3=driver.find_elements_by_xpath('//div[@class=\"_2WkVRV\"]')"
   ]
  },
  {
   "cell_type": "code",
   "execution_count": 78,
   "id": "56b9a0ca",
   "metadata": {},
   "outputs": [
    {
     "data": {
      "text/plain": [
       "['kingsunglasses',\n",
       " 'GANSTA',\n",
       " 'PHENOMENAL',\n",
       " 'Singco India',\n",
       " 'ROYAL SON',\n",
       " 'PETER JONES',\n",
       " 'ROYAL SON',\n",
       " 'PIRASO',\n",
       " 'SHAAH COLLECTIONS',\n",
       " 'kingsunglasses',\n",
       " 'ROYAL SON',\n",
       " 'agera',\n",
       " 'Cruze',\n",
       " 'Rich Club',\n",
       " 'hipe',\n",
       " 'ROYAL SON',\n",
       " 'Fastrack',\n",
       " 'Poland',\n",
       " 'ROYAL SON',\n",
       " 'ROZZETTA CRAFT',\n",
       " 'Silver Kartz',\n",
       " 'DEIXELS',\n",
       " 'Elligator',\n",
       " 'hipe',\n",
       " 'PIRASO',\n",
       " 'ROZZETTA CRAFT',\n",
       " 'GANSTA',\n",
       " 'ROYAL SON',\n",
       " 'Singco India',\n",
       " 'AISLIN',\n",
       " 'PIRASO',\n",
       " 'ROYAL SON',\n",
       " 'GANSTA',\n",
       " 'New Specs',\n",
       " 'ROYAL SON',\n",
       " 'ROZZETTA CRAFT',\n",
       " 'ROYAL SON',\n",
       " 'kingsunglasses',\n",
       " 'ROYAL SON',\n",
       " 'GANSTA']"
      ]
     },
     "execution_count": 78,
     "metadata": {},
     "output_type": "execute_result"
    }
   ],
   "source": [
    "Brands3=[]\n",
    "for i in brand3:\n",
    "    Brands3.append(i.text)\n",
    "Brands3"
   ]
  },
  {
   "cell_type": "code",
   "execution_count": 79,
   "id": "cb927e48",
   "metadata": {},
   "outputs": [
    {
     "name": "stderr",
     "output_type": "stream",
     "text": [
      "<ipython-input-79-efa146303a34>:1: DeprecationWarning: find_elements_by_* commands are deprecated. Please use find_elements() instead\n",
      "  des3=driver.find_elements_by_xpath('//div[@class=\"_2B099V\"]//a[@class=\"IRpwTa\"]')\n"
     ]
    }
   ],
   "source": [
    "des3=driver.find_elements_by_xpath('//div[@class=\"_2B099V\"]//a[@class=\"IRpwTa\"]')"
   ]
  },
  {
   "cell_type": "code",
   "execution_count": 80,
   "id": "941b8430",
   "metadata": {},
   "outputs": [
    {
     "data": {
      "text/plain": [
       "['UV Protection, Others Round, Aviator Sunglasses (54)',\n",
       " 'UV Protection, Riding Glasses Aviator Sunglasses (57)',\n",
       " 'UV Protection, Mirrored Retro Square Sunglasses (53)',\n",
       " 'Mirrored, UV Protection, Riding Glasses, Others Wrap-ar...',\n",
       " 'UV Protection Rectangular Sunglasses (58)',\n",
       " 'Night Vision, Riding Glasses, UV Protection Wrap-around...',\n",
       " 'Mirrored Aviator Sunglasses (Free Size)',\n",
       " 'UV Protection Aviator Sunglasses (Free Size)',\n",
       " 'UV Protection Round Sunglasses (Free Size)',\n",
       " 'UV Protection Round Sunglasses (Free Size)',\n",
       " 'UV Protection Retro Square Sunglasses (58)',\n",
       " 'Gradient Aviator Sunglasses (55)',\n",
       " 'UV Protection Aviator Sunglasses (Free Size)',\n",
       " 'Polarized Round Sunglasses (48)',\n",
       " 'UV Protection, Night Vision, Gradient, Mirrored Round, ...',\n",
       " 'Polarized, UV Protection Wrap-around Sunglasses (60)',\n",
       " 'UV Protection Wayfarer Sunglasses (55)',\n",
       " 'UV Protection Wayfarer Sunglasses (Free Size)',\n",
       " 'UV Protection Round Sunglasses (50)',\n",
       " 'UV Protection, Gradient Retro Square Sunglasses (Free S...',\n",
       " 'UV Protection Aviator Sunglasses (88)',\n",
       " 'Polarized, UV Protection, Riding Glasses Wayfarer Sungl...',\n",
       " 'UV Protection Wayfarer Sunglasses (53)',\n",
       " 'UV Protection Sports Sunglasses (Free Size)',\n",
       " 'UV Protection Aviator Sunglasses (55)',\n",
       " 'UV Protection, Riding Glasses Rectangular Sunglasses (F...',\n",
       " 'UV Protection, Mirrored Wayfarer Sunglasses (53)',\n",
       " 'Polarized Sports Sunglasses (68)',\n",
       " 'UV Protection Round Sunglasses (Free Size)',\n",
       " 'UV Protection, Gradient Oval Sunglasses (58)',\n",
       " 'UV Protection Aviator Sunglasses (54)',\n",
       " 'UV Protection Retro Square Sunglasses (49)',\n",
       " 'UV Protection, Gradient Wayfarer Sunglasses (53)',\n",
       " 'UV Protection Rectangular Sunglasses (Free Size)',\n",
       " 'UV Protection Over-sized Sunglasses (60)',\n",
       " 'UV Protection, Gradient Rectangular Sunglasses (Free Si...',\n",
       " 'Mirrored Aviator Sunglasses (55)',\n",
       " 'UV Protection Rectangular Sunglasses (55)',\n",
       " 'UV Protection Round Sunglasses (50)',\n",
       " 'UV Protection, Gradient, Riding Glasses Wayfarer Sungla...']"
      ]
     },
     "execution_count": 80,
     "metadata": {},
     "output_type": "execute_result"
    }
   ],
   "source": [
    "description3=[]\n",
    "for i in des3:\n",
    "    description3.append(i.text)\n",
    "description3"
   ]
  },
  {
   "cell_type": "code",
   "execution_count": 81,
   "id": "f9b92fc9",
   "metadata": {},
   "outputs": [
    {
     "name": "stderr",
     "output_type": "stream",
     "text": [
      "<ipython-input-81-b3dab928c36a>:1: DeprecationWarning: find_elements_by_* commands are deprecated. Please use find_elements() instead\n",
      "  pri3=driver.find_elements_by_xpath('//div[@class=\"_30jeq3\"]')\n"
     ]
    }
   ],
   "source": [
    "pri3=driver.find_elements_by_xpath('//div[@class=\"_30jeq3\"]')"
   ]
  },
  {
   "cell_type": "code",
   "execution_count": 82,
   "id": "eac67a95",
   "metadata": {},
   "outputs": [
    {
     "data": {
      "text/plain": [
       "['₹189',\n",
       " '₹296',\n",
       " '₹311',\n",
       " '₹349',\n",
       " '₹449',\n",
       " '₹467',\n",
       " '₹359',\n",
       " '₹261',\n",
       " '₹299',\n",
       " '₹299',\n",
       " '₹449',\n",
       " '₹196',\n",
       " '₹499',\n",
       " '₹179',\n",
       " '₹189',\n",
       " '₹759',\n",
       " '₹694',\n",
       " '₹165',\n",
       " '₹359',\n",
       " '₹325',\n",
       " '₹255',\n",
       " '₹236',\n",
       " '₹319',\n",
       " '₹287',\n",
       " '₹158',\n",
       " '₹449',\n",
       " '₹196',\n",
       " '₹1,234',\n",
       " '₹229',\n",
       " '₹498',\n",
       " '₹187',\n",
       " '₹664',\n",
       " '₹296',\n",
       " '₹199',\n",
       " '₹664',\n",
       " '₹499',\n",
       " '₹359',\n",
       " '₹259',\n",
       " '₹359',\n",
       " '₹272']"
      ]
     },
     "execution_count": 82,
     "metadata": {},
     "output_type": "execute_result"
    }
   ],
   "source": [
    "price3=[]\n",
    "for i in pri3:\n",
    "    price3.append(i.text)\n",
    "price3"
   ]
  },
  {
   "cell_type": "code",
   "execution_count": 83,
   "id": "70a6fa55",
   "metadata": {},
   "outputs": [
    {
     "data": {
      "text/html": [
       "<div>\n",
       "<style scoped>\n",
       "    .dataframe tbody tr th:only-of-type {\n",
       "        vertical-align: middle;\n",
       "    }\n",
       "\n",
       "    .dataframe tbody tr th {\n",
       "        vertical-align: top;\n",
       "    }\n",
       "\n",
       "    .dataframe thead th {\n",
       "        text-align: right;\n",
       "    }\n",
       "</style>\n",
       "<table border=\"1\" class=\"dataframe\">\n",
       "  <thead>\n",
       "    <tr style=\"text-align: right;\">\n",
       "      <th></th>\n",
       "      <th>Brands</th>\n",
       "      <th>Description</th>\n",
       "      <th>Price</th>\n",
       "    </tr>\n",
       "  </thead>\n",
       "  <tbody>\n",
       "    <tr>\n",
       "      <th>0</th>\n",
       "      <td>kingsunglasses</td>\n",
       "      <td>UV Protection, Others Round, Aviator Sunglasse...</td>\n",
       "      <td>₹189</td>\n",
       "    </tr>\n",
       "    <tr>\n",
       "      <th>1</th>\n",
       "      <td>GANSTA</td>\n",
       "      <td>UV Protection, Riding Glasses Aviator Sunglass...</td>\n",
       "      <td>₹296</td>\n",
       "    </tr>\n",
       "    <tr>\n",
       "      <th>2</th>\n",
       "      <td>PHENOMENAL</td>\n",
       "      <td>UV Protection, Mirrored Retro Square Sunglasse...</td>\n",
       "      <td>₹311</td>\n",
       "    </tr>\n",
       "    <tr>\n",
       "      <th>3</th>\n",
       "      <td>Singco India</td>\n",
       "      <td>Mirrored, UV Protection, Riding Glasses, Other...</td>\n",
       "      <td>₹349</td>\n",
       "    </tr>\n",
       "    <tr>\n",
       "      <th>4</th>\n",
       "      <td>ROYAL SON</td>\n",
       "      <td>UV Protection Rectangular Sunglasses (58)</td>\n",
       "      <td>₹449</td>\n",
       "    </tr>\n",
       "    <tr>\n",
       "      <th>5</th>\n",
       "      <td>PETER JONES</td>\n",
       "      <td>Night Vision, Riding Glasses, UV Protection Wr...</td>\n",
       "      <td>₹467</td>\n",
       "    </tr>\n",
       "    <tr>\n",
       "      <th>6</th>\n",
       "      <td>ROYAL SON</td>\n",
       "      <td>Mirrored Aviator Sunglasses (Free Size)</td>\n",
       "      <td>₹359</td>\n",
       "    </tr>\n",
       "    <tr>\n",
       "      <th>7</th>\n",
       "      <td>PIRASO</td>\n",
       "      <td>UV Protection Aviator Sunglasses (Free Size)</td>\n",
       "      <td>₹261</td>\n",
       "    </tr>\n",
       "    <tr>\n",
       "      <th>8</th>\n",
       "      <td>SHAAH COLLECTIONS</td>\n",
       "      <td>UV Protection Round Sunglasses (Free Size)</td>\n",
       "      <td>₹299</td>\n",
       "    </tr>\n",
       "    <tr>\n",
       "      <th>9</th>\n",
       "      <td>kingsunglasses</td>\n",
       "      <td>UV Protection Round Sunglasses (Free Size)</td>\n",
       "      <td>₹299</td>\n",
       "    </tr>\n",
       "    <tr>\n",
       "      <th>10</th>\n",
       "      <td>ROYAL SON</td>\n",
       "      <td>UV Protection Retro Square Sunglasses (58)</td>\n",
       "      <td>₹449</td>\n",
       "    </tr>\n",
       "    <tr>\n",
       "      <th>11</th>\n",
       "      <td>agera</td>\n",
       "      <td>Gradient Aviator Sunglasses (55)</td>\n",
       "      <td>₹196</td>\n",
       "    </tr>\n",
       "    <tr>\n",
       "      <th>12</th>\n",
       "      <td>Cruze</td>\n",
       "      <td>UV Protection Aviator Sunglasses (Free Size)</td>\n",
       "      <td>₹499</td>\n",
       "    </tr>\n",
       "    <tr>\n",
       "      <th>13</th>\n",
       "      <td>Rich Club</td>\n",
       "      <td>Polarized Round Sunglasses (48)</td>\n",
       "      <td>₹179</td>\n",
       "    </tr>\n",
       "    <tr>\n",
       "      <th>14</th>\n",
       "      <td>hipe</td>\n",
       "      <td>UV Protection, Night Vision, Gradient, Mirrore...</td>\n",
       "      <td>₹189</td>\n",
       "    </tr>\n",
       "    <tr>\n",
       "      <th>15</th>\n",
       "      <td>ROYAL SON</td>\n",
       "      <td>Polarized, UV Protection Wrap-around Sunglasse...</td>\n",
       "      <td>₹759</td>\n",
       "    </tr>\n",
       "    <tr>\n",
       "      <th>16</th>\n",
       "      <td>Fastrack</td>\n",
       "      <td>UV Protection Wayfarer Sunglasses (55)</td>\n",
       "      <td>₹694</td>\n",
       "    </tr>\n",
       "    <tr>\n",
       "      <th>17</th>\n",
       "      <td>Poland</td>\n",
       "      <td>UV Protection Wayfarer Sunglasses (Free Size)</td>\n",
       "      <td>₹165</td>\n",
       "    </tr>\n",
       "    <tr>\n",
       "      <th>18</th>\n",
       "      <td>ROYAL SON</td>\n",
       "      <td>UV Protection Round Sunglasses (50)</td>\n",
       "      <td>₹359</td>\n",
       "    </tr>\n",
       "    <tr>\n",
       "      <th>19</th>\n",
       "      <td>ROZZETTA CRAFT</td>\n",
       "      <td>UV Protection, Gradient Retro Square Sunglasse...</td>\n",
       "      <td>₹325</td>\n",
       "    </tr>\n",
       "    <tr>\n",
       "      <th>20</th>\n",
       "      <td>Silver Kartz</td>\n",
       "      <td>UV Protection Aviator Sunglasses (88)</td>\n",
       "      <td>₹255</td>\n",
       "    </tr>\n",
       "    <tr>\n",
       "      <th>21</th>\n",
       "      <td>DEIXELS</td>\n",
       "      <td>Polarized, UV Protection, Riding Glasses Wayfa...</td>\n",
       "      <td>₹236</td>\n",
       "    </tr>\n",
       "    <tr>\n",
       "      <th>22</th>\n",
       "      <td>Elligator</td>\n",
       "      <td>UV Protection Wayfarer Sunglasses (53)</td>\n",
       "      <td>₹319</td>\n",
       "    </tr>\n",
       "    <tr>\n",
       "      <th>23</th>\n",
       "      <td>hipe</td>\n",
       "      <td>UV Protection Sports Sunglasses (Free Size)</td>\n",
       "      <td>₹287</td>\n",
       "    </tr>\n",
       "    <tr>\n",
       "      <th>24</th>\n",
       "      <td>PIRASO</td>\n",
       "      <td>UV Protection Aviator Sunglasses (55)</td>\n",
       "      <td>₹158</td>\n",
       "    </tr>\n",
       "    <tr>\n",
       "      <th>25</th>\n",
       "      <td>ROZZETTA CRAFT</td>\n",
       "      <td>UV Protection, Riding Glasses Rectangular Sung...</td>\n",
       "      <td>₹449</td>\n",
       "    </tr>\n",
       "    <tr>\n",
       "      <th>26</th>\n",
       "      <td>GANSTA</td>\n",
       "      <td>UV Protection, Mirrored Wayfarer Sunglasses (53)</td>\n",
       "      <td>₹196</td>\n",
       "    </tr>\n",
       "    <tr>\n",
       "      <th>27</th>\n",
       "      <td>ROYAL SON</td>\n",
       "      <td>Polarized Sports Sunglasses (68)</td>\n",
       "      <td>₹1,234</td>\n",
       "    </tr>\n",
       "    <tr>\n",
       "      <th>28</th>\n",
       "      <td>Singco India</td>\n",
       "      <td>UV Protection Round Sunglasses (Free Size)</td>\n",
       "      <td>₹229</td>\n",
       "    </tr>\n",
       "    <tr>\n",
       "      <th>29</th>\n",
       "      <td>AISLIN</td>\n",
       "      <td>UV Protection, Gradient Oval Sunglasses (58)</td>\n",
       "      <td>₹498</td>\n",
       "    </tr>\n",
       "    <tr>\n",
       "      <th>30</th>\n",
       "      <td>PIRASO</td>\n",
       "      <td>UV Protection Aviator Sunglasses (54)</td>\n",
       "      <td>₹187</td>\n",
       "    </tr>\n",
       "    <tr>\n",
       "      <th>31</th>\n",
       "      <td>ROYAL SON</td>\n",
       "      <td>UV Protection Retro Square Sunglasses (49)</td>\n",
       "      <td>₹664</td>\n",
       "    </tr>\n",
       "    <tr>\n",
       "      <th>32</th>\n",
       "      <td>GANSTA</td>\n",
       "      <td>UV Protection, Gradient Wayfarer Sunglasses (53)</td>\n",
       "      <td>₹296</td>\n",
       "    </tr>\n",
       "    <tr>\n",
       "      <th>33</th>\n",
       "      <td>New Specs</td>\n",
       "      <td>UV Protection Rectangular Sunglasses (Free Size)</td>\n",
       "      <td>₹199</td>\n",
       "    </tr>\n",
       "    <tr>\n",
       "      <th>34</th>\n",
       "      <td>ROYAL SON</td>\n",
       "      <td>UV Protection Over-sized Sunglasses (60)</td>\n",
       "      <td>₹664</td>\n",
       "    </tr>\n",
       "    <tr>\n",
       "      <th>35</th>\n",
       "      <td>ROZZETTA CRAFT</td>\n",
       "      <td>UV Protection, Gradient Rectangular Sunglasses...</td>\n",
       "      <td>₹499</td>\n",
       "    </tr>\n",
       "    <tr>\n",
       "      <th>36</th>\n",
       "      <td>ROYAL SON</td>\n",
       "      <td>Mirrored Aviator Sunglasses (55)</td>\n",
       "      <td>₹359</td>\n",
       "    </tr>\n",
       "    <tr>\n",
       "      <th>37</th>\n",
       "      <td>kingsunglasses</td>\n",
       "      <td>UV Protection Rectangular Sunglasses (55)</td>\n",
       "      <td>₹259</td>\n",
       "    </tr>\n",
       "    <tr>\n",
       "      <th>38</th>\n",
       "      <td>ROYAL SON</td>\n",
       "      <td>UV Protection Round Sunglasses (50)</td>\n",
       "      <td>₹359</td>\n",
       "    </tr>\n",
       "    <tr>\n",
       "      <th>39</th>\n",
       "      <td>GANSTA</td>\n",
       "      <td>UV Protection, Gradient, Riding Glasses Wayfar...</td>\n",
       "      <td>₹272</td>\n",
       "    </tr>\n",
       "  </tbody>\n",
       "</table>\n",
       "</div>"
      ],
      "text/plain": [
       "               Brands                                        Description  \\\n",
       "0      kingsunglasses  UV Protection, Others Round, Aviator Sunglasse...   \n",
       "1              GANSTA  UV Protection, Riding Glasses Aviator Sunglass...   \n",
       "2          PHENOMENAL  UV Protection, Mirrored Retro Square Sunglasse...   \n",
       "3        Singco India  Mirrored, UV Protection, Riding Glasses, Other...   \n",
       "4           ROYAL SON          UV Protection Rectangular Sunglasses (58)   \n",
       "5         PETER JONES  Night Vision, Riding Glasses, UV Protection Wr...   \n",
       "6           ROYAL SON            Mirrored Aviator Sunglasses (Free Size)   \n",
       "7              PIRASO       UV Protection Aviator Sunglasses (Free Size)   \n",
       "8   SHAAH COLLECTIONS         UV Protection Round Sunglasses (Free Size)   \n",
       "9      kingsunglasses         UV Protection Round Sunglasses (Free Size)   \n",
       "10          ROYAL SON         UV Protection Retro Square Sunglasses (58)   \n",
       "11              agera                   Gradient Aviator Sunglasses (55)   \n",
       "12              Cruze       UV Protection Aviator Sunglasses (Free Size)   \n",
       "13          Rich Club                    Polarized Round Sunglasses (48)   \n",
       "14               hipe  UV Protection, Night Vision, Gradient, Mirrore...   \n",
       "15          ROYAL SON  Polarized, UV Protection Wrap-around Sunglasse...   \n",
       "16           Fastrack             UV Protection Wayfarer Sunglasses (55)   \n",
       "17             Poland      UV Protection Wayfarer Sunglasses (Free Size)   \n",
       "18          ROYAL SON                UV Protection Round Sunglasses (50)   \n",
       "19     ROZZETTA CRAFT  UV Protection, Gradient Retro Square Sunglasse...   \n",
       "20       Silver Kartz              UV Protection Aviator Sunglasses (88)   \n",
       "21            DEIXELS  Polarized, UV Protection, Riding Glasses Wayfa...   \n",
       "22          Elligator             UV Protection Wayfarer Sunglasses (53)   \n",
       "23               hipe        UV Protection Sports Sunglasses (Free Size)   \n",
       "24             PIRASO              UV Protection Aviator Sunglasses (55)   \n",
       "25     ROZZETTA CRAFT  UV Protection, Riding Glasses Rectangular Sung...   \n",
       "26             GANSTA   UV Protection, Mirrored Wayfarer Sunglasses (53)   \n",
       "27          ROYAL SON                   Polarized Sports Sunglasses (68)   \n",
       "28       Singco India         UV Protection Round Sunglasses (Free Size)   \n",
       "29             AISLIN       UV Protection, Gradient Oval Sunglasses (58)   \n",
       "30             PIRASO              UV Protection Aviator Sunglasses (54)   \n",
       "31          ROYAL SON         UV Protection Retro Square Sunglasses (49)   \n",
       "32             GANSTA   UV Protection, Gradient Wayfarer Sunglasses (53)   \n",
       "33          New Specs   UV Protection Rectangular Sunglasses (Free Size)   \n",
       "34          ROYAL SON           UV Protection Over-sized Sunglasses (60)   \n",
       "35     ROZZETTA CRAFT  UV Protection, Gradient Rectangular Sunglasses...   \n",
       "36          ROYAL SON                   Mirrored Aviator Sunglasses (55)   \n",
       "37     kingsunglasses          UV Protection Rectangular Sunglasses (55)   \n",
       "38          ROYAL SON                UV Protection Round Sunglasses (50)   \n",
       "39             GANSTA  UV Protection, Gradient, Riding Glasses Wayfar...   \n",
       "\n",
       "     Price  \n",
       "0     ₹189  \n",
       "1     ₹296  \n",
       "2     ₹311  \n",
       "3     ₹349  \n",
       "4     ₹449  \n",
       "5     ₹467  \n",
       "6     ₹359  \n",
       "7     ₹261  \n",
       "8     ₹299  \n",
       "9     ₹299  \n",
       "10    ₹449  \n",
       "11    ₹196  \n",
       "12    ₹499  \n",
       "13    ₹179  \n",
       "14    ₹189  \n",
       "15    ₹759  \n",
       "16    ₹694  \n",
       "17    ₹165  \n",
       "18    ₹359  \n",
       "19    ₹325  \n",
       "20    ₹255  \n",
       "21    ₹236  \n",
       "22    ₹319  \n",
       "23    ₹287  \n",
       "24    ₹158  \n",
       "25    ₹449  \n",
       "26    ₹196  \n",
       "27  ₹1,234  \n",
       "28    ₹229  \n",
       "29    ₹498  \n",
       "30    ₹187  \n",
       "31    ₹664  \n",
       "32    ₹296  \n",
       "33    ₹199  \n",
       "34    ₹664  \n",
       "35    ₹499  \n",
       "36    ₹359  \n",
       "37    ₹259  \n",
       "38    ₹359  \n",
       "39    ₹272  "
      ]
     },
     "execution_count": 83,
     "metadata": {},
     "output_type": "execute_result"
    }
   ],
   "source": [
    "data3=pd.DataFrame()\n",
    "data3['Brands']=Brands3\n",
    "data3['Description']=description3\n",
    "data3['Price']=price3\n",
    "data3"
   ]
  },
  {
   "cell_type": "markdown",
   "id": "a8936779",
   "metadata": {},
   "source": [
    "# Q5: Scrape 100 reviews data from flipkart.com for iphone11 phone"
   ]
  },
  {
   "cell_type": "code",
   "execution_count": 84,
   "id": "c21e03cb",
   "metadata": {},
   "outputs": [],
   "source": [
    "import selenium\n",
    "import pandas as pd\n",
    "from selenium import webdriver"
   ]
  },
  {
   "cell_type": "code",
   "execution_count": 85,
   "id": "655aeef0",
   "metadata": {},
   "outputs": [
    {
     "name": "stderr",
     "output_type": "stream",
     "text": [
      "<ipython-input-85-a45c1c768693>:1: DeprecationWarning: executable_path has been deprecated, please pass in a Service object\n",
      "  driver=webdriver.Chrome(r'C:\\Users\\Neeraj Kumar\\Downloads\\chromedriver_win32\\chromedriver')\n"
     ]
    }
   ],
   "source": [
    "driver=webdriver.Chrome(r'C:\\Users\\Neeraj Kumar\\Downloads\\chromedriver_win32\\chromedriver')"
   ]
  },
  {
   "cell_type": "code",
   "execution_count": 86,
   "id": "7552b97e",
   "metadata": {},
   "outputs": [],
   "source": [
    "url=\"https://www.flipkart.com/apple-iphone-11-black-64-gb-includes-earpods-power-adapter/p/itm0f37c2240b217?pid=MOBFKCTSVZAXUHGR&lid=LSTMOBFKCTSVZAXUHGREPBFGI&marketplace.\"\n",
    "driver.get(url)"
   ]
  },
  {
   "cell_type": "code",
   "execution_count": 87,
   "id": "3710b81d",
   "metadata": {},
   "outputs": [
    {
     "name": "stderr",
     "output_type": "stream",
     "text": [
      "<ipython-input-87-0ebf7994e6cb>:1: DeprecationWarning: find_element_by_* commands are deprecated. Please use find_element() instead\n",
      "  allrev=driver.find_element_by_xpath('//div[@class=\"_3UAT2v _16PBlm\"]')\n"
     ]
    }
   ],
   "source": [
    "allrev=driver.find_element_by_xpath('//div[@class=\"_3UAT2v _16PBlm\"]')\n",
    "allrev.click()#clicking on the all customer review button"
   ]
  },
  {
   "cell_type": "code",
   "execution_count": 88,
   "id": "d1b5c494",
   "metadata": {},
   "outputs": [
    {
     "name": "stderr",
     "output_type": "stream",
     "text": [
      "<ipython-input-88-da644e210ddc>:1: DeprecationWarning: find_elements_by_* commands are deprecated. Please use find_elements() instead\n",
      "  Firstrat=driver.find_elements_by_xpath('//div[@class=\"_3LWZlK _1BLPMq\"]')#scraping the rating\n"
     ]
    },
    {
     "data": {
      "text/plain": [
       "['5', '5', '5', '5', '5', '5', '5', '4', '5', '5']"
      ]
     },
     "execution_count": 88,
     "metadata": {},
     "output_type": "execute_result"
    }
   ],
   "source": [
    "#scraping the rating for the first page ,for the remaining pages need to extract the URL'S, have done below\n",
    "Firstrat=driver.find_elements_by_xpath('//div[@class=\"_3LWZlK _1BLPMq\"]')\n",
    "Firstrating=[]\n",
    "for i in Firstrat:\n",
    "    Firstrating.append(i.text)\n",
    "Firstrating"
   ]
  },
  {
   "cell_type": "code",
   "execution_count": 89,
   "id": "4ce0f9ac",
   "metadata": {},
   "outputs": [
    {
     "name": "stderr",
     "output_type": "stream",
     "text": [
      "<ipython-input-89-6a54707cf498>:1: DeprecationWarning: find_elements_by_* commands are deprecated. Please use find_elements() instead\n",
      "  firstrevsum=driver.find_elements_by_xpath('//p[@class=\"_2-N8zT\"]')#scraping the review summary\n"
     ]
    },
    {
     "data": {
      "text/plain": [
       "['Brilliant',\n",
       " 'Simply awesome',\n",
       " 'Perfect product!',\n",
       " 'Worth every penny',\n",
       " 'Fabulous!',\n",
       " 'Best in the market!',\n",
       " 'Great product',\n",
       " 'Good choice',\n",
       " 'Worth every penny',\n",
       " 'Highly recommended']"
      ]
     },
     "execution_count": 89,
     "metadata": {},
     "output_type": "execute_result"
    }
   ],
   "source": [
    "firstrevsum=driver.find_elements_by_xpath('//p[@class=\"_2-N8zT\"]')#scraping the review summary\n",
    "Firstsumm=[]\n",
    "for i in firstrevsum:\n",
    "    Firstsumm.append(i.text)\n",
    "Firstsumm"
   ]
  },
  {
   "cell_type": "code",
   "execution_count": 90,
   "id": "2151bd40",
   "metadata": {},
   "outputs": [
    {
     "name": "stderr",
     "output_type": "stream",
     "text": [
      "<ipython-input-90-13c96e4526da>:1: DeprecationWarning: find_elements_by_* commands are deprecated. Please use find_elements() instead\n",
      "  fullrev=driver.find_elements_by_xpath('//div[@class=\"t-ZTKy\"]')#scraping the full review\n"
     ]
    },
    {
     "data": {
      "text/plain": [
       "['The Best Phone for the Money\\n\\nThe iPhone 11 offers superb cameras, a more durable design and excellent battery life for an affordable price.\\n\\nCompelling ultra-wide camera\\nNew Night mode is excellent\\nLong battery life',\n",
       " 'Really satisfied with the Product I received... It’s totally genuine and the packaging was also really good so if ur planning to buy just go for it.',\n",
       " 'Amazing phone with great cameras and better battery which gives you the best performance. I just love the camera .',\n",
       " 'Previously I was using one plus 3t it was a great phone\\nAnd then I decided to upgrade I am stuck between Samsung s10 plus or iPhone 11\\nI have seen the specs and everything were good except the display it’s somewhere between 720-1080 and it’s not even an amoled it’s an LCD display\\nBut I decided to go with iPhone because I have never used an IOS device I have Been an android user from the past 9 years I ordered IPhone 11 (128gb) product red\\nMy experience after using 3 weeks\\n1. The delivery ...\\nREAD MORE',\n",
       " 'This is my first iOS phone. I am very happy with this product. Very much satisfied with this. I love this phone.',\n",
       " 'Great iPhone very snappy experience as apple kind. Upgraded from iPhone 7.\\nPros\\n-Camera top class\\n- Battery top performed\\n-Chipset no need to say as apple kind\\n-Security as you expect from apple\\n- Display super bright industry leading colour\\naccuracy and super responsive\\n-Build quality as expect from apple sturdy\\npremium durable beautiful stylish.\\n-Os most stable os in smartphone industry\\n\\nCons\\n-No 5G\\n-Display is not based on OLED technology\\n-Charger headphones and 1 apple stic...\\nREAD MORE',\n",
       " 'Amazing Powerful and Durable Gadget.\\n\\nI’m am very happy with the camera picture quality, Amazing face id unlocked in dark room, Strong battery with perfect screen size as you can carry easily in pocket. This is my third iPhone.\\n\\nI shifted from android Samsung Note series to iPhone because of the strong build quality and peace of mind for next 3-4 years.\\n\\nDon’t think to much just go for it and I suggest you to go for minimum 128gb variant or more 256gb.\\n\\nI’ve attached my puppy pics and no fi...\\nREAD MORE',\n",
       " 'So far it’s been an AMAZING experience coming back to iOS after nearly a decade but it’s not as versatile as android though phone is sturdy dropped it accidentally a couple of times and nothing happened fortunately camera is awesome',\n",
       " 'i11 is worthy to buy, too much happy with the product. Thank u flipkart I received the item on time..loved it..',\n",
       " 'iphone 11 is a very good phone to buy only if you can compromise for the display. The display on this is device is pretty good but you can get other options with better displays in this price segment.\\nIf you can survive with an HD+ LCD panel with thicker bezels and a notch up top then this is a very good phone for you.\\nCameras are awesome, battery backup excellent, great performance and a decent premium look. Good job Apple !']"
      ]
     },
     "execution_count": 90,
     "metadata": {},
     "output_type": "execute_result"
    }
   ],
   "source": [
    "fullrev=driver.find_elements_by_xpath('//div[@class=\"t-ZTKy\"]')#scraping the full review\n",
    "fullreview=[]\n",
    "for i in fullrev:\n",
    "    fullreview.append(i.text)\n",
    "fullreview "
   ]
  },
  {
   "cell_type": "code",
   "execution_count": 91,
   "id": "bbf5593d",
   "metadata": {},
   "outputs": [
    {
     "name": "stderr",
     "output_type": "stream",
     "text": [
      "<ipython-input-91-3616f7fd49c2>:2: DeprecationWarning: find_elements_by_* commands are deprecated. Please use find_elements() instead\n",
      "  url = driver.find_elements_by_xpath(\"//a[@class='ge-49M']\")\n"
     ]
    },
    {
     "data": {
      "text/plain": [
       "['https://www.flipkart.com/apple-iphone-11-black-64-gb-includes-earpods-power-adapter/product-reviews/itm0f37c2240b217?pid=MOBFKCTSVZAXUHGR&lid=LSTMOBFKCTSVZAXUHGREPBFGI&marketplace=FLIPKART&page=2',\n",
       " 'https://www.flipkart.com/apple-iphone-11-black-64-gb-includes-earpods-power-adapter/product-reviews/itm0f37c2240b217?pid=MOBFKCTSVZAXUHGR&lid=LSTMOBFKCTSVZAXUHGREPBFGI&marketplace=FLIPKART&page=3',\n",
       " 'https://www.flipkart.com/apple-iphone-11-black-64-gb-includes-earpods-power-adapter/product-reviews/itm0f37c2240b217?pid=MOBFKCTSVZAXUHGR&lid=LSTMOBFKCTSVZAXUHGREPBFGI&marketplace=FLIPKART&page=4',\n",
       " 'https://www.flipkart.com/apple-iphone-11-black-64-gb-includes-earpods-power-adapter/product-reviews/itm0f37c2240b217?pid=MOBFKCTSVZAXUHGR&lid=LSTMOBFKCTSVZAXUHGREPBFGI&marketplace=FLIPKART&page=5',\n",
       " 'https://www.flipkart.com/apple-iphone-11-black-64-gb-includes-earpods-power-adapter/product-reviews/itm0f37c2240b217?pid=MOBFKCTSVZAXUHGR&lid=LSTMOBFKCTSVZAXUHGREPBFGI&marketplace=FLIPKART&page=6',\n",
       " 'https://www.flipkart.com/apple-iphone-11-black-64-gb-includes-earpods-power-adapter/product-reviews/itm0f37c2240b217?pid=MOBFKCTSVZAXUHGR&lid=LSTMOBFKCTSVZAXUHGREPBFGI&marketplace=FLIPKART&page=7',\n",
       " 'https://www.flipkart.com/apple-iphone-11-black-64-gb-includes-earpods-power-adapter/product-reviews/itm0f37c2240b217?pid=MOBFKCTSVZAXUHGR&lid=LSTMOBFKCTSVZAXUHGREPBFGI&marketplace=FLIPKART&page=8',\n",
       " 'https://www.flipkart.com/apple-iphone-11-black-64-gb-includes-earpods-power-adapter/product-reviews/itm0f37c2240b217?pid=MOBFKCTSVZAXUHGR&lid=LSTMOBFKCTSVZAXUHGREPBFGI&marketplace=FLIPKART&page=9',\n",
       " 'https://www.flipkart.com/apple-iphone-11-black-64-gb-includes-earpods-power-adapter/product-reviews/itm0f37c2240b217?pid=MOBFKCTSVZAXUHGR&lid=LSTMOBFKCTSVZAXUHGREPBFGI&marketplace=FLIPKART&page=10']"
      ]
     },
     "execution_count": 91,
     "metadata": {},
     "output_type": "execute_result"
    }
   ],
   "source": [
    "iphone_review = []#obtaining the URL of the other pages\n",
    "url = driver.find_elements_by_xpath(\"//a[@class='ge-49M']\")\n",
    "for i in url:\n",
    "    iphone_review.append(i.get_attribute('href'))\n",
    "iphone_review"
   ]
  },
  {
   "cell_type": "code",
   "execution_count": 92,
   "id": "0d2260df",
   "metadata": {},
   "outputs": [
    {
     "name": "stderr",
     "output_type": "stream",
     "text": [
      "<ipython-input-92-a7d334b590db>:4: DeprecationWarning: find_elements_by_* commands are deprecated. Please use find_elements() instead\n",
      "  iphone_rating1 = driver.find_elements_by_xpath(\"//div[@class='_3LWZlK _1BLPMq']\")\n"
     ]
    }
   ],
   "source": [
    "iphone_rating = []\n",
    "for i in iphone_review:\n",
    "    driver.get(i)\n",
    "    iphone_rating1 = driver.find_elements_by_xpath(\"//div[@class='_3LWZlK _1BLPMq']\")\n",
    "    for i in iphone_rating1:\n",
    "        iphone_rating.append(i.text)"
   ]
  },
  {
   "cell_type": "code",
   "execution_count": 93,
   "id": "146d443c",
   "metadata": {},
   "outputs": [
    {
     "data": {
      "text/plain": [
       "87"
      ]
     },
     "execution_count": 93,
     "metadata": {},
     "output_type": "execute_result"
    }
   ],
   "source": [
    "len(iphone_rating)#we received raing with felling short with 3 results which are under differnt class"
   ]
  },
  {
   "cell_type": "code",
   "execution_count": 95,
   "id": "674f2dc3",
   "metadata": {},
   "outputs": [
    {
     "name": "stderr",
     "output_type": "stream",
     "text": [
      "<ipython-input-95-8d25c091b005>:4: DeprecationWarning: find_elements_by_* commands are deprecated. Please use find_elements() instead\n",
      "  iphonerating1=driver.find_elements_by_xpath(\"//div[@class='_3LWZlK _1rdVr6 _1BLPMq']\")\n"
     ]
    },
    {
     "data": {
      "text/plain": [
       "['1', '1', '1']"
      ]
     },
     "execution_count": 95,
     "metadata": {},
     "output_type": "execute_result"
    }
   ],
   "source": [
    "rerating= []#scraping the data for the different class\n",
    "for i in iphone_review:\n",
    "    driver.get(i)\n",
    "    iphonerating1=driver.find_elements_by_xpath(\"//div[@class='_3LWZlK _1rdVr6 _1BLPMq']\")\n",
    "    for i in iphonerating1:\n",
    "        rerating.append(i.text)\n",
    "rerating[:100]"
   ]
  },
  {
   "cell_type": "code",
   "execution_count": 96,
   "id": "f199ad13",
   "metadata": {},
   "outputs": [
    {
     "name": "stderr",
     "output_type": "stream",
     "text": [
      "<ipython-input-96-35ffdd47fc68>:4: DeprecationWarning: find_elements_by_* commands are deprecated. Please use find_elements() instead\n",
      "  iphone_sum = driver.find_elements_by_xpath(\"//p[@class='_2-N8zT']\")\n"
     ]
    },
    {
     "data": {
      "text/plain": [
       "['Highly recommended',\n",
       " 'Perfect product!',\n",
       " 'Perfect product!',\n",
       " 'Classy product',\n",
       " 'Worth every penny',\n",
       " 'Simply awesome',\n",
       " 'Perfect product!',\n",
       " 'Highly recommended',\n",
       " 'Worth every penny',\n",
       " 'Worth every penny',\n",
       " 'Terrific',\n",
       " 'Wonderful',\n",
       " 'Nice product',\n",
       " 'Perfect product!',\n",
       " 'Brilliant',\n",
       " 'Classy product',\n",
       " 'Must buy!',\n",
       " 'Wonderful',\n",
       " 'Good choice',\n",
       " 'Perfect product!',\n",
       " 'Terrific purchase',\n",
       " 'Simply awesome',\n",
       " 'Great product',\n",
       " 'Terrific purchase',\n",
       " 'Mind-blowing purchase',\n",
       " 'Excellent',\n",
       " 'Simply awesome',\n",
       " 'Good quality product',\n",
       " 'Very poor',\n",
       " 'Classy product',\n",
       " 'Perfect product!',\n",
       " 'Must buy!',\n",
       " 'Fabulous!',\n",
       " 'Mind-blowing purchase',\n",
       " 'Mind-blowing purchase',\n",
       " 'Wonderful',\n",
       " 'Great product',\n",
       " 'Very Good',\n",
       " 'Classy product',\n",
       " 'Perfect product!',\n",
       " 'Just wow!',\n",
       " 'Awesome',\n",
       " 'Pretty good',\n",
       " 'Terrific purchase',\n",
       " 'Awesome',\n",
       " 'Classy product',\n",
       " 'Brilliant',\n",
       " 'Terrific',\n",
       " 'Perfect product!',\n",
       " 'Awesome',\n",
       " 'Perfect product!',\n",
       " 'Very poor',\n",
       " 'Fabulous!',\n",
       " 'Excellent',\n",
       " 'Must buy!',\n",
       " 'Value-for-money',\n",
       " 'Best in the market!',\n",
       " 'Brilliant',\n",
       " 'Terrific purchase',\n",
       " 'Good quality product',\n",
       " 'Best in the market!',\n",
       " 'Perfect product!',\n",
       " 'Awesome',\n",
       " 'Value-for-money',\n",
       " 'Just wow!',\n",
       " 'Worthless',\n",
       " 'Super!',\n",
       " 'Classy product',\n",
       " 'Must buy!',\n",
       " 'Excellent',\n",
       " 'Nice product',\n",
       " 'Mind-blowing purchase',\n",
       " 'Terrific',\n",
       " 'Excellent',\n",
       " 'Mind-blowing purchase',\n",
       " 'Highly recommended',\n",
       " 'Wonderful',\n",
       " 'Fabulous!',\n",
       " 'Brilliant',\n",
       " 'Worth every penny',\n",
       " 'Worth every penny',\n",
       " 'Pretty good',\n",
       " 'Fabulous!',\n",
       " 'Mind-blowing purchase',\n",
       " 'Excellent',\n",
       " 'Super!',\n",
       " 'Just wow!',\n",
       " 'Terrific purchase',\n",
       " 'Awesome',\n",
       " 'Decent product']"
      ]
     },
     "execution_count": 96,
     "metadata": {},
     "output_type": "execute_result"
    }
   ],
   "source": [
    "Reviewsum= []#scarping Review summary from other page url's.\n",
    "for i in iphone_review:\n",
    "    driver.get(i)\n",
    "    iphone_sum = driver.find_elements_by_xpath(\"//p[@class='_2-N8zT']\")\n",
    "    for i in iphone_sum:\n",
    "        Reviewsum.append(i.text)\n",
    "Reviewsum[:100]"
   ]
  },
  {
   "cell_type": "code",
   "execution_count": 97,
   "id": "88b60785",
   "metadata": {},
   "outputs": [
    {
     "name": "stderr",
     "output_type": "stream",
     "text": [
      "<ipython-input-97-a072ba3a9efe>:4: DeprecationWarning: find_elements_by_* commands are deprecated. Please use find_elements() instead\n",
      "  fullrev=driver.find_elements_by_xpath('//div[@class=\"t-ZTKy\"]')\n"
     ]
    },
    {
     "data": {
      "text/plain": [
       "90"
      ]
     },
     "execution_count": 97,
     "metadata": {},
     "output_type": "execute_result"
    }
   ],
   "source": [
    "Review=[]#scraping the full review from other pages\n",
    "for i in iphone_review:\n",
    "    driver.get(i)\n",
    "    fullrev=driver.find_elements_by_xpath('//div[@class=\"t-ZTKy\"]')\n",
    "    for i in fullrev:\n",
    "        Review.append(i.text)\n",
    "len(Review[0:100])"
   ]
  },
  {
   "cell_type": "code",
   "execution_count": 98,
   "id": "3547158a",
   "metadata": {},
   "outputs": [],
   "source": [
    "Ratings=Firstrating+rerating[:100]+iphone_rating[:100]#incorporating all the scraped data to obtain a dataframe\n",
    "Review_Summary=Firstsumm+Reviewsum[:100]\n",
    "Full_Review=fullreview+Review[0:100]"
   ]
  },
  {
   "cell_type": "code",
   "execution_count": 99,
   "id": "ed5a1823",
   "metadata": {},
   "outputs": [
    {
     "data": {
      "text/html": [
       "<div>\n",
       "<style scoped>\n",
       "    .dataframe tbody tr th:only-of-type {\n",
       "        vertical-align: middle;\n",
       "    }\n",
       "\n",
       "    .dataframe tbody tr th {\n",
       "        vertical-align: top;\n",
       "    }\n",
       "\n",
       "    .dataframe thead th {\n",
       "        text-align: right;\n",
       "    }\n",
       "</style>\n",
       "<table border=\"1\" class=\"dataframe\">\n",
       "  <thead>\n",
       "    <tr style=\"text-align: right;\">\n",
       "      <th></th>\n",
       "      <th>Ratings</th>\n",
       "      <th>Review_Summary</th>\n",
       "      <th>Full_Review</th>\n",
       "    </tr>\n",
       "  </thead>\n",
       "  <tbody>\n",
       "    <tr>\n",
       "      <th>0</th>\n",
       "      <td>5</td>\n",
       "      <td>Brilliant</td>\n",
       "      <td>The Best Phone for the Money\\n\\nThe iPhone 11 ...</td>\n",
       "    </tr>\n",
       "    <tr>\n",
       "      <th>1</th>\n",
       "      <td>5</td>\n",
       "      <td>Simply awesome</td>\n",
       "      <td>Really satisfied with the Product I received.....</td>\n",
       "    </tr>\n",
       "    <tr>\n",
       "      <th>2</th>\n",
       "      <td>5</td>\n",
       "      <td>Perfect product!</td>\n",
       "      <td>Amazing phone with great cameras and better ba...</td>\n",
       "    </tr>\n",
       "    <tr>\n",
       "      <th>3</th>\n",
       "      <td>5</td>\n",
       "      <td>Worth every penny</td>\n",
       "      <td>Previously I was using one plus 3t it was a gr...</td>\n",
       "    </tr>\n",
       "    <tr>\n",
       "      <th>4</th>\n",
       "      <td>5</td>\n",
       "      <td>Fabulous!</td>\n",
       "      <td>This is my first iOS phone. I am very happy wi...</td>\n",
       "    </tr>\n",
       "    <tr>\n",
       "      <th>...</th>\n",
       "      <td>...</td>\n",
       "      <td>...</td>\n",
       "      <td>...</td>\n",
       "    </tr>\n",
       "    <tr>\n",
       "      <th>95</th>\n",
       "      <td>5</td>\n",
       "      <td>Super!</td>\n",
       "      <td>This is my first ever iPhone.\\nAnd I truly don...</td>\n",
       "    </tr>\n",
       "    <tr>\n",
       "      <th>96</th>\n",
       "      <td>5</td>\n",
       "      <td>Just wow!</td>\n",
       "      <td>The ultimate performance\\nCamera is superb\\nTh...</td>\n",
       "    </tr>\n",
       "    <tr>\n",
       "      <th>97</th>\n",
       "      <td>5</td>\n",
       "      <td>Terrific purchase</td>\n",
       "      <td>I use a Note10+ and have been using both iOS a...</td>\n",
       "    </tr>\n",
       "    <tr>\n",
       "      <th>98</th>\n",
       "      <td>5</td>\n",
       "      <td>Awesome</td>\n",
       "      <td>The phone is completely good\\nAs far as camera...</td>\n",
       "    </tr>\n",
       "    <tr>\n",
       "      <th>99</th>\n",
       "      <td>3</td>\n",
       "      <td>Decent product</td>\n",
       "      <td>Everything u ll like it when u use this iPhone...</td>\n",
       "    </tr>\n",
       "  </tbody>\n",
       "</table>\n",
       "<p>100 rows × 3 columns</p>\n",
       "</div>"
      ],
      "text/plain": [
       "   Ratings     Review_Summary  \\\n",
       "0        5          Brilliant   \n",
       "1        5     Simply awesome   \n",
       "2        5   Perfect product!   \n",
       "3        5  Worth every penny   \n",
       "4        5          Fabulous!   \n",
       "..     ...                ...   \n",
       "95       5             Super!   \n",
       "96       5          Just wow!   \n",
       "97       5  Terrific purchase   \n",
       "98       5            Awesome   \n",
       "99       3     Decent product   \n",
       "\n",
       "                                          Full_Review  \n",
       "0   The Best Phone for the Money\\n\\nThe iPhone 11 ...  \n",
       "1   Really satisfied with the Product I received.....  \n",
       "2   Amazing phone with great cameras and better ba...  \n",
       "3   Previously I was using one plus 3t it was a gr...  \n",
       "4   This is my first iOS phone. I am very happy wi...  \n",
       "..                                                ...  \n",
       "95  This is my first ever iPhone.\\nAnd I truly don...  \n",
       "96  The ultimate performance\\nCamera is superb\\nTh...  \n",
       "97  I use a Note10+ and have been using both iOS a...  \n",
       "98  The phone is completely good\\nAs far as camera...  \n",
       "99  Everything u ll like it when u use this iPhone...  \n",
       "\n",
       "[100 rows x 3 columns]"
      ]
     },
     "execution_count": 99,
     "metadata": {},
     "output_type": "execute_result"
    }
   ],
   "source": [
    "Final=pd.DataFrame()\n",
    "Final['Ratings']=Ratings\n",
    "Final['Review_Summary']=Review_Summary\n",
    "Final['Full_Review']=Full_Review\n",
    "Final"
   ]
  },
  {
   "cell_type": "markdown",
   "id": "de95c6ce",
   "metadata": {},
   "source": [
    "# Q6: Scrape data for first 100 sneakers you find when you visit flipkart.com and search for “sneakers” in the search field."
   ]
  },
  {
   "cell_type": "code",
   "execution_count": 100,
   "id": "eaefbe54",
   "metadata": {},
   "outputs": [],
   "source": [
    "import selenium\n",
    "import pandas as pd\n",
    "from selenium import webdriver"
   ]
  },
  {
   "cell_type": "code",
   "execution_count": 101,
   "id": "81a323ac",
   "metadata": {},
   "outputs": [
    {
     "name": "stderr",
     "output_type": "stream",
     "text": [
      "<ipython-input-101-a45c1c768693>:1: DeprecationWarning: executable_path has been deprecated, please pass in a Service object\n",
      "  driver=webdriver.Chrome(r'C:\\Users\\Neeraj Kumar\\Downloads\\chromedriver_win32\\chromedriver')\n"
     ]
    }
   ],
   "source": [
    "driver=webdriver.Chrome(r'C:\\Users\\Neeraj Kumar\\Downloads\\chromedriver_win32\\chromedriver')"
   ]
  },
  {
   "cell_type": "code",
   "execution_count": 102,
   "id": "5edbc445",
   "metadata": {},
   "outputs": [],
   "source": [
    "url='https://www.flipkart.com/'\n",
    "driver.get(url)#obtaing the url"
   ]
  },
  {
   "cell_type": "code",
   "execution_count": 103,
   "id": "3f919814",
   "metadata": {},
   "outputs": [
    {
     "name": "stderr",
     "output_type": "stream",
     "text": [
      "<ipython-input-103-2f2b42d50f0a>:1: DeprecationWarning: find_element_by_* commands are deprecated. Please use find_element() instead\n",
      "  popup=driver.find_element_by_xpath('//div[@class=\"_2QfC02\"]/button')\n"
     ]
    }
   ],
   "source": [
    "popup=driver.find_element_by_xpath('//div[@class=\"_2QfC02\"]/button')\n",
    "popup.click()#closing the popup"
   ]
  },
  {
   "cell_type": "code",
   "execution_count": 104,
   "id": "20cdef86",
   "metadata": {},
   "outputs": [
    {
     "name": "stderr",
     "output_type": "stream",
     "text": [
      "<ipython-input-104-765345493e66>:1: DeprecationWarning: find_element_by_* commands are deprecated. Please use find_element() instead\n",
      "  title=driver.find_element_by_xpath('//input[@title=\"Search for products, brands and more\"]')\n"
     ]
    }
   ],
   "source": [
    "title=driver.find_element_by_xpath('//input[@title=\"Search for products, brands and more\"]')\n",
    "title.send_keys('Sneakers')#seRCHING for sneakers"
   ]
  },
  {
   "cell_type": "code",
   "execution_count": 105,
   "id": "95403981",
   "metadata": {},
   "outputs": [
    {
     "name": "stderr",
     "output_type": "stream",
     "text": [
      "<ipython-input-105-5242c93f0358>:1: DeprecationWarning: find_element_by_* commands are deprecated. Please use find_element() instead\n",
      "  search=driver.find_element_by_xpath('//button[@class=\"L0Z3Pu\"]')\n"
     ]
    }
   ],
   "source": [
    "search=driver.find_element_by_xpath('//button[@class=\"L0Z3Pu\"]')\n",
    "search.click()#clicking on the searchbar"
   ]
  },
  {
   "cell_type": "code",
   "execution_count": 106,
   "id": "a6c8314a",
   "metadata": {},
   "outputs": [
    {
     "name": "stderr",
     "output_type": "stream",
     "text": [
      "<ipython-input-106-7e8e676f4eb8>:2: DeprecationWarning: find_elements_by_* commands are deprecated. Please use find_elements() instead\n",
      "  Brand=driver.find_elements_by_xpath('//div[@class=\"_2WkVRV\"]')\n"
     ]
    },
    {
     "data": {
      "text/plain": [
       "['Magnolia',\n",
       " 'Numenzo',\n",
       " 'Numenzo',\n",
       " 'URBANBOX',\n",
       " 'D-SNEAKERZ',\n",
       " 'Chevit',\n",
       " 'SCATCHITE',\n",
       " 'Kraasa',\n",
       " 'Robbie jones',\n",
       " 'FOOTGRAB',\n",
       " 'Arohi',\n",
       " 'SPARX',\n",
       " 'ASTEROID',\n",
       " 'Robbie jones',\n",
       " 'Chevit',\n",
       " 'T-ROCK',\n",
       " 'Wlinzak',\n",
       " 'India hub',\n",
       " 'Shoes Bank',\n",
       " 'Kraasa',\n",
       " 'Numenzo',\n",
       " 'Kreverse',\n",
       " 'India hub',\n",
       " 'Robbie jones',\n",
       " 'BRUTON',\n",
       " 'hzisbo',\n",
       " 'BIRDE',\n",
       " 'Clymb',\n",
       " 'VORII',\n",
       " 'BRUTON',\n",
       " 'luxury fashion',\n",
       " 'ASIAN',\n",
       " 'believe',\n",
       " 'Robbie jones',\n",
       " 'Robbie jones',\n",
       " 'Chevit',\n",
       " 'RODDICK SHOES',\n",
       " 'SPARX',\n",
       " 'BRUTON',\n",
       " 'D-SNEAKERZ']"
      ]
     },
     "execution_count": 106,
     "metadata": {},
     "output_type": "execute_result"
    }
   ],
   "source": [
    "#scraping the data\n",
    "Brand=driver.find_elements_by_xpath('//div[@class=\"_2WkVRV\"]')\n",
    "Brands=[]\n",
    "for i in Brand:\n",
    "    Brands.append(i.text)\n",
    "Brands"
   ]
  },
  {
   "cell_type": "code",
   "execution_count": 107,
   "id": "bbc679ee",
   "metadata": {},
   "outputs": [
    {
     "name": "stderr",
     "output_type": "stream",
     "text": [
      "<ipython-input-107-8ec3530f30f9>:1: DeprecationWarning: find_elements_by_* commands are deprecated. Please use find_elements() instead\n",
      "  Des=driver.find_elements_by_xpath('//div[@class=\"_2B099V\"]/a')\n"
     ]
    },
    {
     "data": {
      "text/plain": [
       "['Sneakers For Men',\n",
       " '411 Casual Sneakers For Men',\n",
       " 'Sneakers For Men',\n",
       " 'Sneakers Sneakers For Men',\n",
       " \"Casual , Partywear Sneakers Shoes For Men's And Boys Wh...\",\n",
       " 'Super Stylish & Trendy Combo Pack of 02 Pairs Sneakers ...',\n",
       " 'Sneakers Sneakers For Men',\n",
       " 'Shark-41 Sneakers For Men',\n",
       " 'Casual Sneakers Shoes For Men Sneakers For Men',\n",
       " 'White Boots || High Tops || Sneakers For Men',\n",
       " 'Sneakers For Men',\n",
       " 'Men White Sneakers Sneakers For Men',\n",
       " \"Original Luxury Branded Fashionable Men's Casual Walkin...\",\n",
       " 'Sneakers For Men',\n",
       " 'Perfect & Affordable Combo Pack of 02 Pairs Sneakers Ou...',\n",
       " 'Synthetic Leather Casual Partywear Wedding Sneakers Sho...',\n",
       " 'Sneakers For Men',\n",
       " 'Fashionable casual sneakers shoes Sneakers For Men',\n",
       " \"White Sneaker For Men's/Boy's Sneakers For Men\",\n",
       " 'Series 7 Sneakers For Men',\n",
       " 'Numenzo Black Sneaker For Men Sneakers For Men',\n",
       " 'Sneakers For Men',\n",
       " 'Fashionable sneaker casual shoes Sneakers For Men',\n",
       " 'Sneakers For Men',\n",
       " 'Combo Pack Of 2 Latest Stylish Casual Shoes for Men Lac...',\n",
       " 'Sneakers For Men',\n",
       " 'Sports Running Shoes Sneakers For Men',\n",
       " 'Mesh Sports/Walking Shoes/Outdoor Ultra Lightweight Run...',\n",
       " \"Men's Lace up Walking Shoes Running Shoes Lightweight B...\",\n",
       " 'Modern Trendy Shoes Sneakers For Men',\n",
       " 'Luxury Fashionable casual shoes Sneakers For Men',\n",
       " 'Skypy-31 Walking Shoes,Training Shoes,Sneakers,Loafers,...',\n",
       " 'Sneakers for men(black_6) Sneakers For Men',\n",
       " 'Sneakers For Men',\n",
       " 'Sneakers For Men',\n",
       " 'Unique & Perfect Collection Combo Pack of 02 Shoes for ...',\n",
       " 'Fashion Outdoor Canvas Casual Light Weight Lace-up Even...',\n",
       " 'Canvas Casual Partywear Outdoor Sneakers Shoes For Mens...',\n",
       " 'Combo Pack Of 4 Casual Shoes Loafer Shoes Sneakers For ...',\n",
       " \"Casual , Partywear Sneakers Shoes For Men's And Boys Wh...\"]"
      ]
     },
     "execution_count": 107,
     "metadata": {},
     "output_type": "execute_result"
    }
   ],
   "source": [
    "Des=driver.find_elements_by_xpath('//div[@class=\"_2B099V\"]/a')\n",
    "Description=[]\n",
    "for i in Des:\n",
    "    Description.append(i.text)\n",
    "Description[:80:2] "
   ]
  },
  {
   "cell_type": "code",
   "execution_count": 136,
   "id": "7e1205f1",
   "metadata": {},
   "outputs": [
    {
     "name": "stderr",
     "output_type": "stream",
     "text": [
      "<ipython-input-136-148f80e70b30>:1: DeprecationWarning: find_elements_by_* commands are deprecated. Please use find_elements() instead\n",
      "  pri=driver.find_elements_by_xpath('//div[@class=\"_30jeq3\"]')\n"
     ]
    },
    {
     "data": {
      "text/plain": [
       "40"
      ]
     },
     "execution_count": 136,
     "metadata": {},
     "output_type": "execute_result"
    }
   ],
   "source": [
    "pri=driver.find_elements_by_xpath('//div[@class=\"_30jeq3\"]')\n",
    "Price=[]\n",
    "for i in pri:\n",
    "    Price.append(i.text)\n",
    "len(Price)"
   ]
  },
  {
   "cell_type": "code",
   "execution_count": 140,
   "id": "cb267d52",
   "metadata": {},
   "outputs": [
    {
     "name": "stderr",
     "output_type": "stream",
     "text": [
      "<ipython-input-140-eb3654b88ce7>:1: DeprecationWarning: find_elements_by_* commands are deprecated. Please use find_elements() instead\n",
      "  off=driver.find_elements_by_xpath('//div[@class=\"_3Ay6Sb\"]')\n"
     ]
    },
    {
     "data": {
      "text/plain": [
       "40"
      ]
     },
     "execution_count": 140,
     "metadata": {},
     "output_type": "execute_result"
    }
   ],
   "source": [
    "off=driver.find_elements_by_xpath('//div[@class=\"_3Ay6Sb\"]')\n",
    "offer=[]\n",
    "for i in off:\n",
    "    offer.append(i.text)\n",
    "len(offer)"
   ]
  },
  {
   "cell_type": "code",
   "execution_count": 110,
   "id": "feb1413b",
   "metadata": {},
   "outputs": [
    {
     "name": "stderr",
     "output_type": "stream",
     "text": [
      "<ipython-input-110-7a31cc60e773>:1: DeprecationWarning: find_elements_by_* commands are deprecated. Please use find_elements() instead\n",
      "  allpage=driver.find_elements_by_xpath('//a[@class=\"ge-49M\"]')\n"
     ]
    },
    {
     "data": {
      "text/plain": [
       "['https://www.flipkart.com/search?q=Sneakers&otracker=search&otracker1=search&marketplace=FLIPKART&as-show=on&as=off&page=2',\n",
       " 'https://www.flipkart.com/search?q=Sneakers&otracker=search&otracker1=search&marketplace=FLIPKART&as-show=on&as=off&page=3']"
      ]
     },
     "execution_count": 110,
     "metadata": {},
     "output_type": "execute_result"
    }
   ],
   "source": [
    "allpage=driver.find_elements_by_xpath('//a[@class=\"ge-49M\"]')#scraping the data from other two pages\n",
    "result=[]\n",
    "for i in allpage:\n",
    "    result.append(i.get_attribute('href'))\n",
    "result[:2]"
   ]
  },
  {
   "cell_type": "code",
   "execution_count": 111,
   "id": "cd6357ec",
   "metadata": {},
   "outputs": [
    {
     "name": "stderr",
     "output_type": "stream",
     "text": [
      "<ipython-input-111-b19c756457ec>:4: DeprecationWarning: find_elements_by_* commands are deprecated. Please use find_elements() instead\n",
      "  Brand1=driver.find_elements_by_xpath('//div[@class=\"_2WkVRV\"]')\n"
     ]
    },
    {
     "data": {
      "text/plain": [
       "['SPARX',\n",
       " 'Edoeviv',\n",
       " 'BRUTON',\n",
       " 'Rzisbo',\n",
       " 'SPARX',\n",
       " 'Kreverse',\n",
       " 'Labbin',\n",
       " 'Clymb',\n",
       " 'bluemaker',\n",
       " 'Robbie jones',\n",
       " 'BIRDE',\n",
       " 'SPARX',\n",
       " 'PUMA',\n",
       " 'CALCADOS',\n",
       " 'Robbie jones',\n",
       " 'PACIFIER',\n",
       " 'Airland',\n",
       " 'Absolute comfort',\n",
       " 'FEWROK',\n",
       " 'Vedboy',\n",
       " 'RapidBox',\n",
       " 'RODDICK SHOES',\n",
       " 'Robbie jones',\n",
       " 'FOOTGRAB',\n",
       " 'SneakerVilla',\n",
       " 'India hub',\n",
       " 'bluemaker',\n",
       " 'Numenzo',\n",
       " 'Rzisbo',\n",
       " 'ESSENCE',\n",
       " 'EZBRA',\n",
       " 'Chevit',\n",
       " 'LuvShus',\n",
       " 'RODDICK SHOES',\n",
       " 'HOC',\n",
       " 'Jack Diamond',\n",
       " 'SPARX',\n",
       " 'SPADE CLUB',\n",
       " 'BRUTON',\n",
       " 'mannu',\n",
       " 'ASIAN',\n",
       " 'NBL Sports',\n",
       " 'ESSENCE',\n",
       " 'India hub',\n",
       " 'PUMA',\n",
       " 'Bavis',\n",
       " 'STRANGER BROTHERS',\n",
       " 'ESSENCE',\n",
       " 'URBANBOX',\n",
       " 'Stefano Rads',\n",
       " 'OUTALYFE',\n",
       " 'Jack Diamond',\n",
       " 'PEHANOSA',\n",
       " 'ganpati traders',\n",
       " 'Robbie jones',\n",
       " 'Jabra',\n",
       " 'SHOELAMB',\n",
       " 'PUMA',\n",
       " 'BIRDE',\n",
       " 'Chevit',\n",
       " 'Robbie jones',\n",
       " 'mannu',\n",
       " 'Lee Won',\n",
       " 'PEXLO',\n",
       " 'Echor',\n",
       " 'BIRDE',\n",
       " 'Vans on',\n",
       " 'SPARX',\n",
       " 'HOCKWOOD',\n",
       " 'bluemaker',\n",
       " 'HOC',\n",
       " 'PUMA',\n",
       " 'Echor',\n",
       " 'ASIAN',\n",
       " 'BRUTON',\n",
       " 'HOTSTYLE',\n",
       " 'OUTALYFE',\n",
       " 'Elixir Man',\n",
       " 'HOTSTYLE',\n",
       " 'SCATCHITE']"
      ]
     },
     "execution_count": 111,
     "metadata": {},
     "output_type": "execute_result"
    }
   ],
   "source": [
    "Brands1=[]\n",
    "for i in result[:2]:\n",
    "    driver.get(i)\n",
    "    Brand1=driver.find_elements_by_xpath('//div[@class=\"_2WkVRV\"]')\n",
    "    for i in Brand1:\n",
    "        Brands1.append(i.text)\n",
    "Brands1"
   ]
  },
  {
   "cell_type": "code",
   "execution_count": 112,
   "id": "2ee3069e",
   "metadata": {},
   "outputs": [
    {
     "name": "stderr",
     "output_type": "stream",
     "text": [
      "<ipython-input-112-1eb44dd8c479>:4: DeprecationWarning: find_elements_by_* commands are deprecated. Please use find_elements() instead\n",
      "  des1=driver.find_elements_by_xpath('//div[@class=\"_2B099V\"]/a')\n"
     ]
    },
    {
     "data": {
      "text/plain": [
       "['SM-675 Sneakers For Men',\n",
       " \"Luxury Branded Fashionable Men's Casual Walking Partywe...\",\n",
       " 'Modern & Trendy Collection Combo Pack of 02 Shoes for M...',\n",
       " 'Sneakers For Men',\n",
       " 'SD-323 Sneakers For Men',\n",
       " 'Sneakers For Men',\n",
       " 'Casual Sneakers White Shoes For Men And Boys Sneakers F...',\n",
       " 'Mesh Casual/Walking Shoes/Outdoor Ultra Lightweight Sne...',\n",
       " 'casual for men (beige 06) Sneakers For Men',\n",
       " 'Casual Sneakers Green Shoes For Men And Boys Sneakers F...',\n",
       " 'Birde Trendy Casual Shoes Sneakers For Men',\n",
       " 'SM-322 Sneakers For Men',\n",
       " 'Puma Wired Cage Sneakers For Men',\n",
       " 'Modern Trendy Shoes Combo pack of 4 Sneakers For Men',\n",
       " 'Casual Sneakers Green Shoes For Men And Boys Sneakers F...',\n",
       " 'Sneakers For Men',\n",
       " 'sneaker men red 1258 - 6 Sneakers For Men',\n",
       " 'SOFT Sneakers For Men',\n",
       " 'Premium quality Sneakers For Men',\n",
       " 'Sneakers For Men (White) Sneakers For Men',\n",
       " 'Sneakers For Men',\n",
       " 'Fashion Outdoor Canvas Casual Light Weight Lace-up Even...',\n",
       " 'Casual Sneakers Shoes For Men And Boys Sneakers For Men',\n",
       " 'Walking || Dancing || Outdoors || Boots || Sneakers For...',\n",
       " 'Present White Men Casual Sneakers Shoes for Men and Boy...',\n",
       " 'Luxury Fashionable casual sneaker shoes Sneakers For Me...',\n",
       " 'casual for men (blue 06) Sneakers For Men',\n",
       " 'Sneakers For Men',\n",
       " 'Sneakers For Men',\n",
       " 'Sneakers For Men',\n",
       " 'Sneakers For Men',\n",
       " 'Smart Casuals Canvas Shoes Combo pack of 2 Sneakers For...',\n",
       " 'Men Casual Shoe New Trend With Fashion Panda Desgined L...',\n",
       " 'Fashion Outdoor Canvas Casual Light Weight Lace-up Even...',\n",
       " 'Luxury Fashionable Breathable Casual Sneakers Shoes For...',\n",
       " 'Sneakers For Men',\n",
       " 'SM-162 Sneakers For Men',\n",
       " 'Sneakers For Men',\n",
       " 'Combo Pack of 2 Sports Running LightWeight Shoes Sneake...',\n",
       " 'High-end PU Sneakers Fashion CasualSports comfortable B...',\n",
       " 'Skypy-31 Walking Shoes,Training Shoes,Sneakers,Loafers,...',\n",
       " 'Sneakers For Men',\n",
       " 'Trendy Sneakers For Men',\n",
       " 'Sneakers For Men',\n",
       " 'Perforated Low IDP Sneakers For Men',\n",
       " 'Combo Pack of 2 Casual Shoes For Men Sneakers For Men',\n",
       " 'Sneakers For Men',\n",
       " 'New Trendy Sneakers For Men',\n",
       " 'STYLISH-WHITE-9 Sneakers For Men',\n",
       " 'Classy Sneakers For Men',\n",
       " 'Sneakers For Men',\n",
       " 'Sneakers For Men',\n",
       " 'Casuals Walking Shoes Boxing & Wrestling Shoes Basketba...',\n",
       " 'Sneakers For Men',\n",
       " 'Casual Sneakers White Shoes For Men Sneakers For Men',\n",
       " 'Perfect Sports Shoes for Running Training Hiking Footba...',\n",
       " \"Men's White Casual Walking Running Sneaker Shoe Sneaker...\",\n",
       " 'Plank Eng Knit Slipon IDP Sneakers For Men',\n",
       " 'Birde Trendy Casual Shoes Sneakers For Men',\n",
       " '516 Trendy Star Perfect Sneakers For Men',\n",
       " 'Sneakers For Men',\n",
       " 'Luxury Fashionable Breathable Casual Sneakers Shoes For...',\n",
       " 'FASHION Sneakers For Men',\n",
       " \"Men's Casual Shoes Combo Pack of 02 Sneakers For Men\",\n",
       " \"Men's Sneakers Walking Shoes - Lightweight Classic Whit...\",\n",
       " 'Trendy Casual Shoes Sneakers For Men',\n",
       " 'Old Skool Black Casuals Sneakers For Men',\n",
       " 'SM-482 Sneakers For Men',\n",
       " 'Street Smart Sneakers For Men',\n",
       " 'casual for men Sneakers For Men',\n",
       " 'Luxury Fashionable Breathable White shoes for men Sneak...',\n",
       " 'Smash L Sneakers For Men',\n",
       " \"Men's Sneakers Fashion Lightweight Running Shoes Tennis...\",\n",
       " 'Skypy-31 Walking Shoes,Training Shoes,Sneakers,Loafers,...',\n",
       " 'Lattest Sneakers Shoe Sneakers For Men',\n",
       " 'Sneakers For Men',\n",
       " 'Stylish Party Wear Fashionable Lightweight New arrival ...',\n",
       " 'Elixir Man Limited Edition Casual Shoes Sneakers For Me...',\n",
       " 'Sneakers For Men',\n",
       " 'Sneakers For Men']"
      ]
     },
     "execution_count": 112,
     "metadata": {},
     "output_type": "execute_result"
    }
   ],
   "source": [
    "Description1=[]\n",
    "for i in result[:2]:\n",
    "    driver.get(i)\n",
    "    des1=driver.find_elements_by_xpath('//div[@class=\"_2B099V\"]/a')\n",
    "    for i in des1:\n",
    "        Description1.append(i.text)\n",
    "Description1[0:160:2] "
   ]
  },
  {
   "cell_type": "code",
   "execution_count": 113,
   "id": "21abe17c",
   "metadata": {},
   "outputs": [
    {
     "data": {
      "text/plain": [
       "80"
      ]
     },
     "execution_count": 113,
     "metadata": {},
     "output_type": "execute_result"
    }
   ],
   "source": [
    "len(Brands1)#checking the length"
   ]
  },
  {
   "cell_type": "code",
   "execution_count": 114,
   "id": "be528e1e",
   "metadata": {},
   "outputs": [
    {
     "data": {
      "text/plain": [
       "80"
      ]
     },
     "execution_count": 114,
     "metadata": {},
     "output_type": "execute_result"
    }
   ],
   "source": [
    "len(Description1[0:160:2])"
   ]
  },
  {
   "cell_type": "code",
   "execution_count": 123,
   "id": "2211a61e",
   "metadata": {},
   "outputs": [
    {
     "name": "stderr",
     "output_type": "stream",
     "text": [
      "<ipython-input-123-ede9a54c335c>:4: DeprecationWarning: find_elements_by_* commands are deprecated. Please use find_elements() instead\n",
      "  pri1=driver.find_elements_by_xpath('//div[@class=\"_30jeq3\"]')\n"
     ]
    },
    {
     "data": {
      "text/plain": [
       "['₹799',\n",
       " '₹499',\n",
       " '₹474',\n",
       " '₹499',\n",
       " '₹649',\n",
       " '₹199',\n",
       " '₹399',\n",
       " '₹259',\n",
       " '₹499',\n",
       " '₹499',\n",
       " '₹299',\n",
       " '₹882',\n",
       " '₹1,719',\n",
       " '₹899',\n",
       " '₹499',\n",
       " '₹499',\n",
       " '₹197',\n",
       " '₹166',\n",
       " '₹401',\n",
       " '₹441',\n",
       " '₹640',\n",
       " '₹499',\n",
       " '₹499',\n",
       " '₹549',\n",
       " '₹549',\n",
       " '₹449',\n",
       " '₹499',\n",
       " '₹499',\n",
       " '₹519',\n",
       " '₹499',\n",
       " '₹343',\n",
       " '₹399',\n",
       " '₹442',\n",
       " '₹499',\n",
       " '₹449',\n",
       " '₹645',\n",
       " '₹798',\n",
       " '₹728',\n",
       " '₹474',\n",
       " '₹429',\n",
       " '₹399',\n",
       " '₹299',\n",
       " '₹499',\n",
       " '₹499',\n",
       " '₹1,599',\n",
       " '₹420',\n",
       " '₹402',\n",
       " '₹497',\n",
       " '₹166',\n",
       " '₹242',\n",
       " '₹414',\n",
       " '₹664',\n",
       " '₹395',\n",
       " '₹150',\n",
       " '₹499',\n",
       " '₹259',\n",
       " '₹678',\n",
       " '₹2,359',\n",
       " '₹299',\n",
       " '₹297',\n",
       " '₹499',\n",
       " '₹429',\n",
       " '₹216',\n",
       " '₹619',\n",
       " '₹445',\n",
       " '₹299',\n",
       " '₹1,490',\n",
       " '₹1,139',\n",
       " '₹698',\n",
       " '₹499',\n",
       " '₹429',\n",
       " '₹1,799',\n",
       " '₹499',\n",
       " '₹399',\n",
       " '₹299',\n",
       " '₹199',\n",
       " '₹399',\n",
       " '₹649',\n",
       " '₹299',\n",
       " '₹398']"
      ]
     },
     "execution_count": 123,
     "metadata": {},
     "output_type": "execute_result"
    }
   ],
   "source": [
    "price1=[]\n",
    "for i in result[:2]:\n",
    "    driver.get(i)\n",
    "    pri1=driver.find_elements_by_xpath('//div[@class=\"_30jeq3\"]')\n",
    "    for i in pri1:\n",
    "        price1.append(i.text)\n",
    "price1"
   ]
  },
  {
   "cell_type": "code",
   "execution_count": 125,
   "id": "cfdbb7df",
   "metadata": {},
   "outputs": [
    {
     "data": {
      "text/plain": [
       "80"
      ]
     },
     "execution_count": 125,
     "metadata": {},
     "output_type": "execute_result"
    }
   ],
   "source": [
    "len(price1)"
   ]
  },
  {
   "cell_type": "code",
   "execution_count": 141,
   "id": "78547ca5",
   "metadata": {},
   "outputs": [
    {
     "name": "stderr",
     "output_type": "stream",
     "text": [
      "<ipython-input-141-0ecbedbcc7c9>:4: DeprecationWarning: find_elements_by_* commands are deprecated. Please use find_elements() instead\n",
      "  off1=driver.find_elements_by_xpath('//div[@class=\"_3Ay6Sb\"]')\n"
     ]
    },
    {
     "data": {
      "text/plain": [
       "80"
      ]
     },
     "execution_count": 141,
     "metadata": {},
     "output_type": "execute_result"
    }
   ],
   "source": [
    "offer1=[]\n",
    "for i in result[:2]:\n",
    "    driver.get(i)\n",
    "    off1=driver.find_elements_by_xpath('//div[@class=\"_3Ay6Sb\"]')\n",
    "    for i in off1:\n",
    "        offer1.append(i.text)\n",
    "len(offer1)"
   ]
  },
  {
   "cell_type": "code",
   "execution_count": 120,
   "id": "6b5feb59",
   "metadata": {},
   "outputs": [
    {
     "data": {
      "text/plain": [
       "80"
      ]
     },
     "execution_count": 120,
     "metadata": {},
     "output_type": "execute_result"
    }
   ],
   "source": [
    "len(offer1)"
   ]
  },
  {
   "cell_type": "code",
   "execution_count": 142,
   "id": "e5d1aecd",
   "metadata": {},
   "outputs": [],
   "source": [
    "FinalBrand=Brands+Brands1\n",
    "FinalDescription=Description[:80:2]+Description1[0:160:2]\n",
    "Finalprice=Price+price1\n",
    "Finaloffer=offer+offer1"
   ]
  },
  {
   "cell_type": "code",
   "execution_count": 138,
   "id": "391dd5b5",
   "metadata": {},
   "outputs": [
    {
     "data": {
      "text/plain": [
       "120"
      ]
     },
     "execution_count": 138,
     "metadata": {},
     "output_type": "execute_result"
    }
   ],
   "source": [
    "len(Finalprice)"
   ]
  },
  {
   "cell_type": "code",
   "execution_count": 143,
   "id": "80f81f72",
   "metadata": {},
   "outputs": [
    {
     "data": {
      "text/html": [
       "<div>\n",
       "<style scoped>\n",
       "    .dataframe tbody tr th:only-of-type {\n",
       "        vertical-align: middle;\n",
       "    }\n",
       "\n",
       "    .dataframe tbody tr th {\n",
       "        vertical-align: top;\n",
       "    }\n",
       "\n",
       "    .dataframe thead th {\n",
       "        text-align: right;\n",
       "    }\n",
       "</style>\n",
       "<table border=\"1\" class=\"dataframe\">\n",
       "  <thead>\n",
       "    <tr style=\"text-align: right;\">\n",
       "      <th></th>\n",
       "      <th>Brands</th>\n",
       "      <th>Description</th>\n",
       "      <th>Price</th>\n",
       "      <th>Offer</th>\n",
       "    </tr>\n",
       "  </thead>\n",
       "  <tbody>\n",
       "    <tr>\n",
       "      <th>0</th>\n",
       "      <td>Magnolia</td>\n",
       "      <td>Sneakers For Men</td>\n",
       "      <td>₹399</td>\n",
       "      <td>50% off</td>\n",
       "    </tr>\n",
       "    <tr>\n",
       "      <th>1</th>\n",
       "      <td>Numenzo</td>\n",
       "      <td>411 Casual Sneakers For Men</td>\n",
       "      <td>₹599</td>\n",
       "      <td>81% off</td>\n",
       "    </tr>\n",
       "    <tr>\n",
       "      <th>2</th>\n",
       "      <td>Numenzo</td>\n",
       "      <td>Sneakers For Men</td>\n",
       "      <td>₹499</td>\n",
       "      <td>50% off</td>\n",
       "    </tr>\n",
       "    <tr>\n",
       "      <th>3</th>\n",
       "      <td>URBANBOX</td>\n",
       "      <td>Sneakers Sneakers For Men</td>\n",
       "      <td>₹499</td>\n",
       "      <td>83% off</td>\n",
       "    </tr>\n",
       "    <tr>\n",
       "      <th>4</th>\n",
       "      <td>D-SNEAKERZ</td>\n",
       "      <td>Casual , Partywear Sneakers Shoes For Men's An...</td>\n",
       "      <td>₹299</td>\n",
       "      <td>40% off</td>\n",
       "    </tr>\n",
       "    <tr>\n",
       "      <th>...</th>\n",
       "      <td>...</td>\n",
       "      <td>...</td>\n",
       "      <td>...</td>\n",
       "      <td>...</td>\n",
       "    </tr>\n",
       "    <tr>\n",
       "      <th>115</th>\n",
       "      <td>HOTSTYLE</td>\n",
       "      <td>Sneakers For Men</td>\n",
       "      <td>₹199</td>\n",
       "      <td>40% off</td>\n",
       "    </tr>\n",
       "    <tr>\n",
       "      <th>116</th>\n",
       "      <td>OUTALYFE</td>\n",
       "      <td>Stylish Party Wear Fashionable Lightweight New...</td>\n",
       "      <td>₹399</td>\n",
       "      <td>76% off</td>\n",
       "    </tr>\n",
       "    <tr>\n",
       "      <th>117</th>\n",
       "      <td>Elixir Man</td>\n",
       "      <td>Elixir Man Limited Edition Casual Shoes Sneake...</td>\n",
       "      <td>₹649</td>\n",
       "      <td>60% off</td>\n",
       "    </tr>\n",
       "    <tr>\n",
       "      <th>118</th>\n",
       "      <td>HOTSTYLE</td>\n",
       "      <td>Sneakers For Men</td>\n",
       "      <td>₹299</td>\n",
       "      <td>60% off</td>\n",
       "    </tr>\n",
       "    <tr>\n",
       "      <th>119</th>\n",
       "      <td>SCATCHITE</td>\n",
       "      <td>Sneakers For Men</td>\n",
       "      <td>₹398</td>\n",
       "      <td>60% off</td>\n",
       "    </tr>\n",
       "  </tbody>\n",
       "</table>\n",
       "<p>120 rows × 4 columns</p>\n",
       "</div>"
      ],
      "text/plain": [
       "         Brands                                        Description Price  \\\n",
       "0      Magnolia                                   Sneakers For Men  ₹399   \n",
       "1       Numenzo                        411 Casual Sneakers For Men  ₹599   \n",
       "2       Numenzo                                   Sneakers For Men  ₹499   \n",
       "3      URBANBOX                          Sneakers Sneakers For Men  ₹499   \n",
       "4    D-SNEAKERZ  Casual , Partywear Sneakers Shoes For Men's An...  ₹299   \n",
       "..          ...                                                ...   ...   \n",
       "115    HOTSTYLE                                   Sneakers For Men  ₹199   \n",
       "116    OUTALYFE  Stylish Party Wear Fashionable Lightweight New...  ₹399   \n",
       "117  Elixir Man  Elixir Man Limited Edition Casual Shoes Sneake...  ₹649   \n",
       "118    HOTSTYLE                                   Sneakers For Men  ₹299   \n",
       "119   SCATCHITE                                   Sneakers For Men  ₹398   \n",
       "\n",
       "       Offer  \n",
       "0    50% off  \n",
       "1    81% off  \n",
       "2    50% off  \n",
       "3    83% off  \n",
       "4    40% off  \n",
       "..       ...  \n",
       "115  40% off  \n",
       "116  76% off  \n",
       "117  60% off  \n",
       "118  60% off  \n",
       "119  60% off  \n",
       "\n",
       "[120 rows x 4 columns]"
      ]
     },
     "execution_count": 143,
     "metadata": {},
     "output_type": "execute_result"
    }
   ],
   "source": [
    "Data=pd.DataFrame()\n",
    "Data['Brands']=FinalBrand\n",
    "Data['Description']=FinalDescription\n",
    "Data['Price']=Finalprice\n",
    "Data['Offer']=Finaloffer\n",
    "Data"
   ]
  },
  {
   "cell_type": "markdown",
   "id": "53407002",
   "metadata": {},
   "source": [
    "# Q7: Go to the link - https://www.myntra.com/shoesSet Price filter to “Rs. 6649 to Rs. 13099” , Color filter to “Black”"
   ]
  },
  {
   "cell_type": "code",
   "execution_count": 144,
   "id": "7e542879",
   "metadata": {},
   "outputs": [],
   "source": [
    "import selenium\n",
    "import pandas as pd\n",
    "from selenium import webdriver"
   ]
  },
  {
   "cell_type": "code",
   "execution_count": 145,
   "id": "8a36f118",
   "metadata": {},
   "outputs": [
    {
     "name": "stderr",
     "output_type": "stream",
     "text": [
      "<ipython-input-145-a45c1c768693>:1: DeprecationWarning: executable_path has been deprecated, please pass in a Service object\n",
      "  driver=webdriver.Chrome(r'C:\\Users\\Neeraj Kumar\\Downloads\\chromedriver_win32\\chromedriver')\n"
     ]
    }
   ],
   "source": [
    "driver=webdriver.Chrome(r'C:\\Users\\Neeraj Kumar\\Downloads\\chromedriver_win32\\chromedriver')"
   ]
  },
  {
   "cell_type": "code",
   "execution_count": 146,
   "id": "f6787953",
   "metadata": {},
   "outputs": [],
   "source": [
    "url='https://www.myntra.com/shoes'\n",
    "driver.get(url)"
   ]
  },
  {
   "cell_type": "code",
   "execution_count": 147,
   "id": "6a24b9e4",
   "metadata": {},
   "outputs": [
    {
     "name": "stderr",
     "output_type": "stream",
     "text": [
      "<ipython-input-147-bc06e2e4e0ef>:1: DeprecationWarning: find_element_by_* commands are deprecated. Please use find_element() instead\n",
      "  cost=driver.find_element_by_xpath('/html/body/div[2]/div/div[1]/main/div[3]/div[1]/section/div/div[5]/ul/li[2]/label')\n"
     ]
    },
    {
     "data": {
      "text/plain": [
       "<selenium.webdriver.remote.webelement.WebElement (session=\"eef5ec7d885d8d2b30df7bcc8dc3d503\", element=\"cf33a7f6-d5d0-4f13-b3aa-e66826e6f0b8\")>"
      ]
     },
     "execution_count": 147,
     "metadata": {},
     "output_type": "execute_result"
    }
   ],
   "source": [
    "cost=driver.find_element_by_xpath('/html/body/div[2]/div/div[1]/main/div[3]/div[1]/section/div/div[5]/ul/li[2]/label')\n",
    "cost#setting the price"
   ]
  },
  {
   "cell_type": "code",
   "execution_count": 151,
   "id": "0d70d0ca",
   "metadata": {},
   "outputs": [],
   "source": [
    "cost.click()"
   ]
  },
  {
   "cell_type": "code",
   "execution_count": 149,
   "id": "e09b9836",
   "metadata": {},
   "outputs": [
    {
     "name": "stderr",
     "output_type": "stream",
     "text": [
      "<ipython-input-149-8710c2a7a44c>:1: DeprecationWarning: find_element_by_* commands are deprecated. Please use find_element() instead\n",
      "  colour=driver.find_element_by_xpath('/html/body/div[2]/div/div[1]/main/div[3]/div[1]/section/div/div[6]/ul/li[1]/label')\n"
     ]
    },
    {
     "data": {
      "text/plain": [
       "<selenium.webdriver.remote.webelement.WebElement (session=\"eef5ec7d885d8d2b30df7bcc8dc3d503\", element=\"772f4fb7-f619-43fe-8a1f-bd31db960adf\")>"
      ]
     },
     "execution_count": 149,
     "metadata": {},
     "output_type": "execute_result"
    }
   ],
   "source": [
    "colour=driver.find_element_by_xpath('/html/body/div[2]/div/div[1]/main/div[3]/div[1]/section/div/div[6]/ul/li[1]/label')\n",
    "colour#setting the colour"
   ]
  },
  {
   "cell_type": "code",
   "execution_count": 150,
   "id": "b5d97733",
   "metadata": {},
   "outputs": [],
   "source": [
    "colour.click()"
   ]
  },
  {
   "cell_type": "code",
   "execution_count": 152,
   "id": "b8fc738c",
   "metadata": {},
   "outputs": [
    {
     "name": "stderr",
     "output_type": "stream",
     "text": [
      "<ipython-input-152-b635089fc494>:1: DeprecationWarning: find_elements_by_* commands are deprecated. Please use find_elements() instead\n",
      "  brand=driver.find_elements_by_xpath('//h3[@class=\"product-brand\"]')\n"
     ]
    }
   ],
   "source": [
    "brand=driver.find_elements_by_xpath('//h3[@class=\"product-brand\"]')\n",
    "brands=[]\n",
    "for i in brand:\n",
    "    brands.append(i.text)"
   ]
  },
  {
   "cell_type": "code",
   "execution_count": 153,
   "id": "18502afe",
   "metadata": {},
   "outputs": [
    {
     "name": "stderr",
     "output_type": "stream",
     "text": [
      "<ipython-input-153-8c56ce59aaa6>:1: DeprecationWarning: find_elements_by_* commands are deprecated. Please use find_elements() instead\n",
      "  des=driver.find_elements_by_xpath('//h4[@class=\"product-product\"]')\n"
     ]
    }
   ],
   "source": [
    "des=driver.find_elements_by_xpath('//h4[@class=\"product-product\"]')\n",
    "description=[]\n",
    "for i in des:\n",
    "    description.append(i.text)"
   ]
  },
  {
   "cell_type": "code",
   "execution_count": 154,
   "id": "72a819d2",
   "metadata": {},
   "outputs": [
    {
     "name": "stderr",
     "output_type": "stream",
     "text": [
      "<ipython-input-154-9ca6bb9353aa>:1: DeprecationWarning: find_elements_by_* commands are deprecated. Please use find_elements() instead\n",
      "  pri=driver.find_elements_by_xpath('//div[@class=\"product-price\"]')\n"
     ]
    }
   ],
   "source": [
    "pri=driver.find_elements_by_xpath('//div[@class=\"product-price\"]')\n",
    "price=[]\n",
    "for i in pri:\n",
    "    price.append(i.text)"
   ]
  },
  {
   "cell_type": "code",
   "execution_count": 155,
   "id": "9e1f79df",
   "metadata": {},
   "outputs": [
    {
     "name": "stderr",
     "output_type": "stream",
     "text": [
      "<ipython-input-155-a3c4f2eb3246>:1: DeprecationWarning: find_element_by_* commands are deprecated. Please use find_element() instead\n",
      "  nextpage=driver.find_element_by_xpath('/html/body/div[2]/div/div[1]/main/div[3]/div[2]/div/div[2]/section/div[2]/ul/li[3]/a')\n"
     ]
    }
   ],
   "source": [
    "nextpage=driver.find_element_by_xpath('/html/body/div[2]/div/div[1]/main/div[3]/div[2]/div/div[2]/section/div[2]/ul/li[3]/a')\n",
    "nextpage.click()#selecting the next page"
   ]
  },
  {
   "cell_type": "code",
   "execution_count": 156,
   "id": "c84d6984",
   "metadata": {},
   "outputs": [
    {
     "name": "stderr",
     "output_type": "stream",
     "text": [
      "<ipython-input-156-99a8d8aa82c8>:1: DeprecationWarning: find_elements_by_* commands are deprecated. Please use find_elements() instead\n",
      "  brand1=driver.find_elements_by_xpath('//h3[@class=\"product-brand\"]')\n"
     ]
    }
   ],
   "source": [
    "brand1=driver.find_elements_by_xpath('//h3[@class=\"product-brand\"]')\n",
    "brands1=[]\n",
    "for i in brand1:\n",
    "    brands1.append(i.text)"
   ]
  },
  {
   "cell_type": "code",
   "execution_count": 157,
   "id": "14e5a3c2",
   "metadata": {},
   "outputs": [
    {
     "name": "stderr",
     "output_type": "stream",
     "text": [
      "<ipython-input-157-2698b21b0ef6>:1: DeprecationWarning: find_elements_by_* commands are deprecated. Please use find_elements() instead\n",
      "  des1=driver.find_elements_by_xpath('//h4[@class=\"product-product\"]')\n"
     ]
    }
   ],
   "source": [
    "des1=driver.find_elements_by_xpath('//h4[@class=\"product-product\"]')\n",
    "description1=[]\n",
    "for i in des1:\n",
    "    description1.append(i.text)"
   ]
  },
  {
   "cell_type": "code",
   "execution_count": 159,
   "id": "2633b520",
   "metadata": {},
   "outputs": [
    {
     "name": "stderr",
     "output_type": "stream",
     "text": [
      "<ipython-input-159-7d8bebd95d13>:1: DeprecationWarning: find_elements_by_* commands are deprecated. Please use find_elements() instead\n",
      "  pri1=driver.find_elements_by_xpath('//div[@class=\"product-price\"]')\n"
     ]
    }
   ],
   "source": [
    "pri1=driver.find_elements_by_xpath('//div[@class=\"product-price\"]')\n",
    "price1=[]\n",
    "for i in pri1:\n",
    "    price1.append(i.text)"
   ]
  },
  {
   "cell_type": "code",
   "execution_count": 160,
   "id": "c4a84514",
   "metadata": {},
   "outputs": [
    {
     "data": {
      "text/html": [
       "<div>\n",
       "<style scoped>\n",
       "    .dataframe tbody tr th:only-of-type {\n",
       "        vertical-align: middle;\n",
       "    }\n",
       "\n",
       "    .dataframe tbody tr th {\n",
       "        vertical-align: top;\n",
       "    }\n",
       "\n",
       "    .dataframe thead th {\n",
       "        text-align: right;\n",
       "    }\n",
       "</style>\n",
       "<table border=\"1\" class=\"dataframe\">\n",
       "  <thead>\n",
       "    <tr style=\"text-align: right;\">\n",
       "      <th></th>\n",
       "      <th>Brand</th>\n",
       "      <th>Description</th>\n",
       "      <th>Price</th>\n",
       "    </tr>\n",
       "  </thead>\n",
       "  <tbody>\n",
       "    <tr>\n",
       "      <th>0</th>\n",
       "      <td>Nike</td>\n",
       "      <td>LEBRON WITNESS Basketball Shoe</td>\n",
       "      <td>Rs. 7465Rs. 8295(10% OFF)</td>\n",
       "    </tr>\n",
       "    <tr>\n",
       "      <th>1</th>\n",
       "      <td>Nike</td>\n",
       "      <td>AIR ZOOM PEGASUS Running Shoes</td>\n",
       "      <td>Rs. 8995Rs. 9995(10% OFF)</td>\n",
       "    </tr>\n",
       "    <tr>\n",
       "      <th>2</th>\n",
       "      <td>Nike</td>\n",
       "      <td>Men Zoom Span 4 Running Shoes</td>\n",
       "      <td>Rs. 7195</td>\n",
       "    </tr>\n",
       "    <tr>\n",
       "      <th>3</th>\n",
       "      <td>Nike</td>\n",
       "      <td>Air Zoom Pegasus 38 Shield Run</td>\n",
       "      <td>Rs. 10345Rs. 11495(10% OFF)</td>\n",
       "    </tr>\n",
       "    <tr>\n",
       "      <th>4</th>\n",
       "      <td>PUMA Motorsport</td>\n",
       "      <td>Unisex Scuderia Ferrari Shoes</td>\n",
       "      <td>Rs. 8499Rs. 9999(Rs. 1500 OFF)</td>\n",
       "    </tr>\n",
       "    <tr>\n",
       "      <th>...</th>\n",
       "      <td>...</td>\n",
       "      <td>...</td>\n",
       "      <td>...</td>\n",
       "    </tr>\n",
       "    <tr>\n",
       "      <th>95</th>\n",
       "      <td>Geox</td>\n",
       "      <td>Women Leather Pumps</td>\n",
       "      <td>Rs. 9999</td>\n",
       "    </tr>\n",
       "    <tr>\n",
       "      <th>96</th>\n",
       "      <td>Geox</td>\n",
       "      <td>Women Leather Pumps</td>\n",
       "      <td>Rs. 7999</td>\n",
       "    </tr>\n",
       "    <tr>\n",
       "      <th>97</th>\n",
       "      <td>Puma</td>\n",
       "      <td>Unisex Mirage Sport Luxe Shoe</td>\n",
       "      <td>Rs. 7199Rs. 8999(Rs. 1800 OFF)</td>\n",
       "    </tr>\n",
       "    <tr>\n",
       "      <th>98</th>\n",
       "      <td>DAVINCHI</td>\n",
       "      <td>Solid Slip On Shoes</td>\n",
       "      <td>Rs. 7990</td>\n",
       "    </tr>\n",
       "    <tr>\n",
       "      <th>99</th>\n",
       "      <td>Saint G</td>\n",
       "      <td>Women Leather Heeled Boots</td>\n",
       "      <td>Rs. 8900</td>\n",
       "    </tr>\n",
       "  </tbody>\n",
       "</table>\n",
       "<p>100 rows × 3 columns</p>\n",
       "</div>"
      ],
      "text/plain": [
       "              Brand                     Description  \\\n",
       "0              Nike  LEBRON WITNESS Basketball Shoe   \n",
       "1              Nike  AIR ZOOM PEGASUS Running Shoes   \n",
       "2              Nike   Men Zoom Span 4 Running Shoes   \n",
       "3              Nike  Air Zoom Pegasus 38 Shield Run   \n",
       "4   PUMA Motorsport   Unisex Scuderia Ferrari Shoes   \n",
       "..              ...                             ...   \n",
       "95             Geox             Women Leather Pumps   \n",
       "96             Geox             Women Leather Pumps   \n",
       "97             Puma   Unisex Mirage Sport Luxe Shoe   \n",
       "98         DAVINCHI             Solid Slip On Shoes   \n",
       "99          Saint G      Women Leather Heeled Boots   \n",
       "\n",
       "                             Price  \n",
       "0        Rs. 7465Rs. 8295(10% OFF)  \n",
       "1        Rs. 8995Rs. 9995(10% OFF)  \n",
       "2                         Rs. 7195  \n",
       "3      Rs. 10345Rs. 11495(10% OFF)  \n",
       "4   Rs. 8499Rs. 9999(Rs. 1500 OFF)  \n",
       "..                             ...  \n",
       "95                        Rs. 9999  \n",
       "96                        Rs. 7999  \n",
       "97  Rs. 7199Rs. 8999(Rs. 1800 OFF)  \n",
       "98                        Rs. 7990  \n",
       "99                        Rs. 8900  \n",
       "\n",
       "[100 rows x 3 columns]"
      ]
     },
     "execution_count": 160,
     "metadata": {},
     "output_type": "execute_result"
    }
   ],
   "source": [
    "data=pd.DataFrame()\n",
    "data['Brand']=brands+brands1\n",
    "data['Description']=description+description1\n",
    "data['Price']=price+price1\n",
    "data"
   ]
  },
  {
   "cell_type": "markdown",
   "id": "477e3230",
   "metadata": {},
   "source": [
    "# Q8: Go to webpage https://www.amazon.in/ Enter “Laptop” in the search field and then click the search icon."
   ]
  },
  {
   "cell_type": "code",
   "execution_count": 161,
   "id": "38c87a9a",
   "metadata": {},
   "outputs": [],
   "source": [
    "import selenium\n",
    "import pandas as pd\n",
    "from selenium import webdriver"
   ]
  },
  {
   "cell_type": "code",
   "execution_count": 162,
   "id": "88889bc5",
   "metadata": {},
   "outputs": [
    {
     "name": "stderr",
     "output_type": "stream",
     "text": [
      "<ipython-input-162-a45c1c768693>:1: DeprecationWarning: executable_path has been deprecated, please pass in a Service object\n",
      "  driver=webdriver.Chrome(r'C:\\Users\\Neeraj Kumar\\Downloads\\chromedriver_win32\\chromedriver')\n"
     ]
    }
   ],
   "source": [
    "driver=webdriver.Chrome(r'C:\\Users\\Neeraj Kumar\\Downloads\\chromedriver_win32\\chromedriver')"
   ]
  },
  {
   "cell_type": "code",
   "execution_count": 163,
   "id": "c2c4e317",
   "metadata": {},
   "outputs": [],
   "source": [
    "url='https://www.amazon.in/s?k=laptop&ref=nb_sb_noss_2'"
   ]
  },
  {
   "cell_type": "code",
   "execution_count": 164,
   "id": "320dd969",
   "metadata": {},
   "outputs": [],
   "source": [
    "driver.get(url)"
   ]
  },
  {
   "cell_type": "code",
   "execution_count": 165,
   "id": "8b2e347a",
   "metadata": {},
   "outputs": [
    {
     "name": "stderr",
     "output_type": "stream",
     "text": [
      "<ipython-input-165-0e09684027aa>:1: DeprecationWarning: find_element_by_* commands are deprecated. Please use find_element() instead\n",
      "  filteringi7=driver.find_element_by_xpath('//*[@id=\"p_n_feature_thirteen_browse-bin/12598163031\"]/span')\n"
     ]
    }
   ],
   "source": [
    "filteringi7=driver.find_element_by_xpath('//*[@id=\"p_n_feature_thirteen_browse-bin/12598163031\"]/span')\n",
    "filteringi7.click()#filtering with I7"
   ]
  },
  {
   "cell_type": "code",
   "execution_count": 168,
   "id": "8a4e11f1",
   "metadata": {},
   "outputs": [
    {
     "name": "stderr",
     "output_type": "stream",
     "text": [
      "<ipython-input-168-08168973f676>:1: DeprecationWarning: find_element_by_* commands are deprecated. Please use find_element() instead\n",
      "  filteringi9=driver.find_element_by_xpath('/html/body/div[1]/div[2]/div[1]/div[2]/div/div[3]/span/div[1]/span/div/div/div[5]/ul[13]/li[2]')\n"
     ]
    }
   ],
   "source": [
    "filteringamz=driver.find_element_by_xpath('/html/body/div[1]/div[2]/div[1]/div[2]/div/div[3]/span/div[1]/span/div/div/div[5]/ul[13]/li[2]')\n",
    "filteringamz.click()#filtering with amz Ryzan"
   ]
  },
  {
   "cell_type": "code",
   "execution_count": 169,
   "id": "82bd63e5",
   "metadata": {},
   "outputs": [
    {
     "name": "stderr",
     "output_type": "stream",
     "text": [
      "<ipython-input-169-3f15215b84dd>:1: DeprecationWarning: find_elements_by_* commands are deprecated. Please use find_elements() instead\n",
      "  title=driver.find_elements_by_xpath('//h2[@class=\"a-size-mini a-spacing-none a-color-base s-line-clamp-2\"]')\n"
     ]
    },
    {
     "data": {
      "text/plain": [
       "['ASUS ZenBook 14 (2020) Intel Core i7-1165G7 11th Gen 14-inch (35.56 cms) FHD Thin & Light Laptop (16GB/512GB SSD/Office 2019/Windows 10/Intel Iris Xᵉ Graphics/Pine Grey/1.17 kg), UX425EA-KI701TS',\n",
       " 'ASUS ZenBook 13 OLED (2021) Intel Core i7-1165G7 11th Gen 14\" (35.56cms) FHD Thin and Light Laptop (16GB/512GB SSD/Windows 10/Office 2019/Intel Iris Xᵉ Graphics/Pine Grey/1.14 kg), UX325EA-KG722TS',\n",
       " 'HP Pavilion (2021) Intel 11th Gen Core i7 14 inches FHD Screen Thin & Light Laptop, 16 GB RAM, 1TB SSD, Iris Xe Graphics, Windows 10, MS Office, Backlit Keyboard, 1.41kg (14-dv0058TU)',\n",
       " 'MSI Bravo 15 AMD Ryzen 7 4800H 15.6 inches FHD Gaming Laptop, 16GB/512GB SSD/144 Hz/Windows 10/RX5500M, GDDR6 4GB (Black/1.86 kg), A4DDR-212IN',\n",
       " 'Lenovo IdeaPad Slim 5 AMD Ryzen 7 5700U 14\" (35.56cm) FHD IPS Thin & Light Laptop (8GB/512GB SSD/Windows 10/MS Office/Backlit Keyboard/Fingerprint Reader/Graphite Grey/1.39Kg), 82LM009AIN',\n",
       " 'Mi Notebook Horizon Edition 14 Intel Core i7-10510U 10th Gen Thin and Light Laptop(8GB/512GB SSD/Windows 10/Nvidia MX350 2GB Graphics/Grey/1.35Kg)(Without Webcam) XMA1904-AF',\n",
       " 'ASUS ROG Strix G17 (2021) 17.3-inch (43.94 cms) FHD 144Hz, AMD Ryzen 7 4800H, GTX 1650 4GB Graphics, Gaming Laptop (8GB/512GB SSD/Windows 10/Gray/2.4 Kg), G713IH-HX020T',\n",
       " 'Acer Nitro 5 11th Gen Intel Core i7-11800H 15.6\" (39.62cms) Full HD Gaming Laptop (16 GB/256GB SSD/1 TB HDD/Win 10/RTX 3050 Ti 4GB Graphics/144 Hz, Black, 2.4 kg/RGB Backlit Keyboard) AN515-57',\n",
       " 'Dell 14 (2021) i7-1195G7 2in1 Touch Screen Laptop, 16GB, 512GB SSD, Win 10 + MS Office, 14.0\" (35.56 cms) FHD Display, Backlit KB, FPR + Active Pen, Platinum Silver (Inspiron 5410, D560596WIN9S)',\n",
       " 'ASUS TUF Gaming F15 (2021) 15.6-inch (39.62 cms) FHD 144Hz, Intel Core i7-11800H 11th Gen, RTX 3050 4GB Graphics, Gaming Laptop (8GB/1TB SSD/Windows 10/Gray/2.3 Kg), FX566HCB-HN231T, Eclipse Gray']"
      ]
     },
     "execution_count": 169,
     "metadata": {},
     "output_type": "execute_result"
    }
   ],
   "source": [
    "title=driver.find_elements_by_xpath('//h2[@class=\"a-size-mini a-spacing-none a-color-base s-line-clamp-2\"]')\n",
    "Laptop=[]\n",
    "for i in title:\n",
    "    Laptop.append(i.text)\n",
    "Laptop[0:10]"
   ]
  },
  {
   "cell_type": "code",
   "execution_count": 170,
   "id": "9f55a633",
   "metadata": {},
   "outputs": [
    {
     "name": "stderr",
     "output_type": "stream",
     "text": [
      "<ipython-input-170-f52e17e7fff3>:1: DeprecationWarning: find_elements_by_* commands are deprecated. Please use find_elements() instead\n",
      "  pri=driver.find_elements_by_xpath('//span[@class=\"a-price-whole\"]')\n"
     ]
    },
    {
     "data": {
      "text/plain": [
       "['96,990',\n",
       " '98,990',\n",
       " '84,990',\n",
       " '83,990',\n",
       " '61,660',\n",
       " '59,990',\n",
       " '79,990',\n",
       " '85,990',\n",
       " '88,490',\n",
       " '99,990']"
      ]
     },
     "execution_count": 170,
     "metadata": {},
     "output_type": "execute_result"
    }
   ],
   "source": [
    "pri=driver.find_elements_by_xpath('//span[@class=\"a-price-whole\"]')\n",
    "price=[]\n",
    "for i in pri:\n",
    "    price.append(i.text)\n",
    "price[0:10]"
   ]
  },
  {
   "cell_type": "code",
   "execution_count": 171,
   "id": "4040477a",
   "metadata": {},
   "outputs": [
    {
     "name": "stderr",
     "output_type": "stream",
     "text": [
      "<ipython-input-171-1a82048b8b4e>:2: DeprecationWarning: find_elements_by_* commands are deprecated. Please use find_elements() instead\n",
      "  prod_rating=driver.find_elements_by_xpath('//a[@class=\"a-link-normal a-text-normal\"]')\n",
      "<ipython-input-171-1a82048b8b4e>:10: DeprecationWarning: find_elements_by_* commands are deprecated. Please use find_elements() instead\n",
      "  rating=driver.find_elements_by_xpath('//span[@class=\"a-size-base a-nowrap\"]')\n"
     ]
    },
    {
     "data": {
      "text/plain": [
       "['4.7 out of 5',\n",
       " '4.2 out of 5',\n",
       " '4.3 out of 5',\n",
       " '4.3 out of 5',\n",
       " '4.2 out of 5',\n",
       " '4.2 out of 5',\n",
       " '4.3 out of 5',\n",
       " '3.9 out of 5',\n",
       " '5 out of 5',\n",
       " '5 out of 5']"
      ]
     },
     "execution_count": 171,
     "metadata": {},
     "output_type": "execute_result"
    }
   ],
   "source": [
    "#for scraping the data, extracted through the url's for the different latops\n",
    "prod_rating=driver.find_elements_by_xpath('//a[@class=\"a-link-normal a-text-normal\"]')\n",
    "Extract=[]\n",
    "for i in prod_rating:\n",
    "    Extract.append(i.get_attribute('href'))\n",
    "Extract\n",
    "extracted=[]\n",
    "for i in Extract:\n",
    "    driver.get(i)\n",
    "    rating=driver.find_elements_by_xpath('//span[@class=\"a-size-base a-nowrap\"]')\n",
    "    for i in rating:\n",
    "        extracted.append(i.text)\n",
    "extracted[0:10]  "
   ]
  },
  {
   "cell_type": "code",
   "execution_count": 172,
   "id": "62166432",
   "metadata": {},
   "outputs": [
    {
     "data": {
      "text/html": [
       "<div>\n",
       "<style scoped>\n",
       "    .dataframe tbody tr th:only-of-type {\n",
       "        vertical-align: middle;\n",
       "    }\n",
       "\n",
       "    .dataframe tbody tr th {\n",
       "        vertical-align: top;\n",
       "    }\n",
       "\n",
       "    .dataframe thead th {\n",
       "        text-align: right;\n",
       "    }\n",
       "</style>\n",
       "<table border=\"1\" class=\"dataframe\">\n",
       "  <thead>\n",
       "    <tr style=\"text-align: right;\">\n",
       "      <th></th>\n",
       "      <th>Laptops</th>\n",
       "      <th>Price</th>\n",
       "      <th>Ratings</th>\n",
       "    </tr>\n",
       "  </thead>\n",
       "  <tbody>\n",
       "    <tr>\n",
       "      <th>0</th>\n",
       "      <td>ASUS ZenBook 14 (2020) Intel Core i7-1165G7 11...</td>\n",
       "      <td>96,990</td>\n",
       "      <td>4.7 out of 5</td>\n",
       "    </tr>\n",
       "    <tr>\n",
       "      <th>1</th>\n",
       "      <td>ASUS ZenBook 13 OLED (2021) Intel Core i7-1165...</td>\n",
       "      <td>98,990</td>\n",
       "      <td>4.2 out of 5</td>\n",
       "    </tr>\n",
       "    <tr>\n",
       "      <th>2</th>\n",
       "      <td>HP Pavilion (2021) Intel 11th Gen Core i7 14 i...</td>\n",
       "      <td>84,990</td>\n",
       "      <td>4.3 out of 5</td>\n",
       "    </tr>\n",
       "    <tr>\n",
       "      <th>3</th>\n",
       "      <td>MSI Bravo 15 AMD Ryzen 7 4800H 15.6 inches FHD...</td>\n",
       "      <td>83,990</td>\n",
       "      <td>4.3 out of 5</td>\n",
       "    </tr>\n",
       "    <tr>\n",
       "      <th>4</th>\n",
       "      <td>Lenovo IdeaPad Slim 5 AMD Ryzen 7 5700U 14\" (3...</td>\n",
       "      <td>61,660</td>\n",
       "      <td>4.2 out of 5</td>\n",
       "    </tr>\n",
       "    <tr>\n",
       "      <th>5</th>\n",
       "      <td>Mi Notebook Horizon Edition 14 Intel Core i7-1...</td>\n",
       "      <td>59,990</td>\n",
       "      <td>4.2 out of 5</td>\n",
       "    </tr>\n",
       "    <tr>\n",
       "      <th>6</th>\n",
       "      <td>ASUS ROG Strix G17 (2021) 17.3-inch (43.94 cms...</td>\n",
       "      <td>79,990</td>\n",
       "      <td>4.3 out of 5</td>\n",
       "    </tr>\n",
       "    <tr>\n",
       "      <th>7</th>\n",
       "      <td>Acer Nitro 5 11th Gen Intel Core i7-11800H 15....</td>\n",
       "      <td>85,990</td>\n",
       "      <td>3.9 out of 5</td>\n",
       "    </tr>\n",
       "    <tr>\n",
       "      <th>8</th>\n",
       "      <td>Dell 14 (2021) i7-1195G7 2in1 Touch Screen Lap...</td>\n",
       "      <td>88,490</td>\n",
       "      <td>5 out of 5</td>\n",
       "    </tr>\n",
       "    <tr>\n",
       "      <th>9</th>\n",
       "      <td>ASUS TUF Gaming F15 (2021) 15.6-inch (39.62 cm...</td>\n",
       "      <td>99,990</td>\n",
       "      <td>5 out of 5</td>\n",
       "    </tr>\n",
       "  </tbody>\n",
       "</table>\n",
       "</div>"
      ],
      "text/plain": [
       "                                             Laptops   Price       Ratings\n",
       "0  ASUS ZenBook 14 (2020) Intel Core i7-1165G7 11...  96,990  4.7 out of 5\n",
       "1  ASUS ZenBook 13 OLED (2021) Intel Core i7-1165...  98,990  4.2 out of 5\n",
       "2  HP Pavilion (2021) Intel 11th Gen Core i7 14 i...  84,990  4.3 out of 5\n",
       "3  MSI Bravo 15 AMD Ryzen 7 4800H 15.6 inches FHD...  83,990  4.3 out of 5\n",
       "4  Lenovo IdeaPad Slim 5 AMD Ryzen 7 5700U 14\" (3...  61,660  4.2 out of 5\n",
       "5  Mi Notebook Horizon Edition 14 Intel Core i7-1...  59,990  4.2 out of 5\n",
       "6  ASUS ROG Strix G17 (2021) 17.3-inch (43.94 cms...  79,990  4.3 out of 5\n",
       "7  Acer Nitro 5 11th Gen Intel Core i7-11800H 15....  85,990  3.9 out of 5\n",
       "8  Dell 14 (2021) i7-1195G7 2in1 Touch Screen Lap...  88,490    5 out of 5\n",
       "9  ASUS TUF Gaming F15 (2021) 15.6-inch (39.62 cm...  99,990    5 out of 5"
      ]
     },
     "execution_count": 172,
     "metadata": {},
     "output_type": "execute_result"
    }
   ],
   "source": [
    "data=pd.DataFrame()\n",
    "data['Laptops']=Laptop[0:10]\n",
    "data['Price']=price[0:10]\n",
    "data['Ratings']=extracted[0:10]\n",
    "data"
   ]
  },
  {
   "cell_type": "markdown",
   "id": "e247d775",
   "metadata": {},
   "source": [
    "# Q9: Write a python program to scrape data for first 10 job results for Data Scientist Designation in Noidalocation. You have to scrape company name, No. of days ago when job was posted, Rating of the company."
   ]
  },
  {
   "cell_type": "code",
   "execution_count": 173,
   "id": "9873a366",
   "metadata": {},
   "outputs": [],
   "source": [
    "import selenium\n",
    "import pandas as pd\n",
    "from selenium import webdriver"
   ]
  },
  {
   "cell_type": "code",
   "execution_count": 174,
   "id": "aac31b60",
   "metadata": {},
   "outputs": [
    {
     "name": "stderr",
     "output_type": "stream",
     "text": [
      "<ipython-input-174-a45c1c768693>:1: DeprecationWarning: executable_path has been deprecated, please pass in a Service object\n",
      "  driver=webdriver.Chrome(r'C:\\Users\\Neeraj Kumar\\Downloads\\chromedriver_win32\\chromedriver')\n"
     ]
    }
   ],
   "source": [
    "driver=webdriver.Chrome(r'C:\\Users\\Neeraj Kumar\\Downloads\\chromedriver_win32\\chromedriver')"
   ]
  },
  {
   "cell_type": "code",
   "execution_count": 175,
   "id": "7c7eaac3",
   "metadata": {},
   "outputs": [],
   "source": [
    "url='https://www.ambitionbox.com/'"
   ]
  },
  {
   "cell_type": "code",
   "execution_count": 176,
   "id": "6f9c72ed",
   "metadata": {},
   "outputs": [],
   "source": [
    "driver.get(url)"
   ]
  },
  {
   "cell_type": "code",
   "execution_count": 177,
   "id": "cb23adcf",
   "metadata": {},
   "outputs": [
    {
     "name": "stderr",
     "output_type": "stream",
     "text": [
      "<ipython-input-177-f586b895990d>:1: DeprecationWarning: find_element_by_* commands are deprecated. Please use find_element() instead\n",
      "  jobsselect=driver.find_element_by_xpath('/html/body/div[1]/nav/nav/a[6]')\n"
     ]
    }
   ],
   "source": [
    "jobsselect=driver.find_element_by_xpath('/html/body/div[1]/nav/nav/a[6]')\n",
    "jobsselect.click()#selcting the jobs section"
   ]
  },
  {
   "cell_type": "code",
   "execution_count": 178,
   "id": "c0d201c7",
   "metadata": {},
   "outputs": [
    {
     "name": "stderr",
     "output_type": "stream",
     "text": [
      "<ipython-input-178-c9242984d36a>:1: DeprecationWarning: find_element_by_* commands are deprecated. Please use find_element() instead\n",
      "  key=driver.find_element_by_xpath('//input[@title=\"Enter Designation, Company or a Skill\"]')\n"
     ]
    }
   ],
   "source": [
    "key=driver.find_element_by_xpath('//input[@title=\"Enter Designation, Company or a Skill\"]')\n",
    "key.send_keys('Data Scientist')#giving the input"
   ]
  },
  {
   "cell_type": "code",
   "execution_count": 179,
   "id": "8bc22256",
   "metadata": {},
   "outputs": [
    {
     "name": "stderr",
     "output_type": "stream",
     "text": [
      "<ipython-input-179-9de9e4f3e243>:1: DeprecationWarning: find_element_by_* commands are deprecated. Please use find_element() instead\n",
      "  search=driver.find_element_by_xpath('/html/body/div/div/div/div[2]/div[1]/div/div/div/button')\n"
     ]
    }
   ],
   "source": [
    "search=driver.find_element_by_xpath('/html/body/div/div/div/div[2]/div[1]/div/div/div/button')\n",
    "search.click()#clicking on the search bar"
   ]
  },
  {
   "cell_type": "code",
   "execution_count": 180,
   "id": "6a531090",
   "metadata": {},
   "outputs": [
    {
     "name": "stderr",
     "output_type": "stream",
     "text": [
      "<ipython-input-180-f3b6c259ec28>:1: DeprecationWarning: find_element_by_* commands are deprecated. Please use find_element() instead\n",
      "  loc=driver.find_element_by_xpath('/html/body/div/div/div/div[2]/div[2]/div[1]/div/div/div/div[2]/div[1]')\n"
     ]
    }
   ],
   "source": [
    "loc=driver.find_element_by_xpath('/html/body/div/div/div/div[2]/div[2]/div[1]/div/div/div/div[2]/div[1]')\n",
    "loc.click()#selecting the location"
   ]
  },
  {
   "cell_type": "code",
   "execution_count": 181,
   "id": "e05ba609",
   "metadata": {},
   "outputs": [
    {
     "name": "stderr",
     "output_type": "stream",
     "text": [
      "<ipython-input-181-eef7f88770c6>:1: DeprecationWarning: find_element_by_* commands are deprecated. Please use find_element() instead\n",
      "  locfind=driver.find_element_by_xpath('//input[@placeholder=\"Search locations\"]')\n"
     ]
    }
   ],
   "source": [
    "locfind=driver.find_element_by_xpath('//input[@placeholder=\"Search locations\"]')\n",
    "locfind.send_keys('Noida')#giving the noida location"
   ]
  },
  {
   "cell_type": "code",
   "execution_count": 182,
   "id": "c2377050",
   "metadata": {},
   "outputs": [
    {
     "name": "stderr",
     "output_type": "stream",
     "text": [
      "<ipython-input-182-77328717c6c6>:1: DeprecationWarning: find_element_by_* commands are deprecated. Please use find_element() instead\n",
      "  selectloc=driver.find_element_by_xpath('/html/body/div/div/div/div[2]/div[2]/div[1]/div/div/div/div[2]/div[2]/div/div[3]/div/div/div[1]/label')\n"
     ]
    }
   ],
   "source": [
    "selectloc=driver.find_element_by_xpath('/html/body/div/div/div/div[2]/div[2]/div[1]/div/div/div/div[2]/div[2]/div/div[3]/div/div/div[1]/label')\n",
    "selectloc.click()#selecting the location"
   ]
  },
  {
   "cell_type": "code",
   "execution_count": 183,
   "id": "d778ce35",
   "metadata": {},
   "outputs": [
    {
     "name": "stderr",
     "output_type": "stream",
     "text": [
      "<ipython-input-183-8135728b231d>:1: DeprecationWarning: find_elements_by_* commands are deprecated. Please use find_elements() instead\n",
      "  comp=driver.find_elements_by_xpath('//div[@class=\"company-info\"]/p')\n"
     ]
    },
    {
     "data": {
      "text/plain": [
       "['Optum Global Solutions (India) Private Limited',\n",
       " 'Ameriprise Financial',\n",
       " 'Optum Global Solutions (India) Private Limited',\n",
       " 'Steria India Ltd',\n",
       " 'Steria India Ltd',\n",
       " 'HCL Technologies Limited',\n",
       " 'Zyoin',\n",
       " 'GI Group',\n",
       " 'GI Group',\n",
       " 'IBM India Pvt. Limited']"
      ]
     },
     "execution_count": 183,
     "metadata": {},
     "output_type": "execute_result"
    }
   ],
   "source": [
    "#scraping the data\n",
    "comp=driver.find_elements_by_xpath('//div[@class=\"company-info\"]/p')\n",
    "company=[]\n",
    "for i in comp:\n",
    "    company.append(i.text)\n",
    "company[1:11]"
   ]
  },
  {
   "cell_type": "code",
   "execution_count": 184,
   "id": "27b5436c",
   "metadata": {},
   "outputs": [
    {
     "name": "stderr",
     "output_type": "stream",
     "text": [
      "<ipython-input-184-aff7d4aaa099>:1: DeprecationWarning: find_elements_by_* commands are deprecated. Please use find_elements() instead\n",
      "  post=driver.find_elements_by_xpath('//span[@class=\"body-small-l\"]')\n"
     ]
    },
    {
     "data": {
      "text/plain": [
       "['7d ago',\n",
       " '2d ago',\n",
       " '28d ago',\n",
       " '19d ago',\n",
       " '19d ago',\n",
       " '30d ago',\n",
       " '1d ago',\n",
       " '2d ago',\n",
       " '4d ago',\n",
       " '1mon ago']"
      ]
     },
     "execution_count": 184,
     "metadata": {},
     "output_type": "execute_result"
    }
   ],
   "source": [
    "post=driver.find_elements_by_xpath('//span[@class=\"body-small-l\"]')\n",
    "jobpost=[]\n",
    "for i in post:\n",
    "    jobpost.append(i.text)\n",
    "jobpost[:20:2]"
   ]
  },
  {
   "cell_type": "code",
   "execution_count": 185,
   "id": "bccb2ec3",
   "metadata": {},
   "outputs": [
    {
     "name": "stderr",
     "output_type": "stream",
     "text": [
      "<ipython-input-185-c6cc984918c2>:1: DeprecationWarning: find_elements_by_* commands are deprecated. Please use find_elements() instead\n",
      "  Comprate=driver.find_elements_by_xpath('//span[@class=\"body-small\"]')\n"
     ]
    },
    {
     "data": {
      "text/plain": [
       "['4.1', '4.1', '4.1', '4.1', '4.1', '3.8', '4.2', '3.9', '3.9', '4.1']"
      ]
     },
     "execution_count": 185,
     "metadata": {},
     "output_type": "execute_result"
    }
   ],
   "source": [
    "Comprate=driver.find_elements_by_xpath('//span[@class=\"body-small\"]')\n",
    "Rating=[]\n",
    "for i in Comprate:\n",
    "    Rating.append(i.text)\n",
    "Rating"
   ]
  },
  {
   "cell_type": "code",
   "execution_count": 186,
   "id": "32eb0680",
   "metadata": {},
   "outputs": [
    {
     "data": {
      "text/html": [
       "<div>\n",
       "<style scoped>\n",
       "    .dataframe tbody tr th:only-of-type {\n",
       "        vertical-align: middle;\n",
       "    }\n",
       "\n",
       "    .dataframe tbody tr th {\n",
       "        vertical-align: top;\n",
       "    }\n",
       "\n",
       "    .dataframe thead th {\n",
       "        text-align: right;\n",
       "    }\n",
       "</style>\n",
       "<table border=\"1\" class=\"dataframe\">\n",
       "  <thead>\n",
       "    <tr style=\"text-align: right;\">\n",
       "      <th></th>\n",
       "      <th>Company</th>\n",
       "      <th>Posted</th>\n",
       "      <th>Rating</th>\n",
       "    </tr>\n",
       "  </thead>\n",
       "  <tbody>\n",
       "    <tr>\n",
       "      <th>0</th>\n",
       "      <td>Optum Global Solutions (India) Private Limited</td>\n",
       "      <td>7d ago</td>\n",
       "      <td>4.1</td>\n",
       "    </tr>\n",
       "    <tr>\n",
       "      <th>1</th>\n",
       "      <td>Ameriprise Financial</td>\n",
       "      <td>2d ago</td>\n",
       "      <td>4.1</td>\n",
       "    </tr>\n",
       "    <tr>\n",
       "      <th>2</th>\n",
       "      <td>Optum Global Solutions (India) Private Limited</td>\n",
       "      <td>28d ago</td>\n",
       "      <td>4.1</td>\n",
       "    </tr>\n",
       "    <tr>\n",
       "      <th>3</th>\n",
       "      <td>Steria India Ltd</td>\n",
       "      <td>19d ago</td>\n",
       "      <td>4.1</td>\n",
       "    </tr>\n",
       "    <tr>\n",
       "      <th>4</th>\n",
       "      <td>Steria India Ltd</td>\n",
       "      <td>19d ago</td>\n",
       "      <td>4.1</td>\n",
       "    </tr>\n",
       "    <tr>\n",
       "      <th>5</th>\n",
       "      <td>HCL Technologies Limited</td>\n",
       "      <td>30d ago</td>\n",
       "      <td>3.8</td>\n",
       "    </tr>\n",
       "    <tr>\n",
       "      <th>6</th>\n",
       "      <td>Zyoin</td>\n",
       "      <td>1d ago</td>\n",
       "      <td>4.2</td>\n",
       "    </tr>\n",
       "    <tr>\n",
       "      <th>7</th>\n",
       "      <td>GI Group</td>\n",
       "      <td>2d ago</td>\n",
       "      <td>3.9</td>\n",
       "    </tr>\n",
       "    <tr>\n",
       "      <th>8</th>\n",
       "      <td>GI Group</td>\n",
       "      <td>4d ago</td>\n",
       "      <td>3.9</td>\n",
       "    </tr>\n",
       "    <tr>\n",
       "      <th>9</th>\n",
       "      <td>IBM India Pvt. Limited</td>\n",
       "      <td>1mon ago</td>\n",
       "      <td>4.1</td>\n",
       "    </tr>\n",
       "  </tbody>\n",
       "</table>\n",
       "</div>"
      ],
      "text/plain": [
       "                                          Company    Posted Rating\n",
       "0  Optum Global Solutions (India) Private Limited    7d ago    4.1\n",
       "1                            Ameriprise Financial    2d ago    4.1\n",
       "2  Optum Global Solutions (India) Private Limited   28d ago    4.1\n",
       "3                                Steria India Ltd   19d ago    4.1\n",
       "4                                Steria India Ltd   19d ago    4.1\n",
       "5                        HCL Technologies Limited   30d ago    3.8\n",
       "6                                           Zyoin    1d ago    4.2\n",
       "7                                        GI Group    2d ago    3.9\n",
       "8                                        GI Group    4d ago    3.9\n",
       "9                          IBM India Pvt. Limited  1mon ago    4.1"
      ]
     },
     "execution_count": 186,
     "metadata": {},
     "output_type": "execute_result"
    }
   ],
   "source": [
    "data=pd.DataFrame()\n",
    "data['Company']=company[1:11]\n",
    "data['Posted']=jobpost[:20:2]\n",
    "data['Rating']=Rating\n",
    "data"
   ]
  },
  {
   "cell_type": "code",
   "execution_count": 187,
   "id": "e6ee1473",
   "metadata": {},
   "outputs": [],
   "source": [
    "import selenium\n",
    "import pandas as pd\n",
    "from selenium import webdriver\n",
    "import time"
   ]
  },
  {
   "cell_type": "code",
   "execution_count": 188,
   "id": "4a2923a5",
   "metadata": {},
   "outputs": [
    {
     "name": "stderr",
     "output_type": "stream",
     "text": [
      "<ipython-input-188-a45c1c768693>:1: DeprecationWarning: executable_path has been deprecated, please pass in a Service object\n",
      "  driver=webdriver.Chrome(r'C:\\Users\\Neeraj Kumar\\Downloads\\chromedriver_win32\\chromedriver')\n"
     ]
    }
   ],
   "source": [
    "driver=webdriver.Chrome(r'C:\\Users\\Neeraj Kumar\\Downloads\\chromedriver_win32\\chromedriver')"
   ]
  },
  {
   "cell_type": "code",
   "execution_count": 189,
   "id": "e72ad92b",
   "metadata": {},
   "outputs": [],
   "source": [
    "url='https://www.ambitionbox.com/'"
   ]
  },
  {
   "cell_type": "code",
   "execution_count": 190,
   "id": "8381894d",
   "metadata": {},
   "outputs": [],
   "source": [
    "driver.get(url)"
   ]
  },
  {
   "cell_type": "code",
   "execution_count": 191,
   "id": "e1fae070",
   "metadata": {},
   "outputs": [
    {
     "name": "stderr",
     "output_type": "stream",
     "text": [
      "<ipython-input-191-0e05e7611209>:1: DeprecationWarning: find_element_by_* commands are deprecated. Please use find_element() instead\n",
      "  salaryselect=driver.find_element_by_xpath('/html/body/div[1]/nav/nav/a[4]')\n"
     ]
    }
   ],
   "source": [
    "salaryselect=driver.find_element_by_xpath('/html/body/div[1]/nav/nav/a[4]')\n",
    "salaryselect.click()#selected the salary section"
   ]
  },
  {
   "cell_type": "code",
   "execution_count": 192,
   "id": "e3cbecee",
   "metadata": {},
   "outputs": [
    {
     "name": "stderr",
     "output_type": "stream",
     "text": [
      "<ipython-input-192-fc8b2928cecd>:2: DeprecationWarning: find_element_by_* commands are deprecated. Please use find_element() instead\n",
      "  jobdes=driver.find_element_by_xpath('//input[@id=\"jobProfileSearchbox\"]')\n"
     ]
    }
   ],
   "source": [
    "time.sleep(2)\n",
    "jobdes=driver.find_element_by_xpath('//input[@id=\"jobProfileSearchbox\"]')\n",
    "jobdes.send_keys('Data Scientist')"
   ]
  },
  {
   "cell_type": "code",
   "execution_count": 193,
   "id": "aabb38bb",
   "metadata": {},
   "outputs": [
    {
     "name": "stderr",
     "output_type": "stream",
     "text": [
      "<ipython-input-193-d7b7df5b1469>:2: DeprecationWarning: find_element_by_* commands are deprecated. Please use find_element() instead\n",
      "  jobselect=driver.find_element_by_xpath('/html/body/div/div/div/main/section[1]/div[2]/div[1]/span/div/div/div[1]/div')\n"
     ]
    }
   ],
   "source": [
    "time.sleep(3)#Had to use the time function because had to select the option by delaying it by using the sleep function for 3 secs\n",
    "jobselect=driver.find_element_by_xpath('/html/body/div/div/div/main/section[1]/div[2]/div[1]/span/div/div/div[1]/div')\n",
    "time.sleep(3)\n",
    "jobselect.click()"
   ]
  },
  {
   "cell_type": "code",
   "execution_count": 194,
   "id": "04d806e9",
   "metadata": {},
   "outputs": [
    {
     "name": "stderr",
     "output_type": "stream",
     "text": [
      "<ipython-input-194-133f4191bef5>:2: DeprecationWarning: find_elements_by_* commands are deprecated. Please use find_elements() instead\n",
      "  comp=driver.find_elements_by_xpath('//div[@class=\"name\"]/a')\n"
     ]
    },
    {
     "data": {
      "text/plain": [
       "['Ab Inbev',\n",
       " 'Optum',\n",
       " 'Fractal Analytics',\n",
       " 'Tiger Analytics',\n",
       " 'UnitedHealth',\n",
       " 'Verizon',\n",
       " 'Ganit Business Solutions',\n",
       " 'Deloitte',\n",
       " 'Ernst & Young',\n",
       " 'Ericsson']"
      ]
     },
     "execution_count": 194,
     "metadata": {},
     "output_type": "execute_result"
    }
   ],
   "source": [
    "#scraping the data\n",
    "comp=driver.find_elements_by_xpath('//div[@class=\"name\"]/a')\n",
    "company=[]\n",
    "for i in comp:\n",
    "    company.append(i.text)\n",
    "company"
   ]
  },
  {
   "cell_type": "code",
   "execution_count": 195,
   "id": "57019e77",
   "metadata": {},
   "outputs": [
    {
     "name": "stderr",
     "output_type": "stream",
     "text": [
      "<ipython-input-195-9404092025f2>:1: DeprecationWarning: find_elements_by_* commands are deprecated. Please use find_elements() instead\n",
      "  exp=driver.find_elements_by_xpath('//div[@class=\"salaries sbold-list-header\"]')\n"
     ]
    },
    {
     "data": {
      "text/plain": [
       "['4 yrs exp',\n",
       " '3-4 yrs exp',\n",
       " '2-4 yrs exp',\n",
       " '3-4 yrs exp',\n",
       " '2-4 yrs exp',\n",
       " '4 yrs exp',\n",
       " '4 yrs exp',\n",
       " '2-4 yrs exp',\n",
       " '3-4 yrs exp',\n",
       " '3-4 yrs exp']"
      ]
     },
     "execution_count": 195,
     "metadata": {},
     "output_type": "execute_result"
    }
   ],
   "source": [
    "exp=driver.find_elements_by_xpath('//div[@class=\"salaries sbold-list-header\"]')\n",
    "experience=[]\n",
    "for i in exp:\n",
    "    experience.append(i.text.split('Data Scientist\\n . \\n')[1])\n",
    "experience"
   ]
  },
  {
   "cell_type": "code",
   "execution_count": 196,
   "id": "f96538d8",
   "metadata": {},
   "outputs": [
    {
     "name": "stderr",
     "output_type": "stream",
     "text": [
      "<ipython-input-196-5ca0f3f8fe11>:1: DeprecationWarning: find_elements_by_* commands are deprecated. Please use find_elements() instead\n",
      "  sal=driver.find_elements_by_xpath('//div[@class=\"value body-medium\"]')\n"
     ]
    },
    {
     "data": {
      "text/plain": [
       "['₹ 15.0L',\n",
       " '₹ 11.0L',\n",
       " '₹ 9.0L',\n",
       " '₹ 8.3L',\n",
       " '₹ 7.2L',\n",
       " '₹ 10.0L',\n",
       " '₹ 8.5L',\n",
       " '₹ 6.9L',\n",
       " '₹ 6.0L',\n",
       " '₹ 5.0L']"
      ]
     },
     "execution_count": 196,
     "metadata": {},
     "output_type": "execute_result"
    }
   ],
   "source": [
    "sal=driver.find_elements_by_xpath('//div[@class=\"value body-medium\"]')\n",
    "Minsalary=[]\n",
    "for i in sal:\n",
    "    Minsalary.append(i.text)\n",
    "Minsalary[0:20:2]"
   ]
  },
  {
   "cell_type": "code",
   "execution_count": 197,
   "id": "b6d10a79",
   "metadata": {},
   "outputs": [
    {
     "data": {
      "text/plain": [
       "['₹ 23.0L',\n",
       " '₹ 21.3L',\n",
       " '₹ 20.8L',\n",
       " '₹ 18.5L',\n",
       " '₹ 20.5L',\n",
       " '₹ 21.0L',\n",
       " '₹ 15.0L',\n",
       " '₹ 20.5L',\n",
       " '₹ 20.0L',\n",
       " '₹ 21.5L']"
      ]
     },
     "execution_count": 197,
     "metadata": {},
     "output_type": "execute_result"
    }
   ],
   "source": [
    "Maxsalary=[]\n",
    "for i in sal:\n",
    "    Maxsalary.append(i.text)\n",
    "Maxsalary[1:20:2]"
   ]
  },
  {
   "cell_type": "code",
   "execution_count": 198,
   "id": "5cf8d45f",
   "metadata": {},
   "outputs": [
    {
     "name": "stderr",
     "output_type": "stream",
     "text": [
      "<ipython-input-198-f8ca1922dd30>:1: DeprecationWarning: find_elements_by_* commands are deprecated. Please use find_elements() instead\n",
      "  avg=driver.find_elements_by_xpath('//p[@class=\"averageCtc\"]')\n"
     ]
    },
    {
     "data": {
      "text/plain": [
       "['₹ 19.4L',\n",
       " '₹ 15.1L',\n",
       " '₹ 14.7L',\n",
       " '₹ 13.4L',\n",
       " '₹ 13.3L',\n",
       " '₹ 12.7L',\n",
       " '₹ 12.4L',\n",
       " '₹ 11.2L',\n",
       " '₹ 11.1L',\n",
       " '₹ 10.9L']"
      ]
     },
     "execution_count": 198,
     "metadata": {},
     "output_type": "execute_result"
    }
   ],
   "source": [
    "avg=driver.find_elements_by_xpath('//p[@class=\"averageCtc\"]')\n",
    "Avgsalary=[]\n",
    "for i in avg:\n",
    "    Avgsalary.append(i.text)\n",
    "Avgsalary"
   ]
  },
  {
   "cell_type": "code",
   "execution_count": 199,
   "id": "79158b79",
   "metadata": {},
   "outputs": [
    {
     "data": {
      "text/html": [
       "<div>\n",
       "<style scoped>\n",
       "    .dataframe tbody tr th:only-of-type {\n",
       "        vertical-align: middle;\n",
       "    }\n",
       "\n",
       "    .dataframe tbody tr th {\n",
       "        vertical-align: top;\n",
       "    }\n",
       "\n",
       "    .dataframe thead th {\n",
       "        text-align: right;\n",
       "    }\n",
       "</style>\n",
       "<table border=\"1\" class=\"dataframe\">\n",
       "  <thead>\n",
       "    <tr style=\"text-align: right;\">\n",
       "      <th></th>\n",
       "      <th>Company</th>\n",
       "      <th>Min Salary</th>\n",
       "      <th>Max Salary</th>\n",
       "      <th>Avg Salary</th>\n",
       "    </tr>\n",
       "  </thead>\n",
       "  <tbody>\n",
       "    <tr>\n",
       "      <th>0</th>\n",
       "      <td>Ab Inbev</td>\n",
       "      <td>₹ 15.0L</td>\n",
       "      <td>₹ 23.0L</td>\n",
       "      <td>₹ 19.4L</td>\n",
       "    </tr>\n",
       "    <tr>\n",
       "      <th>1</th>\n",
       "      <td>Optum</td>\n",
       "      <td>₹ 11.0L</td>\n",
       "      <td>₹ 21.3L</td>\n",
       "      <td>₹ 15.1L</td>\n",
       "    </tr>\n",
       "    <tr>\n",
       "      <th>2</th>\n",
       "      <td>Fractal Analytics</td>\n",
       "      <td>₹ 9.0L</td>\n",
       "      <td>₹ 20.8L</td>\n",
       "      <td>₹ 14.7L</td>\n",
       "    </tr>\n",
       "    <tr>\n",
       "      <th>3</th>\n",
       "      <td>Tiger Analytics</td>\n",
       "      <td>₹ 8.3L</td>\n",
       "      <td>₹ 18.5L</td>\n",
       "      <td>₹ 13.4L</td>\n",
       "    </tr>\n",
       "    <tr>\n",
       "      <th>4</th>\n",
       "      <td>UnitedHealth</td>\n",
       "      <td>₹ 7.2L</td>\n",
       "      <td>₹ 20.5L</td>\n",
       "      <td>₹ 13.3L</td>\n",
       "    </tr>\n",
       "    <tr>\n",
       "      <th>5</th>\n",
       "      <td>Verizon</td>\n",
       "      <td>₹ 10.0L</td>\n",
       "      <td>₹ 21.0L</td>\n",
       "      <td>₹ 12.7L</td>\n",
       "    </tr>\n",
       "    <tr>\n",
       "      <th>6</th>\n",
       "      <td>Ganit Business Solutions</td>\n",
       "      <td>₹ 8.5L</td>\n",
       "      <td>₹ 15.0L</td>\n",
       "      <td>₹ 12.4L</td>\n",
       "    </tr>\n",
       "    <tr>\n",
       "      <th>7</th>\n",
       "      <td>Deloitte</td>\n",
       "      <td>₹ 6.9L</td>\n",
       "      <td>₹ 20.5L</td>\n",
       "      <td>₹ 11.2L</td>\n",
       "    </tr>\n",
       "    <tr>\n",
       "      <th>8</th>\n",
       "      <td>Ernst &amp; Young</td>\n",
       "      <td>₹ 6.0L</td>\n",
       "      <td>₹ 20.0L</td>\n",
       "      <td>₹ 11.1L</td>\n",
       "    </tr>\n",
       "    <tr>\n",
       "      <th>9</th>\n",
       "      <td>Ericsson</td>\n",
       "      <td>₹ 5.0L</td>\n",
       "      <td>₹ 21.5L</td>\n",
       "      <td>₹ 10.9L</td>\n",
       "    </tr>\n",
       "  </tbody>\n",
       "</table>\n",
       "</div>"
      ],
      "text/plain": [
       "                    Company Min Salary Max Salary Avg Salary\n",
       "0                  Ab Inbev    ₹ 15.0L    ₹ 23.0L    ₹ 19.4L\n",
       "1                     Optum    ₹ 11.0L    ₹ 21.3L    ₹ 15.1L\n",
       "2         Fractal Analytics     ₹ 9.0L    ₹ 20.8L    ₹ 14.7L\n",
       "3           Tiger Analytics     ₹ 8.3L    ₹ 18.5L    ₹ 13.4L\n",
       "4              UnitedHealth     ₹ 7.2L    ₹ 20.5L    ₹ 13.3L\n",
       "5                   Verizon    ₹ 10.0L    ₹ 21.0L    ₹ 12.7L\n",
       "6  Ganit Business Solutions     ₹ 8.5L    ₹ 15.0L    ₹ 12.4L\n",
       "7                  Deloitte     ₹ 6.9L    ₹ 20.5L    ₹ 11.2L\n",
       "8             Ernst & Young     ₹ 6.0L    ₹ 20.0L    ₹ 11.1L\n",
       "9                  Ericsson     ₹ 5.0L    ₹ 21.5L    ₹ 10.9L"
      ]
     },
     "execution_count": 199,
     "metadata": {},
     "output_type": "execute_result"
    }
   ],
   "source": [
    "Data=pd.DataFrame()\n",
    "Data['Company']=company\n",
    "Data['Min Salary']=Minsalary[0:20:2]\n",
    "Data['Max Salary']=Maxsalary[1:20:2]\n",
    "Data['Avg Salary']=Avgsalary\n",
    "Data"
   ]
  },
  {
   "cell_type": "code",
   "execution_count": null,
   "id": "8394f01c",
   "metadata": {},
   "outputs": [],
   "source": []
  }
 ],
 "metadata": {
  "kernelspec": {
   "display_name": "Python 3",
   "language": "python",
   "name": "python3"
  },
  "language_info": {
   "codemirror_mode": {
    "name": "ipython",
    "version": 3
   },
   "file_extension": ".py",
   "mimetype": "text/x-python",
   "name": "python",
   "nbconvert_exporter": "python",
   "pygments_lexer": "ipython3",
   "version": "3.8.8"
  }
 },
 "nbformat": 4,
 "nbformat_minor": 5
}
